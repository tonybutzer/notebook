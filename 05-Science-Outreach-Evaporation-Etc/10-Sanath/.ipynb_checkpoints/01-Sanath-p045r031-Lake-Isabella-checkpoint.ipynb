{
 "cells": [
  {
   "cell_type": "markdown",
   "metadata": {},
   "source": [
    "# Sanath path 041 Row 035\n",
    "\n",
    "1. Load AOI from GeoJson"
   ]
  },
  {
   "cell_type": "code",
   "execution_count": null,
   "metadata": {},
   "outputs": [],
   "source": [
    "!ls"
   ]
  },
  {
   "cell_type": "code",
   "execution_count": null,
   "metadata": {},
   "outputs": [],
   "source": [
    "my_aoi_file = 'isabella-lake.geojson'\n",
    "from notebookLib.nb_display import Ldisplay\n",
    "ld = Ldisplay()\n",
    "ld.map_geojson(my_aoi_file)"
   ]
  },
  {
   "cell_type": "code",
   "execution_count": null,
   "metadata": {},
   "outputs": [],
   "source": [
    "import json \n",
    "\n",
    "with open(my_aoi_file) as f:\n",
    "    data = json.load(f)\n",
    "    \n",
    "data\n",
    "    \n"
   ]
  },
  {
   "cell_type": "code",
   "execution_count": null,
   "metadata": {},
   "outputs": [],
   "source": [
    "coord = data['features'][0]['geometry']['coordinates']\n",
    "\n",
    "x1 = coord[0][0][0]\n",
    "x1"
   ]
  },
  {
   "cell_type": "code",
   "execution_count": null,
   "metadata": {},
   "outputs": [],
   "source": [
    "y1 = coord[0][0][1]\n",
    "y1"
   ]
  },
  {
   "cell_type": "code",
   "execution_count": null,
   "metadata": {},
   "outputs": [],
   "source": [
    "x2 = coord[0][2][0]\n",
    "x2"
   ]
  },
  {
   "cell_type": "code",
   "execution_count": null,
   "metadata": {},
   "outputs": [],
   "source": [
    "y2 = coord[0][2][1]\n",
    "y2"
   ]
  },
  {
   "cell_type": "code",
   "execution_count": null,
   "metadata": {},
   "outputs": [],
   "source": [
    "import datacube\n",
    "from odc.ui import with_ui_cbk"
   ]
  },
  {
   "cell_type": "code",
   "execution_count": null,
   "metadata": {},
   "outputs": [],
   "source": [
    "dc = datacube.Datacube()\n",
    "ds = dc.find_datasets(product= \"c1l2scenealbers\",\n",
    "                     x=(x1, x2),\n",
    "                y=(y1, y2),)"
   ]
  },
  {
   "cell_type": "code",
   "execution_count": null,
   "metadata": {},
   "outputs": [],
   "source": [
    "len(ds)"
   ]
  },
  {
   "cell_type": "code",
   "execution_count": null,
   "metadata": {},
   "outputs": [],
   "source": [
    "EPSG='5072'\n",
    "\n",
    "\n",
    "'''\n",
    "meas=[ \n",
    "    'blue',                              \n",
    "    'green',                            \n",
    "    'red',                                \n",
    "]\n",
    "'''\n",
    "\n",
    "meas=[ \n",
    "    'swir_1',                              \n",
    "    'nir',                            \n",
    "    'green',                                \n",
    "]\n",
    "\n",
    "'''\n",
    "meas=['coastal_aerosol', \n",
    "    'blue',                              \n",
    "    'green',                            \n",
    "    'red',                                \n",
    "    'nir',                              \n",
    "    'swir_1',                             \n",
    "    'swir_2',                             \n",
    "    'quality_l2_aerosol']  \n",
    "'''\n",
    "\n",
    "ds2 = dc.load(product=\"c1l2scenealbers\", datasets=ds, \n",
    "                measurements=meas, \n",
    "                output_crs='epsg:' + EPSG,\n",
    "                resolution=(-30, 30),\n",
    "                x=(x1, x2),\n",
    "                y=(y1, y2),\n",
    "                progress_cbk=with_ui_cbk()\n",
    "              \n",
    "             )"
   ]
  },
  {
   "cell_type": "code",
   "execution_count": null,
   "metadata": {},
   "outputs": [],
   "source": [
    "ds2"
   ]
  },
  {
   "cell_type": "code",
   "execution_count": null,
   "metadata": {},
   "outputs": [],
   "source": [
    "%matplotlib inline\n",
    "bands = ['swir_1', 'nir', 'green'] #False Colour\n",
    "no_time_steps = 16\n",
    "for time_step in range(no_time_steps):\n",
    "    ds2[bands].isel(time=time_step).to_array().plot.imshow(robust=True, figsize=(5, 5))"
   ]
  },
  {
   "cell_type": "code",
   "execution_count": null,
   "metadata": {},
   "outputs": [],
   "source": []
  }
 ],
 "metadata": {
  "kernelspec": {
   "display_name": "Python 3",
   "language": "python",
   "name": "python3"
  },
  "language_info": {
   "codemirror_mode": {
    "name": "ipython",
    "version": 3
   },
   "file_extension": ".py",
   "mimetype": "text/x-python",
   "name": "python",
   "nbconvert_exporter": "python",
   "pygments_lexer": "ipython3",
   "version": "3.6.8"
  }
 },
 "nbformat": 4,
 "nbformat_minor": 2
}
