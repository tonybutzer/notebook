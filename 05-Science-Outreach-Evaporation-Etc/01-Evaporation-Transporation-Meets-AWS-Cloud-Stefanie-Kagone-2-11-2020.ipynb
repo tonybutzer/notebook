{
 "cells": [
  {
   "cell_type": "markdown",
   "metadata": {},
   "source": [
    "## 01-Evaporation-Transporation-Meets-AWS-Cloud-Stefanie-Kagone-2-11-2020\n",
    "\n",
    "# Outline:\n",
    "\n",
    "###  >> Purpose and Mission\n",
    "\n",
    "###  >> Storage\n",
    "####  +++ Known Data Lakes\n",
    "\n",
    "###  >> Compute\n",
    "###  >> Network\n",
    "###  >> Open Data Cube\n",
    "## PANGEO\n",
    "###  >> Architecture and Philosophy\n",
    "###  >> Future - yes I can do LAndsat Science on my Phone!\n",
    "###  ** Jupyter Setups - numerous and growing\n",
    "####  ++ Sandboxes Notable\n",
    "#### Jupyter Notebook and Jupyter Labs\n",
    "## What's Next\n",
    "####  ?? Small Pilots\n",
    "#### --> Action: CHS authorization for science\n",
    "\n",
    "---\n",
    "# Data\n",
    "## >> Curating\n",
    "## Data Access\n",
    "###  ++ S3 is like NFS on steriods\n",
    "###  ++ XARRAYs are a powerful abstraction where customized spatial/temporal/muli-sensor cubes are being constructed\n",
    "###  +++ Real-time data slicing allows you to just get the pixel and qa data you want NOW!\n",
    "\n",
    "---\n",
    "---\n",
    "\n",
    "# Notebook eclectic repo and demo's\n",
    "\n"
   ]
  },
  {
   "cell_type": "markdown",
   "metadata": {},
   "source": [
    "---\n",
    "\n",
    "# Purpose and Mission\n",
    "\n",
    "## Essentially Concierge to the Scientist (Role)\n",
    "\n",
    "## Path-find and demonstrate cloud optimized strategies for easy science exploitation\n",
    "\n"
   ]
  },
  {
   "cell_type": "code",
   "execution_count": 9,
   "metadata": {},
   "outputs": [
    {
     "data": {
      "text/html": [
       "\n",
       "        <iframe\n",
       "            width=\"900\"\n",
       "            height=\"800\"\n",
       "            src=\"https://vizteck.com/blog/5-benefits-of-using-amazon-s3-vs-your-own-server-for-hosting-imagesvideos/\"\n",
       "            frameborder=\"0\"\n",
       "            allowfullscreen\n",
       "        ></iframe>\n",
       "        "
      ],
      "text/plain": [
       "<IPython.lib.display.IFrame at 0x7fee41fbfb70>"
      ]
     },
     "execution_count": 9,
     "metadata": {},
     "output_type": "execute_result"
    }
   ],
   "source": [
    "from IPython.display import IFrame\n",
    "IFrame('https://vizteck.com/blog/5-benefits-of-using-amazon-s3-vs-your-own-server-for-hosting-imagesvideos/', width=900, height=800)\n",
    "\n",
    "# https://vizteck.com/blog/5-benefits-of-using-amazon-s3-vs-your-own-server-for-hosting-imagesvideos/"
   ]
  },
  {
   "cell_type": "markdown",
   "metadata": {},
   "source": [
    "---\n",
    "---\n",
    "# Storage\n",
    "\n",
    "# S3\n",
    "\n",
    "##  ++ Simple\n",
    "##  ++ Scalable\n",
    "##  ++ Cost Effective\n",
    "##  ++ Ubiquitous\n",
    "##  ++ Direct Access - no damn portal - no need to buy local storage\n",
    "##  ++ Management of data organization and migration policies is <u>\"someone else's problem!\"\n",
    "\n",
    "<u>someone else's problem\n",
    "\n",
    "## Known Data Lakes\n",
    "\n",
    "1. C1_L2_Albers_USA --bucket **dev-usgs-landsat** --prefix collection1/**level2/albers/oli-tirs/2018**/046/028/\n",
    "2. Digital Earth Africa Collection-2(**PROVISIONAL**)\n",
    "    - produced at EROS using AWS - 4 days of fun\n",
    "    - C2-Provisional\n",
    "    - L8 only\n",
    "    - the whole f-ing continent of Africa\n",
    "    - likely in US-WEST-2 - Oregon Cloud Region/Space/Data-Centers\n",
    "    - I should get CHS access to this from GA\n",
    "    \n",
    "3. **PUBLIC USGS Collection2** - Kristi Kline and Renee Pieschke -- **\"Spring\" 2020**\n",
    "4. Nigera-2018 test data not COG - accessable via CHS and C2-like metadata\n",
    "5. Earth On AWS - PDS -- Planet/Amazon Hosted Level-1 Landsat 8 data **PUBLIC**\n",
    "6. **NOT** USARD Tiles - unless heavily coerced!\n",
    "\n",
    "## What Region"
   ]
  },
  {
   "cell_type": "markdown",
   "metadata": {},
   "source": [
    "---\n",
    "# Jupyter Setups/Sandboxes\n",
    "\n",
    "## Ordered by EROS Scientist Relevance\n",
    "\n",
    "### 1. USGS PANGEO Sandbox\n",
    "1. Sanctioned and endorsed by USGS Leadership\n",
    "2. Ubiquitous and least expensive data access to Colelction-2\n",
    "3. Supported by Renee's team; Supported bi USGS IT\n",
    "4. https://pangeo.usgs.gov\n",
    "5. Need to register as an authenticated user\n",
    "\n",
    "### 2. Private CHS Sandboxes - Tony etc.\n",
    "1. Flexible can load other libraries and datbases\n",
    "2. Can be stood up for a specific class or application path-finding exercise\n",
    "3. - Not formally sanctioned\n",
    "\n",
    "### 3. PANGEO ESIP Funded\n",
    "1. https://binder.pangeo.io/   ### **GOOGLE CLOUD PLATFORM**\n",
    "2. https://aws-uswest2-binder.pangeo.io/  ### *AWS*  **uswest2** - the cience watering hole\n",
    "3. Cool and powerful - **BUT** best effort supported\n",
    "\n",
    "### 4. Open Data Cube Sponsered by the Aussies\n",
    "1. https://admin.digitalearth.africa/user/tonybutzer/lab/workspaces/auto-J\n",
    "2. Collection-2 Dress rehearsal - data available now - but limited to a select few users.\n",
    "3. The Aussies are by far the best at managing scalable infrastructure in the cloud\n",
    "4. Robust, Flexible and **SCALABLE** in many ways\n",
    "5. show demo of ODC **CLASSROOM** work - coming this summer to EROS - **Important Awareness**\n",
    "    - //21-Open-Data-Cube-Examples-Tutorials/Begginers_guide/04_Plottting.ipynb  **SHOW THIS**\n"
   ]
  },
  {
   "cell_type": "markdown",
   "metadata": {},
   "source": [
    "---\n",
    "\n",
    "# Compute:\n"
   ]
  },
  {
   "cell_type": "markdown",
   "metadata": {},
   "source": [
    "## Click here (middle)\n",
    "\n",
    "https://aws.amazon.com/ec2/\n",
    "\n",
    "## Aws instance types\n",
    "\n",
    "- t2.micro\n",
    "- t3a.xlarge\n",
    "\n",
    "## Scaling\n",
    "\n",
    "### +++ Serverless Lambda\n",
    "### +++ AWS Batch\n",
    "### +++ Kubernetes Orchestration\n",
    "### +++ DASK\n",
    "### +++ Auto-scaling groups"
   ]
  },
  {
   "cell_type": "markdown",
   "metadata": {},
   "source": [
    "---\n",
    "---\n",
    "\n",
    "# Networking VPCs, subnets/masks, security groups - out of scope\n",
    "### Suffice to say - if I am at EROS or on the VPN - I can get to my instance\n",
    "\n",
    "## ssh\n",
    "### Port 80 and 8080\n",
    "### ssh tunnels are interesting :-)"
   ]
  },
  {
   "cell_type": "code",
   "execution_count": null,
   "metadata": {},
   "outputs": [],
   "source": []
  }
 ],
 "metadata": {
  "kernelspec": {
   "display_name": "Python 3",
   "language": "python",
   "name": "python3"
  },
  "language_info": {
   "codemirror_mode": {
    "name": "ipython",
    "version": 3
   },
   "file_extension": ".py",
   "mimetype": "text/x-python",
   "name": "python",
   "nbconvert_exporter": "python",
   "pygments_lexer": "ipython3",
   "version": "3.6.8"
  }
 },
 "nbformat": 4,
 "nbformat_minor": 2
}
