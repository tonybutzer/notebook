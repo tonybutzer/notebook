{
 "cells": [
  {
   "cell_type": "markdown",
   "metadata": {},
   "source": [
    "## P4 ODC Cloud Engineering Weekly\n",
    "\n",
    "- to: Brian Sauer, Cory Van Batavia\n",
    "- from: Tony Butzer\n",
    "- Date: 08-25-2017\n",
    "\n",
    "### Preface\n",
    "\n",
    "This is a sample P4 - this is one level of reporting we may want to consider for staying up to date on what is happening in Open Data Cube land.\n",
    "\n",
    "### Progress\n",
    "\n",
    "1. Set up office structure at home with standing desk\n",
    "2. Started AWS training\n",
    "   - AWS for dummies\n",
    "   - AWS tutrorials\n",
    "3. AWS LABS\n",
    "   - signed up for AWS free tier; created ec2.micro instance with 8 Gb storage\n",
    "   - AMI credentials\n",
    "   - CLI jupyter notebooks\n",
    "   - CLI Cheat sheet\n",
    "   - Installed Docker on AWS Linux; - easy\n",
    "      - Created a kanboard container and tested it\n",
    "   - S3 bucket from AWS Management Console\n",
    "   - Billing/over-billing alerts set\n",
    "\n",
    "### Plans 8/29 --> 9/1\n",
    "\n",
    "1. Mostly EROS onboarding\n",
    "   - Badge\n",
    "   - Computer\n",
    "   - Phone\n",
    "2. \n",
    "\n",
    "### Problems\n",
    "\n",
    "1. Will be gone to Utah week of 9/3 --> 9/10; back at EROS on 9/11\n",
    "   - need to figure out LWOP and timesheets\n",
    "   - timesheets are not a core strength for me\n",
    "\n",
    "### Prouds\n",
    "\n",
    "1. Acepted a position as ODC Cloud Engineer\n",
    "2. Started to look at the project initiation and scoping for this task\n",
    "3. Conquered the initial AWS Journey - pretty vast canvas\n"
   ]
  }
 ],
 "metadata": {
  "kernelspec": {
   "display_name": "Python 3",
   "language": "python",
   "name": "python3"
  },
  "language_info": {
   "codemirror_mode": {
    "name": "ipython",
    "version": 3
   },
   "file_extension": ".py",
   "mimetype": "text/x-python",
   "name": "python",
   "nbconvert_exporter": "python",
   "pygments_lexer": "ipython3",
   "version": "3.5.1"
  }
 },
 "nbformat": 4,
 "nbformat_minor": 0
}
