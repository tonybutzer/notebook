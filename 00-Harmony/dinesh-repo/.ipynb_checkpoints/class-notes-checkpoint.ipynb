{
 "cells": [
  {
   "cell_type": "code",
   "execution_count": 1,
   "metadata": {},
   "outputs": [
    {
     "name": "stdout",
     "output_type": "stream",
     "text": [
      "--2021-02-05 16:36:43--  https://raw.githubusercontent.com/tonybutzer/notebook/master/Makefile\n",
      "Resolving raw.githubusercontent.com (raw.githubusercontent.com)... 151.101.52.133\n",
      "Connecting to raw.githubusercontent.com (raw.githubusercontent.com)|151.101.52.133|:443... connected.\n",
      "HTTP request sent, awaiting response... 200 OK\n",
      "Length: 454 [text/plain]\n",
      "Saving to: ‘Makefile’\n",
      "\n",
      "Makefile            100%[===================>]     454  --.-KB/s    in 0s      \n",
      "\n",
      "2021-02-05 16:36:43 (34.3 MB/s) - ‘Makefile’ saved [454/454]\n",
      "\n"
     ]
    }
   ],
   "source": [
    "#! wget https://raw.githubusercontent.com/tonybutzer/notebook/master/Makefile"
   ]
  },
  {
   "cell_type": "code",
   "execution_count": 3,
   "metadata": {},
   "outputs": [
    {
     "data": {
      "text/markdown": [
       "# Goals\n",
       "1. Practice self directed study in a pangeo/jupyter environment\n",
       "2. Practice loading Python Libraries\n",
       "3. geojson.io --> AOI\n",
       "4. use landsat-pds public cloud COGS to understand why this is cool\n",
       "5. harmony mini-pangeo 10.12.69.233\n",
       "\n",
       "# Libraries used in the Lab\n",
       "1. https://github.com/tonybutzer/logan.git\n",
       "2. http://github.com/tonybutzer/lite-stac\n",
       "\n",
       "# Makefiles - so worth it\n"
      ],
      "text/plain": [
       "<IPython.core.display.Markdown object>"
      ]
     },
     "metadata": {},
     "output_type": "display_data"
    }
   ],
   "source": [
    "from IPython.display import display, Markdown\n",
    "\n",
    "with open('lesson-plan.md', 'r') as fh:\n",
    "    content = fh.read()\n",
    "\n",
    "display(Markdown(content))"
   ]
  },
  {
   "cell_type": "code",
   "execution_count": null,
   "metadata": {},
   "outputs": [],
   "source": []
  }
 ],
 "metadata": {
  "kernelspec": {
   "display_name": "Python 3",
   "language": "python",
   "name": "python3"
  },
  "language_info": {
   "codemirror_mode": {
    "name": "ipython",
    "version": 3
   },
   "file_extension": ".py",
   "mimetype": "text/x-python",
   "name": "python",
   "nbconvert_exporter": "python",
   "pygments_lexer": "ipython3",
   "version": "3.7.3"
  }
 },
 "nbformat": 4,
 "nbformat_minor": 4
}
