{
 "cells": [
  {
   "cell_type": "code",
   "execution_count": 1,
   "metadata": {},
   "outputs": [
    {
     "name": "stdout",
     "output_type": "stream",
     "text": [
      "bokeh                  2.2.3      \n",
      "\u001b[33mWARNING: The directory '/home/jupyter-ubuntu/.cache/pip/http' or its parent directory is not owned by the current user and the cache has been disabled. Please check the permissions and owner of that directory. If executing pip with sudo, you may want sudo's -H flag.\u001b[0m\n",
      "Note: you may need to restart the kernel to use updated packages.\n"
     ]
    }
   ],
   "source": [
    "pip list | grep bokeh"
   ]
  },
  {
   "cell_type": "code",
   "execution_count": 2,
   "metadata": {},
   "outputs": [],
   "source": [
    "# Simple Viewer ET Annual"
   ]
  },
  {
   "cell_type": "code",
   "execution_count": 3,
   "metadata": {},
   "outputs": [
    {
     "name": "stdout",
     "output_type": "stream",
     "text": [
      "env: BOKEH_ALLOW_WS_ORIGIN=10.12.68.246,localhost\n"
     ]
    }
   ],
   "source": [
    "%env BOKEH_ALLOW_WS_ORIGIN=10.12.68.246,localhost"
   ]
  },
  {
   "cell_type": "code",
   "execution_count": 4,
   "metadata": {},
   "outputs": [
    {
     "ename": "ModuleNotFoundError",
     "evalue": "No module named 'hvplot'",
     "output_type": "error",
     "traceback": [
      "\u001b[0;31m---------------------------------------------------------------------------\u001b[0m",
      "\u001b[0;31mModuleNotFoundError\u001b[0m                       Traceback (most recent call last)",
      "\u001b[0;32m<ipython-input-4-ec95a08dba68>\u001b[0m in \u001b[0;36m<module>\u001b[0;34m\u001b[0m\n\u001b[0;32m----> 1\u001b[0;31m \u001b[0;32mimport\u001b[0m \u001b[0mhvplot\u001b[0m\u001b[0;34m.\u001b[0m\u001b[0mxarray\u001b[0m\u001b[0;34m\u001b[0m\u001b[0;34m\u001b[0m\u001b[0m\n\u001b[0m",
      "\u001b[0;31mModuleNotFoundError\u001b[0m: No module named 'hvplot'"
     ]
    }
   ],
   "source": [
    "import hvplot.xarray"
   ]
  },
  {
   "cell_type": "code",
   "execution_count": null,
   "metadata": {},
   "outputs": [],
   "source": [
    "import pandas as pd; import numpy as np; import matplotlib.pyplot as plt\n",
    "import panel as pn\n",
    "pn.extension()"
   ]
  },
  {
   "cell_type": "code",
   "execution_count": null,
   "metadata": {},
   "outputs": [],
   "source": [
    "import xarray as xr\n",
    "collection_list = ['s3://dev-et-data/enduser/DelawareRiverBasin/drb150/Annual/', 's3://dev-et-data/enduser/DelawareRiverBasin/Run09_13_2020/ward_sandford_customer/Annual/']\n",
    "\n",
    "col = {'drb150':collection_list[0], 'sanford':collection_list[1]}\n",
    "def img_plot_proxy(variable='dd_', collection='drb150', \n",
    "                   myyear=2018):\n",
    "    #img = 's3://dev-et-data/enduser/DelawareRiverBasin/drb150/Annual/'\n",
    "    collection_path=col[collection]\n",
    "    img=collection_path\n",
    "    img = img + variable + str(myyear) + '.tif'\n",
    "    da = xr.open_rasterio(img)\n",
    "    da_masked = da.where(da<10000.0)\n",
    "    da_masked = da_masked.where(da>0.0)\n",
    "    #da_masked = da.where(da>0.0)\n",
    "    img_figure = da_masked.hvplot.image(dynamic=False,rasterize=True,grid=True, invert=False, width=400, height=500, cmap='viridis')\n",
    "    #img_figure = da_masked.plot()\n",
    "    print(\"why did you call me\")\n",
    "    return(img_figure)"
   ]
  },
  {
   "cell_type": "code",
   "execution_count": null,
   "metadata": {},
   "outputs": [],
   "source": [
    "product_list = ['etasw_', 'srf_', 'dd_', 'etc_', 'netet_']\n",
    "colid_list=['drb150', 'sanford']\n",
    "\n",
    "# Eta (Etasw)\n",
    "# \tSurface Runoff (SRF)\n",
    "# \tDeep drainage (DD)\n",
    "# \tnetet (netet)\n",
    "# \tcrop eta (etc)\n",
    "# \tfinal soil water (SWf)\n",
    "#kw = dict(year=(1950, 2100), variable=sorted(steffi_list), month=(1, 12), collection=sorted(collection_list))\n",
    "#i = pn.interact(img_plot_proxy, **kw)#\n",
    "# i.pprint()\n",
    "\n",
    "title = '## ET Annual Image Browser'\n",
    "\n",
    "year_slider = pn.widgets.IntSlider(name='year1', value=2018, start=1950, end=2100)\n",
    "product_select = pn.widgets.Select(name='product1', options=product_list)\n",
    "collection_select = pn.widgets.Select(name='collection1', options=colid_list)\n",
    "\n",
    "@pn.depends(year_slider.param.value, product_select.param.value, collection_select.param.value)\n",
    "def refresh_holoview(year1, product1, collection1):\n",
    "    return(img_plot_proxy(myyear=year1, variable=product1, collection=collection1))"
   ]
  },
  {
   "cell_type": "code",
   "execution_count": null,
   "metadata": {},
   "outputs": [],
   "source": [
    "year_slider2 = pn.widgets.IntSlider(name='year2', value=2018, start=1950, end=2100)\n",
    "product_select2 = pn.widgets.Select(name='product2', options=product_list)\n",
    "collection_select2 = pn.widgets.Select(name='collection2', options=colid_list)\n",
    "\n",
    "@pn.depends(year_slider2.param.value, product_select2.param.value, collection_select2.param.value)\n",
    "def refresh_holoview2(year2, product2, collection2):\n",
    "    return(img_plot_proxy(myyear=year2, variable=product2, collection=collection2))"
   ]
  },
  {
   "cell_type": "code",
   "execution_count": null,
   "metadata": {},
   "outputs": [],
   "source": [
    "row = pn.Row(\n",
    "    pn.Column(title, refresh_holoview,year_slider, product_select, collection_select),\n",
    "    pn.Column(\"## 2nd var\", refresh_holoview2,year_slider2, product_select2, collection_select2)\n",
    ")\n",
    "\n",
    "row.servable()"
   ]
  },
  {
   "cell_type": "code",
   "execution_count": null,
   "metadata": {},
   "outputs": [],
   "source": [
    "#text = \"<br>\\n# ET Annual Image Viewer\\nSelect the variable, and then the year\\n#### - thanks for playin\\n- steffi\"\n",
    "\n",
    "#p = pn.Row(i[1][0])\n",
    "#p = pn.Row(i[1][0], pn.Column(text, i[0][0], i[0][2] ,i[0][1]))\n",
    "#p  # this is local to the nb - for development"
   ]
  },
  {
   "cell_type": "code",
   "execution_count": null,
   "metadata": {},
   "outputs": [],
   "source": [
    "row.show('ET View SidebySide',port=8443,ipaddress='0.0.0.0' ) \n",
    "#p.show('ET View veryRapidProto',port=8002,ipaddress='0.0.0.0' ) \n",
    "#p.show() #- this uses an ephemeral port - you have to tunnel"
   ]
  },
  {
   "cell_type": "markdown",
   "metadata": {},
   "source": [
    "# http://10.12.68.246:8443"
   ]
  },
  {
   "cell_type": "code",
   "execution_count": null,
   "metadata": {},
   "outputs": [],
   "source": [
    "help(year_slider.param.watch)"
   ]
  },
  {
   "cell_type": "code",
   "execution_count": null,
   "metadata": {},
   "outputs": [],
   "source": []
  }
 ],
 "metadata": {
  "kernelspec": {
   "display_name": "Python 3",
   "language": "python",
   "name": "python3"
  },
  "language_info": {
   "codemirror_mode": {
    "name": "ipython",
    "version": 3
   },
   "file_extension": ".py",
   "mimetype": "text/x-python",
   "name": "python",
   "nbconvert_exporter": "python",
   "pygments_lexer": "ipython3",
   "version": "3.7.3"
  }
 },
 "nbformat": 4,
 "nbformat_minor": 4
}
