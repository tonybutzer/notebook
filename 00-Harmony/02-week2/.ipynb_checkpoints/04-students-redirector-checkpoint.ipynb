{
 "cells": [
  {
   "cell_type": "code",
   "execution_count": 1,
   "metadata": {},
   "outputs": [
    {
     "name": "stdout",
     "output_type": "stream",
     "text": [
      "--2020-12-03 19:01:56--  https://raw.githubusercontent.com/tonybutzer/harmony/main/class/06-Instructor/01-Students.ipynb\n",
      "Resolving raw.githubusercontent.com (raw.githubusercontent.com)... 151.101.52.133\n",
      "Connecting to raw.githubusercontent.com (raw.githubusercontent.com)|151.101.52.133|:443... connected.\n",
      "HTTP request sent, awaiting response... 200 OK\n",
      "Length: 58331 (57K) [text/plain]\n",
      "Saving to: ‘01-Students.ipynb’\n",
      "\n",
      "01-Students.ipynb   100%[===================>]  56.96K  --.-KB/s    in 0.01s   \n",
      "\n",
      "2020-12-03 19:01:56 (5.84 MB/s) - ‘01-Students.ipynb’ saved [58331/58331]\n",
      "\n"
     ]
    }
   ],
   "source": [
    "#! wget https://raw.githubusercontent.com/tonybutzer/harmony/main/class/06-Instructor/01-Students.ipynb\n"
   ]
  },
  {
   "cell_type": "code",
   "execution_count": null,
   "metadata": {},
   "outputs": [],
   "source": [
    "%%javascript\n",
    "window.open('http://10.12.69.233/user/butzer/notebooks/opt/notebook/00-Harmony/02-week2/04-students.ipynb)"
   ]
  }
 ],
 "metadata": {
  "kernelspec": {
   "display_name": "Python 3",
   "language": "python",
   "name": "python3"
  },
  "language_info": {
   "codemirror_mode": {
    "name": "ipython",
    "version": 3
   },
   "file_extension": ".py",
   "mimetype": "text/x-python",
   "name": "python",
   "nbconvert_exporter": "python",
   "pygments_lexer": "ipython3",
   "version": "3.7.3"
  }
 },
 "nbformat": 4,
 "nbformat_minor": 4
}
