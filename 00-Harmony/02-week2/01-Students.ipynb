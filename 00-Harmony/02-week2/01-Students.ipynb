{
 "cells": [
  {
   "cell_type": "markdown",
   "metadata": {},
   "source": [
    "# References\n",
    "- https://kontext.tech/column/code-snippets/402/pandas-dataframe-plot-pie-chart\n",
    "- https://medium.com/dunder-data/selecting-subsets-of-data-in-pandas-6fcd0170be9c\n",
    "- https://data36.com/pandas-tutorial-2-aggregation-and-grouping/"
   ]
  },
  {
   "cell_type": "code",
   "execution_count": 1,
   "metadata": {},
   "outputs": [],
   "source": [
    "import pandas as pd"
   ]
  },
  {
   "cell_type": "code",
   "execution_count": 2,
   "metadata": {},
   "outputs": [],
   "source": [
    "df = pd.read_csv(\"students.csv\")"
   ]
  },
  {
   "cell_type": "code",
   "execution_count": 3,
   "metadata": {},
   "outputs": [
    {
     "data": {
      "text/html": [
       "<div>\n",
       "<style scoped>\n",
       "    .dataframe tbody tr th:only-of-type {\n",
       "        vertical-align: middle;\n",
       "    }\n",
       "\n",
       "    .dataframe tbody tr th {\n",
       "        vertical-align: top;\n",
       "    }\n",
       "\n",
       "    .dataframe thead th {\n",
       "        text-align: right;\n",
       "    }\n",
       "</style>\n",
       "<table border=\"1\" class=\"dataframe\">\n",
       "  <thead>\n",
       "    <tr style=\"text-align: right;\">\n",
       "      <th></th>\n",
       "      <th>lastname</th>\n",
       "      <th>firstname</th>\n",
       "      <th>boss</th>\n",
       "      <th>division</th>\n",
       "    </tr>\n",
       "  </thead>\n",
       "  <tbody>\n",
       "    <tr>\n",
       "      <th>0</th>\n",
       "      <td>Anthony</td>\n",
       "      <td>Michelle (Contractor) L</td>\n",
       "      <td>Calli (Contractor) Jenkerson</td>\n",
       "      <td>Science Division</td>\n",
       "    </tr>\n",
       "    <tr>\n",
       "      <th>1</th>\n",
       "      <td>Ballu</td>\n",
       "      <td>Anudeep (Contractor)</td>\n",
       "      <td>Calli (Contractor) Jenkerson</td>\n",
       "      <td>Science Division</td>\n",
       "    </tr>\n",
       "    <tr>\n",
       "      <th>2</th>\n",
       "      <td>Benedict</td>\n",
       "      <td>Trenton D</td>\n",
       "      <td>Calli (Contractor) Jenkerson</td>\n",
       "      <td>Science Division</td>\n",
       "    </tr>\n",
       "    <tr>\n",
       "      <th>3</th>\n",
       "      <td>Boyte</td>\n",
       "      <td>Stephen</td>\n",
       "      <td>Kristi Sayler</td>\n",
       "      <td>Integrated Science &amp; Applications Branch</td>\n",
       "    </tr>\n",
       "    <tr>\n",
       "      <th>4</th>\n",
       "      <td>Bunde</td>\n",
       "      <td>Brett (Contractor)</td>\n",
       "      <td>Danny (Contractor) Howard</td>\n",
       "      <td>Science Division</td>\n",
       "    </tr>\n",
       "    <tr>\n",
       "      <th>5</th>\n",
       "      <td>Butzer</td>\n",
       "      <td>Tony (Contractor)</td>\n",
       "      <td>Cory (Contractor) Van Batavia</td>\n",
       "      <td>Satellite Ground System Division</td>\n",
       "    </tr>\n",
       "    <tr>\n",
       "      <th>6</th>\n",
       "      <td>Dahal</td>\n",
       "      <td>Devendra (Contractor)</td>\n",
       "      <td>Danny (Contractor) Howard</td>\n",
       "      <td>Science Division</td>\n",
       "    </tr>\n",
       "    <tr>\n",
       "      <th>7</th>\n",
       "      <td>Danielson</td>\n",
       "      <td>Patrick (Contractor)</td>\n",
       "      <td>Danny (Contractor) Howard</td>\n",
       "      <td>Science Division</td>\n",
       "    </tr>\n",
       "    <tr>\n",
       "      <th>8</th>\n",
       "      <td>Holen</td>\n",
       "      <td>Cheryl (Contractor) L</td>\n",
       "      <td>Calli (Contractor) Jenkerson</td>\n",
       "      <td>Science Division</td>\n",
       "    </tr>\n",
       "    <tr>\n",
       "      <th>9</th>\n",
       "      <td>Mainali</td>\n",
       "      <td>Pukar (Contractor)</td>\n",
       "      <td>Calli (Contractor) Jenkerson</td>\n",
       "      <td>Science Division</td>\n",
       "    </tr>\n",
       "    <tr>\n",
       "      <th>10</th>\n",
       "      <td>Mcelhone</td>\n",
       "      <td>Maxwell T</td>\n",
       "      <td>Calli (Contractor) Jenkerson</td>\n",
       "      <td>Science Division</td>\n",
       "    </tr>\n",
       "    <tr>\n",
       "      <th>11</th>\n",
       "      <td>Oimoen</td>\n",
       "      <td>Michael (Contractor) J</td>\n",
       "      <td>Calli (Contractor) Jenkerson</td>\n",
       "      <td>Science Division</td>\n",
       "    </tr>\n",
       "    <tr>\n",
       "      <th>12</th>\n",
       "      <td>Pastick</td>\n",
       "      <td>Neal (Contractor) J</td>\n",
       "      <td>Danny (Contractor) Howard</td>\n",
       "      <td>Science Division</td>\n",
       "    </tr>\n",
       "    <tr>\n",
       "      <th>13</th>\n",
       "      <td>Postma</td>\n",
       "      <td>Kory (Contractor)</td>\n",
       "      <td>Jayson (Contractor) Holter</td>\n",
       "      <td>Satellite Ground System Division</td>\n",
       "    </tr>\n",
       "    <tr>\n",
       "      <th>14</th>\n",
       "      <td>Rigge</td>\n",
       "      <td>Matthew B</td>\n",
       "      <td>Kristi Sayler</td>\n",
       "      <td>Integrated Science &amp; Applications Branch</td>\n",
       "    </tr>\n",
       "    <tr>\n",
       "      <th>15</th>\n",
       "      <td>Rover</td>\n",
       "      <td>Jennifer</td>\n",
       "      <td>Peter Doucette</td>\n",
       "      <td>Integrated Science &amp; Applications Branch</td>\n",
       "    </tr>\n",
       "    <tr>\n",
       "      <th>16</th>\n",
       "      <td>Schoen</td>\n",
       "      <td>Candi (Contractor)</td>\n",
       "      <td>Calli (Contractor) Jenkerson</td>\n",
       "      <td>Science Division</td>\n",
       "    </tr>\n",
       "    <tr>\n",
       "      <th>17</th>\n",
       "      <td>Shrestha</td>\n",
       "      <td>Dinesh</td>\n",
       "      <td>Calli (Contractor) Jenkerson</td>\n",
       "      <td>Science Division</td>\n",
       "    </tr>\n",
       "    <tr>\n",
       "      <th>18</th>\n",
       "      <td>Smith</td>\n",
       "      <td>Kelcy (Contractor) L</td>\n",
       "      <td>Ryan (Contractor) Reker</td>\n",
       "      <td>Science Division</td>\n",
       "    </tr>\n",
       "    <tr>\n",
       "      <th>19</th>\n",
       "      <td>Sun</td>\n",
       "      <td>Minxuan</td>\n",
       "      <td>Calli (Contractor) Jenkerson</td>\n",
       "      <td>Science Division</td>\n",
       "    </tr>\n",
       "    <tr>\n",
       "      <th>20</th>\n",
       "      <td>Wylie</td>\n",
       "      <td>Bruce K</td>\n",
       "      <td>Kristi Sayler</td>\n",
       "      <td>Integrated Science &amp; Applications Branch</td>\n",
       "    </tr>\n",
       "    <tr>\n",
       "      <th>21</th>\n",
       "      <td>Young</td>\n",
       "      <td>Claudia (Contractor)</td>\n",
       "      <td>Calli (Contractor) Jenkerson</td>\n",
       "      <td>Science Division</td>\n",
       "    </tr>\n",
       "    <tr>\n",
       "      <th>22</th>\n",
       "      <td>Zhou</td>\n",
       "      <td>Qiang (Contractor)</td>\n",
       "      <td>Ramesh (Contractor) Singh</td>\n",
       "      <td>Science Division</td>\n",
       "    </tr>\n",
       "  </tbody>\n",
       "</table>\n",
       "</div>"
      ],
      "text/plain": [
       "     lastname                firstname                            boss  \\\n",
       "0     Anthony  Michelle (Contractor) L    Calli (Contractor) Jenkerson   \n",
       "1       Ballu     Anudeep (Contractor)    Calli (Contractor) Jenkerson   \n",
       "2    Benedict                Trenton D    Calli (Contractor) Jenkerson   \n",
       "3       Boyte                  Stephen                   Kristi Sayler   \n",
       "4       Bunde       Brett (Contractor)       Danny (Contractor) Howard   \n",
       "5      Butzer        Tony (Contractor)   Cory (Contractor) Van Batavia   \n",
       "6       Dahal    Devendra (Contractor)       Danny (Contractor) Howard   \n",
       "7   Danielson     Patrick (Contractor)       Danny (Contractor) Howard   \n",
       "8       Holen    Cheryl (Contractor) L    Calli (Contractor) Jenkerson   \n",
       "9     Mainali       Pukar (Contractor)    Calli (Contractor) Jenkerson   \n",
       "10   Mcelhone                Maxwell T    Calli (Contractor) Jenkerson   \n",
       "11     Oimoen   Michael (Contractor) J    Calli (Contractor) Jenkerson   \n",
       "12    Pastick      Neal (Contractor) J       Danny (Contractor) Howard   \n",
       "13     Postma        Kory (Contractor)      Jayson (Contractor) Holter   \n",
       "14      Rigge                Matthew B                   Kristi Sayler   \n",
       "15      Rover                 Jennifer                  Peter Doucette   \n",
       "16     Schoen       Candi (Contractor)    Calli (Contractor) Jenkerson   \n",
       "17   Shrestha                   Dinesh    Calli (Contractor) Jenkerson   \n",
       "18      Smith     Kelcy (Contractor) L         Ryan (Contractor) Reker   \n",
       "19        Sun                  Minxuan    Calli (Contractor) Jenkerson   \n",
       "20      Wylie                  Bruce K                   Kristi Sayler   \n",
       "21      Young     Claudia (Contractor)    Calli (Contractor) Jenkerson   \n",
       "22       Zhou       Qiang (Contractor)       Ramesh (Contractor) Singh   \n",
       "\n",
       "                                     division  \n",
       "0                            Science Division  \n",
       "1                            Science Division  \n",
       "2                            Science Division  \n",
       "3    Integrated Science & Applications Branch  \n",
       "4                            Science Division  \n",
       "5            Satellite Ground System Division  \n",
       "6                            Science Division  \n",
       "7                            Science Division  \n",
       "8                            Science Division  \n",
       "9                            Science Division  \n",
       "10                           Science Division  \n",
       "11                           Science Division  \n",
       "12                           Science Division  \n",
       "13           Satellite Ground System Division  \n",
       "14   Integrated Science & Applications Branch  \n",
       "15   Integrated Science & Applications Branch  \n",
       "16                           Science Division  \n",
       "17                           Science Division  \n",
       "18                           Science Division  \n",
       "19                           Science Division  \n",
       "20   Integrated Science & Applications Branch  \n",
       "21                           Science Division  \n",
       "22                           Science Division  "
      ]
     },
     "execution_count": 3,
     "metadata": {},
     "output_type": "execute_result"
    }
   ],
   "source": [
    "df"
   ]
  },
  {
   "cell_type": "markdown",
   "metadata": {},
   "source": [
    "# Groupby division"
   ]
  },
  {
   "cell_type": "code",
   "execution_count": 4,
   "metadata": {},
   "outputs": [],
   "source": [
    "students=df"
   ]
  },
  {
   "cell_type": "code",
   "execution_count": 5,
   "metadata": {},
   "outputs": [],
   "source": [
    "by_division = students.groupby('division').count()"
   ]
  },
  {
   "cell_type": "code",
   "execution_count": 6,
   "metadata": {},
   "outputs": [
    {
     "data": {
      "text/html": [
       "<div>\n",
       "<style scoped>\n",
       "    .dataframe tbody tr th:only-of-type {\n",
       "        vertical-align: middle;\n",
       "    }\n",
       "\n",
       "    .dataframe tbody tr th {\n",
       "        vertical-align: top;\n",
       "    }\n",
       "\n",
       "    .dataframe thead th {\n",
       "        text-align: right;\n",
       "    }\n",
       "</style>\n",
       "<table border=\"1\" class=\"dataframe\">\n",
       "  <thead>\n",
       "    <tr style=\"text-align: right;\">\n",
       "      <th></th>\n",
       "      <th>lastname</th>\n",
       "      <th>firstname</th>\n",
       "      <th>boss</th>\n",
       "    </tr>\n",
       "    <tr>\n",
       "      <th>division</th>\n",
       "      <th></th>\n",
       "      <th></th>\n",
       "      <th></th>\n",
       "    </tr>\n",
       "  </thead>\n",
       "  <tbody>\n",
       "    <tr>\n",
       "      <th>Integrated Science &amp; Applications Branch</th>\n",
       "      <td>4</td>\n",
       "      <td>4</td>\n",
       "      <td>4</td>\n",
       "    </tr>\n",
       "    <tr>\n",
       "      <th>Satellite Ground System Division</th>\n",
       "      <td>2</td>\n",
       "      <td>2</td>\n",
       "      <td>2</td>\n",
       "    </tr>\n",
       "    <tr>\n",
       "      <th>Science Division</th>\n",
       "      <td>7</td>\n",
       "      <td>7</td>\n",
       "      <td>7</td>\n",
       "    </tr>\n",
       "    <tr>\n",
       "      <th>Science Division</th>\n",
       "      <td>10</td>\n",
       "      <td>10</td>\n",
       "      <td>10</td>\n",
       "    </tr>\n",
       "  </tbody>\n",
       "</table>\n",
       "</div>"
      ],
      "text/plain": [
       "                                           lastname  firstname  boss\n",
       "division                                                            \n",
       " Integrated Science & Applications Branch         4          4     4\n",
       " Satellite Ground System Division                 2          2     2\n",
       " Science Division                                 7          7     7\n",
       "Science Division                                 10         10    10"
      ]
     },
     "execution_count": 6,
     "metadata": {},
     "output_type": "execute_result"
    }
   ],
   "source": [
    "by_division"
   ]
  },
  {
   "cell_type": "code",
   "execution_count": 7,
   "metadata": {},
   "outputs": [
    {
     "data": {
      "text/plain": [
       "pandas.core.frame.DataFrame"
      ]
     },
     "execution_count": 7,
     "metadata": {},
     "output_type": "execute_result"
    }
   ],
   "source": [
    "type(by_division)"
   ]
  },
  {
   "cell_type": "code",
   "execution_count": 8,
   "metadata": {},
   "outputs": [],
   "source": [
    "howard = students[students['boss'].str.contains('Howard')]"
   ]
  },
  {
   "cell_type": "markdown",
   "metadata": {},
   "source": [
    "# Who works for Danny Howard - I knew a Steve Howard"
   ]
  },
  {
   "cell_type": "code",
   "execution_count": 9,
   "metadata": {},
   "outputs": [
    {
     "data": {
      "text/html": [
       "<div>\n",
       "<style scoped>\n",
       "    .dataframe tbody tr th:only-of-type {\n",
       "        vertical-align: middle;\n",
       "    }\n",
       "\n",
       "    .dataframe tbody tr th {\n",
       "        vertical-align: top;\n",
       "    }\n",
       "\n",
       "    .dataframe thead th {\n",
       "        text-align: right;\n",
       "    }\n",
       "</style>\n",
       "<table border=\"1\" class=\"dataframe\">\n",
       "  <thead>\n",
       "    <tr style=\"text-align: right;\">\n",
       "      <th></th>\n",
       "      <th>lastname</th>\n",
       "      <th>firstname</th>\n",
       "      <th>boss</th>\n",
       "      <th>division</th>\n",
       "    </tr>\n",
       "  </thead>\n",
       "  <tbody>\n",
       "    <tr>\n",
       "      <th>4</th>\n",
       "      <td>Bunde</td>\n",
       "      <td>Brett (Contractor)</td>\n",
       "      <td>Danny (Contractor) Howard</td>\n",
       "      <td>Science Division</td>\n",
       "    </tr>\n",
       "    <tr>\n",
       "      <th>6</th>\n",
       "      <td>Dahal</td>\n",
       "      <td>Devendra (Contractor)</td>\n",
       "      <td>Danny (Contractor) Howard</td>\n",
       "      <td>Science Division</td>\n",
       "    </tr>\n",
       "    <tr>\n",
       "      <th>7</th>\n",
       "      <td>Danielson</td>\n",
       "      <td>Patrick (Contractor)</td>\n",
       "      <td>Danny (Contractor) Howard</td>\n",
       "      <td>Science Division</td>\n",
       "    </tr>\n",
       "    <tr>\n",
       "      <th>12</th>\n",
       "      <td>Pastick</td>\n",
       "      <td>Neal (Contractor) J</td>\n",
       "      <td>Danny (Contractor) Howard</td>\n",
       "      <td>Science Division</td>\n",
       "    </tr>\n",
       "  </tbody>\n",
       "</table>\n",
       "</div>"
      ],
      "text/plain": [
       "     lastname              firstname                        boss  \\\n",
       "4       Bunde     Brett (Contractor)   Danny (Contractor) Howard   \n",
       "6       Dahal  Devendra (Contractor)   Danny (Contractor) Howard   \n",
       "7   Danielson   Patrick (Contractor)   Danny (Contractor) Howard   \n",
       "12    Pastick    Neal (Contractor) J   Danny (Contractor) Howard   \n",
       "\n",
       "             division  \n",
       "4    Science Division  \n",
       "6    Science Division  \n",
       "7    Science Division  \n",
       "12   Science Division  "
      ]
     },
     "execution_count": 9,
     "metadata": {},
     "output_type": "execute_result"
    }
   ],
   "source": [
    "howard"
   ]
  },
  {
   "cell_type": "code",
   "execution_count": 10,
   "metadata": {},
   "outputs": [],
   "source": [
    "science_folks = students[students['division'].str.contains('Science')]"
   ]
  },
  {
   "cell_type": "code",
   "execution_count": 11,
   "metadata": {},
   "outputs": [
    {
     "data": {
      "text/html": [
       "<div>\n",
       "<style scoped>\n",
       "    .dataframe tbody tr th:only-of-type {\n",
       "        vertical-align: middle;\n",
       "    }\n",
       "\n",
       "    .dataframe tbody tr th {\n",
       "        vertical-align: top;\n",
       "    }\n",
       "\n",
       "    .dataframe thead th {\n",
       "        text-align: right;\n",
       "    }\n",
       "</style>\n",
       "<table border=\"1\" class=\"dataframe\">\n",
       "  <thead>\n",
       "    <tr style=\"text-align: right;\">\n",
       "      <th></th>\n",
       "      <th>lastname</th>\n",
       "      <th>firstname</th>\n",
       "      <th>boss</th>\n",
       "      <th>division</th>\n",
       "    </tr>\n",
       "  </thead>\n",
       "  <tbody>\n",
       "    <tr>\n",
       "      <th>0</th>\n",
       "      <td>Anthony</td>\n",
       "      <td>Michelle (Contractor) L</td>\n",
       "      <td>Calli (Contractor) Jenkerson</td>\n",
       "      <td>Science Division</td>\n",
       "    </tr>\n",
       "    <tr>\n",
       "      <th>1</th>\n",
       "      <td>Ballu</td>\n",
       "      <td>Anudeep (Contractor)</td>\n",
       "      <td>Calli (Contractor) Jenkerson</td>\n",
       "      <td>Science Division</td>\n",
       "    </tr>\n",
       "    <tr>\n",
       "      <th>2</th>\n",
       "      <td>Benedict</td>\n",
       "      <td>Trenton D</td>\n",
       "      <td>Calli (Contractor) Jenkerson</td>\n",
       "      <td>Science Division</td>\n",
       "    </tr>\n",
       "    <tr>\n",
       "      <th>3</th>\n",
       "      <td>Boyte</td>\n",
       "      <td>Stephen</td>\n",
       "      <td>Kristi Sayler</td>\n",
       "      <td>Integrated Science &amp; Applications Branch</td>\n",
       "    </tr>\n",
       "    <tr>\n",
       "      <th>4</th>\n",
       "      <td>Bunde</td>\n",
       "      <td>Brett (Contractor)</td>\n",
       "      <td>Danny (Contractor) Howard</td>\n",
       "      <td>Science Division</td>\n",
       "    </tr>\n",
       "    <tr>\n",
       "      <th>6</th>\n",
       "      <td>Dahal</td>\n",
       "      <td>Devendra (Contractor)</td>\n",
       "      <td>Danny (Contractor) Howard</td>\n",
       "      <td>Science Division</td>\n",
       "    </tr>\n",
       "    <tr>\n",
       "      <th>7</th>\n",
       "      <td>Danielson</td>\n",
       "      <td>Patrick (Contractor)</td>\n",
       "      <td>Danny (Contractor) Howard</td>\n",
       "      <td>Science Division</td>\n",
       "    </tr>\n",
       "    <tr>\n",
       "      <th>8</th>\n",
       "      <td>Holen</td>\n",
       "      <td>Cheryl (Contractor) L</td>\n",
       "      <td>Calli (Contractor) Jenkerson</td>\n",
       "      <td>Science Division</td>\n",
       "    </tr>\n",
       "    <tr>\n",
       "      <th>9</th>\n",
       "      <td>Mainali</td>\n",
       "      <td>Pukar (Contractor)</td>\n",
       "      <td>Calli (Contractor) Jenkerson</td>\n",
       "      <td>Science Division</td>\n",
       "    </tr>\n",
       "    <tr>\n",
       "      <th>10</th>\n",
       "      <td>Mcelhone</td>\n",
       "      <td>Maxwell T</td>\n",
       "      <td>Calli (Contractor) Jenkerson</td>\n",
       "      <td>Science Division</td>\n",
       "    </tr>\n",
       "    <tr>\n",
       "      <th>11</th>\n",
       "      <td>Oimoen</td>\n",
       "      <td>Michael (Contractor) J</td>\n",
       "      <td>Calli (Contractor) Jenkerson</td>\n",
       "      <td>Science Division</td>\n",
       "    </tr>\n",
       "    <tr>\n",
       "      <th>12</th>\n",
       "      <td>Pastick</td>\n",
       "      <td>Neal (Contractor) J</td>\n",
       "      <td>Danny (Contractor) Howard</td>\n",
       "      <td>Science Division</td>\n",
       "    </tr>\n",
       "    <tr>\n",
       "      <th>14</th>\n",
       "      <td>Rigge</td>\n",
       "      <td>Matthew B</td>\n",
       "      <td>Kristi Sayler</td>\n",
       "      <td>Integrated Science &amp; Applications Branch</td>\n",
       "    </tr>\n",
       "    <tr>\n",
       "      <th>15</th>\n",
       "      <td>Rover</td>\n",
       "      <td>Jennifer</td>\n",
       "      <td>Peter Doucette</td>\n",
       "      <td>Integrated Science &amp; Applications Branch</td>\n",
       "    </tr>\n",
       "    <tr>\n",
       "      <th>16</th>\n",
       "      <td>Schoen</td>\n",
       "      <td>Candi (Contractor)</td>\n",
       "      <td>Calli (Contractor) Jenkerson</td>\n",
       "      <td>Science Division</td>\n",
       "    </tr>\n",
       "    <tr>\n",
       "      <th>17</th>\n",
       "      <td>Shrestha</td>\n",
       "      <td>Dinesh</td>\n",
       "      <td>Calli (Contractor) Jenkerson</td>\n",
       "      <td>Science Division</td>\n",
       "    </tr>\n",
       "    <tr>\n",
       "      <th>18</th>\n",
       "      <td>Smith</td>\n",
       "      <td>Kelcy (Contractor) L</td>\n",
       "      <td>Ryan (Contractor) Reker</td>\n",
       "      <td>Science Division</td>\n",
       "    </tr>\n",
       "    <tr>\n",
       "      <th>19</th>\n",
       "      <td>Sun</td>\n",
       "      <td>Minxuan</td>\n",
       "      <td>Calli (Contractor) Jenkerson</td>\n",
       "      <td>Science Division</td>\n",
       "    </tr>\n",
       "    <tr>\n",
       "      <th>20</th>\n",
       "      <td>Wylie</td>\n",
       "      <td>Bruce K</td>\n",
       "      <td>Kristi Sayler</td>\n",
       "      <td>Integrated Science &amp; Applications Branch</td>\n",
       "    </tr>\n",
       "    <tr>\n",
       "      <th>21</th>\n",
       "      <td>Young</td>\n",
       "      <td>Claudia (Contractor)</td>\n",
       "      <td>Calli (Contractor) Jenkerson</td>\n",
       "      <td>Science Division</td>\n",
       "    </tr>\n",
       "    <tr>\n",
       "      <th>22</th>\n",
       "      <td>Zhou</td>\n",
       "      <td>Qiang (Contractor)</td>\n",
       "      <td>Ramesh (Contractor) Singh</td>\n",
       "      <td>Science Division</td>\n",
       "    </tr>\n",
       "  </tbody>\n",
       "</table>\n",
       "</div>"
      ],
      "text/plain": [
       "     lastname                firstname                           boss  \\\n",
       "0     Anthony  Michelle (Contractor) L   Calli (Contractor) Jenkerson   \n",
       "1       Ballu     Anudeep (Contractor)   Calli (Contractor) Jenkerson   \n",
       "2    Benedict                Trenton D   Calli (Contractor) Jenkerson   \n",
       "3       Boyte                  Stephen                  Kristi Sayler   \n",
       "4       Bunde       Brett (Contractor)      Danny (Contractor) Howard   \n",
       "6       Dahal    Devendra (Contractor)      Danny (Contractor) Howard   \n",
       "7   Danielson     Patrick (Contractor)      Danny (Contractor) Howard   \n",
       "8       Holen    Cheryl (Contractor) L   Calli (Contractor) Jenkerson   \n",
       "9     Mainali       Pukar (Contractor)   Calli (Contractor) Jenkerson   \n",
       "10   Mcelhone                Maxwell T   Calli (Contractor) Jenkerson   \n",
       "11     Oimoen   Michael (Contractor) J   Calli (Contractor) Jenkerson   \n",
       "12    Pastick      Neal (Contractor) J      Danny (Contractor) Howard   \n",
       "14      Rigge                Matthew B                  Kristi Sayler   \n",
       "15      Rover                 Jennifer                 Peter Doucette   \n",
       "16     Schoen       Candi (Contractor)   Calli (Contractor) Jenkerson   \n",
       "17   Shrestha                   Dinesh   Calli (Contractor) Jenkerson   \n",
       "18      Smith     Kelcy (Contractor) L        Ryan (Contractor) Reker   \n",
       "19        Sun                  Minxuan   Calli (Contractor) Jenkerson   \n",
       "20      Wylie                  Bruce K                  Kristi Sayler   \n",
       "21      Young     Claudia (Contractor)   Calli (Contractor) Jenkerson   \n",
       "22       Zhou       Qiang (Contractor)      Ramesh (Contractor) Singh   \n",
       "\n",
       "                                     division  \n",
       "0                            Science Division  \n",
       "1                            Science Division  \n",
       "2                            Science Division  \n",
       "3    Integrated Science & Applications Branch  \n",
       "4                            Science Division  \n",
       "6                            Science Division  \n",
       "7                            Science Division  \n",
       "8                            Science Division  \n",
       "9                            Science Division  \n",
       "10                           Science Division  \n",
       "11                           Science Division  \n",
       "12                           Science Division  \n",
       "14   Integrated Science & Applications Branch  \n",
       "15   Integrated Science & Applications Branch  \n",
       "16                           Science Division  \n",
       "17                           Science Division  \n",
       "18                           Science Division  \n",
       "19                           Science Division  \n",
       "20   Integrated Science & Applications Branch  \n",
       "21                           Science Division  \n",
       "22                           Science Division  "
      ]
     },
     "execution_count": 11,
     "metadata": {},
     "output_type": "execute_result"
    }
   ],
   "source": [
    "science_folks"
   ]
  },
  {
   "cell_type": "code",
   "execution_count": 12,
   "metadata": {},
   "outputs": [
    {
     "data": {
      "text/plain": [
       "21"
      ]
     },
     "execution_count": 12,
     "metadata": {},
     "output_type": "execute_result"
    }
   ],
   "source": [
    "len(science_folks)"
   ]
  },
  {
   "cell_type": "code",
   "execution_count": 13,
   "metadata": {},
   "outputs": [
    {
     "data": {
      "text/html": [
       "<div>\n",
       "<style scoped>\n",
       "    .dataframe tbody tr th:only-of-type {\n",
       "        vertical-align: middle;\n",
       "    }\n",
       "\n",
       "    .dataframe tbody tr th {\n",
       "        vertical-align: top;\n",
       "    }\n",
       "\n",
       "    .dataframe thead th {\n",
       "        text-align: right;\n",
       "    }\n",
       "</style>\n",
       "<table border=\"1\" class=\"dataframe\">\n",
       "  <thead>\n",
       "    <tr style=\"text-align: right;\">\n",
       "      <th></th>\n",
       "      <th>lastname</th>\n",
       "      <th>firstname</th>\n",
       "      <th>boss</th>\n",
       "    </tr>\n",
       "    <tr>\n",
       "      <th>division</th>\n",
       "      <th></th>\n",
       "      <th></th>\n",
       "      <th></th>\n",
       "    </tr>\n",
       "  </thead>\n",
       "  <tbody>\n",
       "    <tr>\n",
       "      <th>Integrated Science &amp; Applications Branch</th>\n",
       "      <td>4</td>\n",
       "      <td>4</td>\n",
       "      <td>4</td>\n",
       "    </tr>\n",
       "    <tr>\n",
       "      <th>Satellite Ground System Division</th>\n",
       "      <td>2</td>\n",
       "      <td>2</td>\n",
       "      <td>2</td>\n",
       "    </tr>\n",
       "    <tr>\n",
       "      <th>Science Division</th>\n",
       "      <td>7</td>\n",
       "      <td>7</td>\n",
       "      <td>7</td>\n",
       "    </tr>\n",
       "    <tr>\n",
       "      <th>Science Division</th>\n",
       "      <td>10</td>\n",
       "      <td>10</td>\n",
       "      <td>10</td>\n",
       "    </tr>\n",
       "  </tbody>\n",
       "</table>\n",
       "</div>"
      ],
      "text/plain": [
       "                                           lastname  firstname  boss\n",
       "division                                                            \n",
       " Integrated Science & Applications Branch         4          4     4\n",
       " Satellite Ground System Division                 2          2     2\n",
       " Science Division                                 7          7     7\n",
       "Science Division                                 10         10    10"
      ]
     },
     "execution_count": 13,
     "metadata": {},
     "output_type": "execute_result"
    }
   ],
   "source": [
    "by_division"
   ]
  },
  {
   "cell_type": "markdown",
   "metadata": {},
   "source": [
    "# Plot the classes of students using boss"
   ]
  },
  {
   "cell_type": "code",
   "execution_count": 14,
   "metadata": {},
   "outputs": [],
   "source": [
    "boss_by_division = by_division['boss']"
   ]
  },
  {
   "cell_type": "code",
   "execution_count": 15,
   "metadata": {},
   "outputs": [
    {
     "data": {
      "text/plain": [
       "division\n",
       " Integrated Science & Applications Branch     4\n",
       " Satellite Ground System Division             2\n",
       " Science Division                             7\n",
       "Science Division                             10\n",
       "Name: boss, dtype: int64"
      ]
     },
     "execution_count": 15,
     "metadata": {},
     "output_type": "execute_result"
    }
   ],
   "source": [
    "boss_by_division"
   ]
  },
  {
   "cell_type": "code",
   "execution_count": 16,
   "metadata": {},
   "outputs": [
    {
     "data": {
      "text/plain": [
       "<AxesSubplot:ylabel='boss'>"
      ]
     },
     "execution_count": 16,
     "metadata": {},
     "output_type": "execute_result"
    },
    {
     "data": {
      "image/png": "[encoded data removed]",
      "text/plain": [
       "<Figure size 432x288 with 1 Axes>"
      ]
     },
     "metadata": {},
     "output_type": "display_data"
    }
   ],
   "source": [
    "boss_by_division.plot.pie(autopct='%1.1f%%', shadow = True)"
   ]
  },
  {
   "cell_type": "code",
   "execution_count": 17,
   "metadata": {},
   "outputs": [
    {
     "data": {
      "text/plain": [
       "<AxesSubplot:xlabel='division'>"
      ]
     },
     "execution_count": 17,
     "metadata": {},
     "output_type": "execute_result"
    },
    {
     "data": {
      "image/png": "[encoded data removed]",
      "text/plain": [
       "<Figure size 432x288 with 1 Axes>"
      ]
     },
     "metadata": {
      "needs_background": "light"
     },
     "output_type": "display_data"
    }
   ],
   "source": [
    "boss_by_division.plot.bar()"
   ]
  },
  {
   "cell_type": "markdown",
   "metadata": {},
   "source": [
    "# Improve the colors"
   ]
  },
  {
   "cell_type": "code",
   "execution_count": 18,
   "metadata": {},
   "outputs": [],
   "source": [
    "from itertools import islice\n",
    "from itertools import cycle\n",
    "my_colors =  list(islice(cycle(['b', 'r', 'g', 'y', 'k']),None,len(boss_by_division)))"
   ]
  },
  {
   "cell_type": "code",
   "execution_count": 19,
   "metadata": {},
   "outputs": [
    {
     "data": {
      "text/plain": [
       "<AxesSubplot:title={'center':'boss by division'}, xlabel='division'>"
      ]
     },
     "execution_count": 19,
     "metadata": {},
     "output_type": "execute_result"
    },
    {
     "data": {
      "image/png": "[encoded data removed]",
      "text/plain": [
       "<Figure size 432x288 with 1 Axes>"
      ]
     },
     "metadata": {
      "needs_background": "light"
     },
     "output_type": "display_data"
    }
   ],
   "source": [
    "boss_by_division.plot(title='boss by division', kind='bar', stacked=True, color=my_colors)"
   ]
  },
  {
   "cell_type": "code",
   "execution_count": 20,
   "metadata": {},
   "outputs": [],
   "source": [
    "sayler = students[students['boss'].str.contains('Sayler')]"
   ]
  },
  {
   "cell_type": "code",
   "execution_count": 21,
   "metadata": {},
   "outputs": [
    {
     "data": {
      "text/html": [
       "<div>\n",
       "<style scoped>\n",
       "    .dataframe tbody tr th:only-of-type {\n",
       "        vertical-align: middle;\n",
       "    }\n",
       "\n",
       "    .dataframe tbody tr th {\n",
       "        vertical-align: top;\n",
       "    }\n",
       "\n",
       "    .dataframe thead th {\n",
       "        text-align: right;\n",
       "    }\n",
       "</style>\n",
       "<table border=\"1\" class=\"dataframe\">\n",
       "  <thead>\n",
       "    <tr style=\"text-align: right;\">\n",
       "      <th></th>\n",
       "      <th>lastname</th>\n",
       "      <th>firstname</th>\n",
       "      <th>boss</th>\n",
       "      <th>division</th>\n",
       "    </tr>\n",
       "  </thead>\n",
       "  <tbody>\n",
       "    <tr>\n",
       "      <th>3</th>\n",
       "      <td>Boyte</td>\n",
       "      <td>Stephen</td>\n",
       "      <td>Kristi Sayler</td>\n",
       "      <td>Integrated Science &amp; Applications Branch</td>\n",
       "    </tr>\n",
       "    <tr>\n",
       "      <th>14</th>\n",
       "      <td>Rigge</td>\n",
       "      <td>Matthew B</td>\n",
       "      <td>Kristi Sayler</td>\n",
       "      <td>Integrated Science &amp; Applications Branch</td>\n",
       "    </tr>\n",
       "    <tr>\n",
       "      <th>20</th>\n",
       "      <td>Wylie</td>\n",
       "      <td>Bruce K</td>\n",
       "      <td>Kristi Sayler</td>\n",
       "      <td>Integrated Science &amp; Applications Branch</td>\n",
       "    </tr>\n",
       "  </tbody>\n",
       "</table>\n",
       "</div>"
      ],
      "text/plain": [
       "   lastname  firstname            boss  \\\n",
       "3     Boyte    Stephen   Kristi Sayler   \n",
       "14    Rigge  Matthew B   Kristi Sayler   \n",
       "20    Wylie    Bruce K   Kristi Sayler   \n",
       "\n",
       "                                     division  \n",
       "3    Integrated Science & Applications Branch  \n",
       "14   Integrated Science & Applications Branch  \n",
       "20   Integrated Science & Applications Branch  "
      ]
     },
     "execution_count": 21,
     "metadata": {},
     "output_type": "execute_result"
    }
   ],
   "source": [
    "sayler"
   ]
  },
  {
   "cell_type": "code",
   "execution_count": 22,
   "metadata": {},
   "outputs": [
    {
     "name": "stdout",
     "output_type": "stream",
     "text": [
      "0       Anthony\n",
      "1         Ballu\n",
      "2      Benedict\n",
      "3         Boyte\n",
      "4         Bunde\n",
      "5        Butzer\n",
      "6         Dahal\n",
      "7     Danielson\n",
      "8         Holen\n",
      "9       Mainali\n",
      "10     Mcelhone\n",
      "11       Oimoen\n",
      "12      Pastick\n",
      "13       Postma\n",
      "14        Rigge\n",
      "15        Rover\n",
      "16       Schoen\n",
      "17     Shrestha\n",
      "18        Smith\n",
      "19          Sun\n",
      "20        Wylie\n",
      "21        Young\n",
      "22         Zhou\n",
      "Name: lastname, dtype: object\n"
     ]
    }
   ],
   "source": [
    "print(students['lastname'])"
   ]
  },
  {
   "cell_type": "code",
   "execution_count": 23,
   "metadata": {},
   "outputs": [
    {
     "data": {
      "text/plain": [
       "0       Anthony\n",
       "1         Ballu\n",
       "2      Benedict\n",
       "3         Boyte\n",
       "4         Bunde\n",
       "5        Butzer\n",
       "6         Dahal\n",
       "7     Danielson\n",
       "8         Holen\n",
       "9       Mainali\n",
       "10     Mcelhone\n",
       "11       Oimoen\n",
       "12      Pastick\n",
       "13       Postma\n",
       "14        Rigge\n",
       "15        Rover\n",
       "16       Schoen\n",
       "17     Shrestha\n",
       "18        Smith\n",
       "19          Sun\n",
       "20        Wylie\n",
       "21        Young\n",
       "22         Zhou\n",
       "Name: lastname, dtype: object"
      ]
     },
     "execution_count": 23,
     "metadata": {},
     "output_type": "execute_result"
    }
   ],
   "source": [
    "lastname = students['lastname']\n",
    "lastname"
   ]
  },
  {
   "cell_type": "code",
   "execution_count": 24,
   "metadata": {},
   "outputs": [],
   "source": [
    "lastname_no_indices = lastname.to_string(index=False)"
   ]
  },
  {
   "cell_type": "code",
   "execution_count": 25,
   "metadata": {},
   "outputs": [
    {
     "name": "stdout",
     "output_type": "stream",
     "text": [
      "   Anthony\n",
      "     Ballu\n",
      "  Benedict\n",
      "     Boyte\n",
      "     Bunde\n",
      "    Butzer\n",
      "     Dahal\n",
      " Danielson\n",
      "     Holen\n",
      "   Mainali\n",
      "  Mcelhone\n",
      "    Oimoen\n",
      "   Pastick\n",
      "    Postma\n",
      "     Rigge\n",
      "     Rover\n",
      "    Schoen\n",
      "  Shrestha\n",
      "     Smith\n",
      "       Sun\n",
      "     Wylie\n",
      "     Young\n",
      "      Zhou\n"
     ]
    }
   ],
   "source": [
    "print(lastname_no_indices)"
   ]
  },
  {
   "cell_type": "code",
   "execution_count": 26,
   "metadata": {},
   "outputs": [
    {
     "data": {
      "text/plain": [
       "str"
      ]
     },
     "execution_count": 26,
     "metadata": {},
     "output_type": "execute_result"
    }
   ],
   "source": [
    "type(lastname_no_indices)"
   ]
  },
  {
   "cell_type": "code",
   "execution_count": 27,
   "metadata": {},
   "outputs": [
    {
     "name": "stdout",
     "output_type": "stream",
     "text": [
      "anthony\n",
      "ballu\n",
      "benedict\n",
      "boyte\n",
      "bunde\n",
      "butzer\n",
      "dahal\n",
      "danielson\n",
      "holen\n",
      "mainali\n",
      "mcelhone\n",
      "oimoen\n",
      "pastick\n",
      "postma\n",
      "rigge\n",
      "rover\n",
      "schoen\n",
      "shrestha\n",
      "smith\n",
      "sun\n",
      "wylie\n",
      "young\n",
      "zhou\n"
     ]
    }
   ],
   "source": [
    "for i in lastname_no_indices.split('\\n'):\n",
    "    #print(i)\n",
    "    i = i.lower()\n",
    "    i = i.strip()\n",
    "    print(i)"
   ]
  },
  {
   "cell_type": "code",
   "execution_count": null,
   "metadata": {},
   "outputs": [],
   "source": []
  }
 ],
 "metadata": {
  "kernelspec": {
   "display_name": "Python 3",
   "language": "python",
   "name": "python3"
  },
  "language_info": {
   "codemirror_mode": {
    "name": "ipython",
    "version": 3
   },
   "file_extension": ".py",
   "mimetype": "text/x-python",
   "name": "python",
   "nbconvert_exporter": "python",
   "pygments_lexer": "ipython3",
   "version": "3.7.3"
  }
 },
 "nbformat": 4,
 "nbformat_minor": 2
}
