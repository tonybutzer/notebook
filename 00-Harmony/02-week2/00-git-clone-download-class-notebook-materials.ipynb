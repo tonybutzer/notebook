{
 "cells": [
  {
   "cell_type": "markdown",
   "metadata": {},
   "source": [
    "# git repo clone\n",
    "\n",
    "- clone our notebook repo\n",
    "- next week we will do a git pull for updates\n",
    "\n",
    "## Instructions\n",
    "\n",
    "- open a terminal in jupyter\n",
    "    - find Home Page - browser tab - or middle click jupyterhub above - tony to demo\n",
    "    - [new] button - terminal\n",
    "    - pwd ; ls; \n",
    "    - mkdir opt\n",
    "    - cd opt\n",
    "    - git clone http://github.com/tonybutzer/notebook"
   ]
  },
  {
   "cell_type": "markdown",
   "metadata": {},
   "source": [
    "\n",
    "\n",
    "```\n",
    "jupyter-butzer@ip-10-12-69-233:~$ mkdir opt\n",
    "jupyter-butzer@ip-10-12-69-233:~$ cd opt\n",
    "jupyter-butzer@ip-10-12-69-233:~/opt$ git clone http://github.com/tonybutzer/notebook\n",
    "Cloning into 'notebook'...\n",
    "warning: redirecting to https://github.com/tonybutzer/notebook/\n",
    "remote: Enumerating objects: 203, done.\n",
    "remote: Counting objects: 100% (203/203), done.\n",
    "remote: Compressing objects: 100% (162/162), done.\n",
    "remote: Total 1212 (delta 83), reused 146 (delta 37), pack-reused 1009\n",
    "Receiving objects: 100% (1212/1212), 341.87 MiB | 40.62 MiB/s, done.\n",
    "Resolving deltas: 100% (456/456), done.\n",
    "Checking out files: 100% (552/552), done.\n",
    "jupyter-butzer@ip-10-12-69-233:~/opt$ ls\n",
    "notebook\n",
    "jupyter-butzer@ip-10-12-69-233:~/opt$ ls -lR\n",
    ".:\n",
    "total 4\n",
    "drwxr-xr-x 6 jupyter-butzer jupyter-butzer 4096 Dec  2 15:10 notebook\n",
    "\n",
    "./notebook:\n",
    "total 16\n",
    "drwxr-xr-x  4 jupyter-butzer jupyter-butzer 4096 Dec  2 15:10 00-Harmony\n",
    "drwxr-xr-x 18 jupyter-butzer jupyter-butzer 4096 Dec  2 15:10 01-Everything-but-harmony\n",
    "drwxr-xr-x  3 jupyter-butzer jupyter-butzer 4096 Dec  2 15:10 99-Viz-and-friends\n",
    "-rw-r--r--  1 jupyter-butzer jupyter-butzer  327 Dec  2 15:10 Makefile\n",
    "\n",
    "./notebook/00-Harmony:\n",
    "total 8\n",
    "drwxr-xr-x 3 jupyter-butzer jupyter-butzer 4096 Dec  2 15:10 00-steffi-et\n",
    "drwxr-xr-x 2 jupyter-butzer jupyter-butzer 4096 Dec  2 15:10 01-neal-permafrost\n",
    "\n",
    "./notebook/00-Harmony/00-steffi-et:\n",
    "total 7300\n",
    "-rw-r--r-- 1 jupyter-butzer jupyter-butzer 7467262 Dec  2 15:10 96-hvplot-experiment-image-annual-et-viewer-decorator-version.ipynb\n",
    "-rw-r--r-- 1 jupyter-butzer jupyter-butzer      16 Dec  2 15:10 Readme.md\n",
    "```"
   ]
  },
  {
   "cell_type": "code",
   "execution_count": null,
   "metadata": {},
   "outputs": [],
   "source": []
  }
 ],
 "metadata": {
  "kernelspec": {
   "display_name": "Python 3",
   "language": "python",
   "name": "python3"
  },
  "language_info": {
   "codemirror_mode": {
    "name": "ipython",
    "version": 3
   },
   "file_extension": ".py",
   "mimetype": "text/x-python",
   "name": "python",
   "nbconvert_exporter": "python",
   "pygments_lexer": "ipython3",
   "version": "3.7.3"
  }
 },
 "nbformat": 4,
 "nbformat_minor": 4
}
