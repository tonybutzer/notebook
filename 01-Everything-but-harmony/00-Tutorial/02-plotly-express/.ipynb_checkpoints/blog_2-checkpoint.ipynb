{
 "cells": [
  {
   "cell_type": "code",
   "execution_count": null,
   "metadata": {
    "slideshow": {
     "slide_type": "notes"
    }
   },
   "outputs": [],
   "source": []
  },
  {
   "cell_type": "markdown",
   "metadata": {
    "slideshow": {
     "slide_type": "slide"
    }
   },
   "source": [
    "#### Univariate\n",
    "- Continuous\n",
    "    - Histograms\n",
    "    - Boxplots\n",
    "- Categorical\n",
    "    - Bar charts\n",
    "\n",
    "#### Bivariate\n",
    "- Continuous vs Categorical\n",
    "    - Use Univariate techniques but use a different chart for each \n",
    "    - Use colors, markers, shapes\n",
    "- Discrete vs Categorical\n",
    "- Continuous vs Continuous"
   ]
  },
  {
   "cell_type": "markdown",
   "metadata": {
    "slideshow": {
     "slide_type": "slide"
    }
   },
   "source": [
    "# A stroll through basic visualizations using plotly express.\n",
    "\n",
    "I've recently discovered plotly express,and am super-pumped to add it to my toolbox. \n",
    "\n",
    "To put it through the paces I thought it would be a good time to run through all the standard visualization plots. "
   ]
  },
  {
   "cell_type": "markdown",
   "metadata": {
    "slideshow": {
     "slide_type": "slide"
    }
   },
   "source": [
    "Let's get request some data from Kaggle."
   ]
  },
  {
   "cell_type": "code",
   "execution_count": 1,
   "metadata": {
    "slideshow": {
     "slide_type": "slide"
    }
   },
   "outputs": [
    {
     "ename": "ModuleNotFoundError",
     "evalue": "No module named 'plotly_express'",
     "output_type": "error",
     "traceback": [
      "\u001b[0;31m---------------------------------------------------------------------------\u001b[0m",
      "\u001b[0;31mModuleNotFoundError\u001b[0m                       Traceback (most recent call last)",
      "\u001b[0;32m<ipython-input-1-90c4346882c7>\u001b[0m in \u001b[0;36m<module>\u001b[0;34m\u001b[0m\n\u001b[1;32m      2\u001b[0m \u001b[0;32mimport\u001b[0m \u001b[0mjson\u001b[0m\u001b[0;34m\u001b[0m\u001b[0;34m\u001b[0m\u001b[0m\n\u001b[1;32m      3\u001b[0m \u001b[0;32mimport\u001b[0m \u001b[0mos\u001b[0m\u001b[0;34m\u001b[0m\u001b[0;34m\u001b[0m\u001b[0m\n\u001b[0;32m----> 4\u001b[0;31m \u001b[0;32mimport\u001b[0m \u001b[0mplotly_express\u001b[0m \u001b[0;32mas\u001b[0m \u001b[0mpx\u001b[0m\u001b[0;34m\u001b[0m\u001b[0;34m\u001b[0m\u001b[0m\n\u001b[0m",
      "\u001b[0;31mModuleNotFoundError\u001b[0m: No module named 'plotly_express'"
     ]
    }
   ],
   "source": [
    "import pandas as pd\n",
    "import json\n",
    "import os\n",
    "import plotly_express as px"
   ]
  },
  {
   "cell_type": "code",
   "execution_count": null,
   "metadata": {
    "slideshow": {
     "slide_type": "slide"
    }
   },
   "outputs": [],
   "source": [
    "# def get_keys(path):\n",
    "#     with open(path) as f:\n",
    "#         return json.load(f)\n",
    "\n",
    "# keys = get_keys(os.path.join(os.environ['HOME'], '.secret/kaggle.json'))\n",
    "\n",
    "# client_id = keys['username']\n",
    "# api_key = keys['key']"
   ]
  },
  {
   "cell_type": "markdown",
   "metadata": {
    "slideshow": {
     "slide_type": "slide"
    }
   },
   "source": [
    "I found this dataset on kaggle that looks interesting:\n",
    "https://www.kaggle.com/magshimimsummercamp/superheroes-info-and-stats#superheroes_info.csv\n",
    "\n",
    "Here is the API command:\n",
    "`kaggle datasets download -d magshimimsummercamp/superheroes-info-and-stats`\n",
    "\n",
    "Which you can get easily onto your clipboard by just clicking here:\n",
    "![alt_command](./images/api_cmd_small.png)\n",
    "\n",
    "Let's use the shell to get that data!"
   ]
  },
  {
   "cell_type": "code",
   "execution_count": null,
   "metadata": {},
   "outputs": [],
   "source": [
    "# Download the file\n",
    "!kaggle datasets download -d magshimimsummercamp/superheroes-info-and-stats"
   ]
  },
  {
   "cell_type": "code",
   "execution_count": null,
   "metadata": {},
   "outputs": [],
   "source": [
    "# Make sure it's in there\n",
    "!ls"
   ]
  },
  {
   "cell_type": "code",
   "execution_count": null,
   "metadata": {},
   "outputs": [],
   "source": [
    "# Unzip the file\n",
    "!unzip superheroes-info-and-stats.zip"
   ]
  },
  {
   "cell_type": "code",
   "execution_count": null,
   "metadata": {},
   "outputs": [],
   "source": [
    "# Look at files again\n",
    "!ls"
   ]
  },
  {
   "cell_type": "markdown",
   "metadata": {},
   "source": [
    "Sweet. After perusing through the files on Kaggle, I decided that a combination of `superheroes_info.csv` and `superheroes_stats.csv`.\n",
    "\n",
    "Let's start with `info`."
   ]
  },
  {
   "cell_type": "code",
   "execution_count": null,
   "metadata": {},
   "outputs": [],
   "source": [
    "info = pd.read_csv('superheroes_info.csv')\n",
    "info.head()"
   ]
  },
  {
   "cell_type": "markdown",
   "metadata": {},
   "source": [
    "Let's drop that `Unnamed:0` column."
   ]
  },
  {
   "cell_type": "code",
   "execution_count": null,
   "metadata": {},
   "outputs": [],
   "source": [
    "info.columns"
   ]
  },
  {
   "cell_type": "code",
   "execution_count": null,
   "metadata": {},
   "outputs": [],
   "source": [
    "info.drop(['Unnamed: 0'], axis=1, inplace=True)"
   ]
  },
  {
   "cell_type": "code",
   "execution_count": null,
   "metadata": {},
   "outputs": [],
   "source": [
    "info.columns"
   ]
  },
  {
   "cell_type": "code",
   "execution_count": null,
   "metadata": {},
   "outputs": [],
   "source": [
    "info.head()"
   ]
  },
  {
   "cell_type": "markdown",
   "metadata": {},
   "source": [
    "There appears to be multi-versions of some superheroes. While we are just interested in putting together some dummy data for our visualization exercises rather than putting together a rigorous analysis, let's see what the risk is of these 'dupes'."
   ]
  },
  {
   "cell_type": "code",
   "execution_count": null,
   "metadata": {},
   "outputs": [],
   "source": [
    "print(\"Number of rows: \" + str(info.shape[0]))\n",
    "print(\"Number of unique names: \" + str(len(info['Name'].unique())))"
   ]
  },
  {
   "cell_type": "code",
   "execution_count": null,
   "metadata": {},
   "outputs": [],
   "source": [
    "22265 / 23777"
   ]
  },
  {
   "cell_type": "markdown",
   "metadata": {},
   "source": [
    "That seems sizeable, but based on our small sample size that it appears that superheroes are just alternative universe versions of each other, I think it's for our not-so-serious exercise."
   ]
  },
  {
   "cell_type": "markdown",
   "metadata": {},
   "source": [
    "Ok, now let's look at `stats`"
   ]
  },
  {
   "cell_type": "code",
   "execution_count": null,
   "metadata": {},
   "outputs": [],
   "source": [
    "stats = pd.read_csv('superheroes_stats.csv')\n",
    "stats.head()"
   ]
  },
  {
   "cell_type": "markdown",
   "metadata": {},
   "source": [
    "Looks ok. Let's try to `pd.merge`"
   ]
  },
  {
   "cell_type": "code",
   "execution_count": null,
   "metadata": {},
   "outputs": [],
   "source": [
    "heroes = pd.merge(info, stats, how='inner', left_on='Name', right_on= 'Name')"
   ]
  },
  {
   "cell_type": "code",
   "execution_count": null,
   "metadata": {},
   "outputs": [],
   "source": [
    "heroes.head().T"
   ]
  },
  {
   "cell_type": "markdown",
   "metadata": {},
   "source": [
    "Looks like 'Alignment' is duplicated. Let's clean that up."
   ]
  },
  {
   "cell_type": "code",
   "execution_count": null,
   "metadata": {},
   "outputs": [],
   "source": [
    "heroes.columns"
   ]
  },
  {
   "cell_type": "code",
   "execution_count": null,
   "metadata": {},
   "outputs": [],
   "source": [
    "heroes.rename(columns={'Alignment_x':'Alignment'}, inplace=True)\n",
    "heroes.drop(['Alignment_y'], axis=1, inplace=True)"
   ]
  },
  {
   "cell_type": "code",
   "execution_count": null,
   "metadata": {},
   "outputs": [],
   "source": [
    "heroes.columns"
   ]
  },
  {
   "cell_type": "markdown",
   "metadata": {},
   "source": [
    "Better. \n",
    "\n",
    "To simplify our demo work, let's remove any rows where any of the numeric variables are `NaN`."
   ]
  },
  {
   "cell_type": "code",
   "execution_count": null,
   "metadata": {},
   "outputs": [],
   "source": [
    "cols = ['Intelligence', 'Strength', 'Speed', 'Durability', 'Power', 'Combat', 'Total'] \n",
    "heroes = heroes.dropna(subset=cols).copy()"
   ]
  },
  {
   "cell_type": "code",
   "execution_count": null,
   "metadata": {},
   "outputs": [],
   "source": [
    "heroes.shape"
   ]
  },
  {
   "cell_type": "code",
   "execution_count": null,
   "metadata": {},
   "outputs": [],
   "source": [
    "heroes.describe()"
   ]
  },
  {
   "cell_type": "code",
   "execution_count": null,
   "metadata": {},
   "outputs": [],
   "source": [
    "heroes.info()"
   ]
  },
  {
   "cell_type": "markdown",
   "metadata": {},
   "source": [
    "Good enough for our practice work."
   ]
  },
  {
   "cell_type": "markdown",
   "metadata": {},
   "source": [
    "# Unvariates Statistics\n",
    "\n",
    "Let's cover a couple of classic ways to perform univariate exploration of continuous variables: Histograms and Boxplots. \n",
    "\n",
    "First up, the histogram:"
   ]
  },
  {
   "cell_type": "code",
   "execution_count": null,
   "metadata": {
    "scrolled": false
   },
   "outputs": [],
   "source": [
    "px.histogram(data_frame=heroes\n",
    "     , x=\"Strength\"\n",
    "     , title=\"Strength Distribution : Count of Heroes\"\n",
    "     , template='plotly'\n",
    "     )"
   ]
  },
  {
   "cell_type": "markdown",
   "metadata": {},
   "source": [
    "You can read more on how cool histograms are here.\n",
    "https://medium.com/@johnnaujoks/extreme-makeover-histogram-edition-fdb824d7e58"
   ]
  },
  {
   "cell_type": "markdown",
   "metadata": {},
   "source": [
    "And then the boxplot. So elegant in it's simplicity it almost make tear up."
   ]
  },
  {
   "cell_type": "code",
   "execution_count": null,
   "metadata": {},
   "outputs": [],
   "source": [
    "px.box(data_frame=heroes\n",
    "    , y=\"Speed\"\n",
    "    , title=\"Distribution of Heroes' Speed Ratings\"\n",
    "    , template='presentation'\n",
    "    )"
   ]
  },
  {
   "cell_type": "markdown",
   "metadata": {},
   "source": [
    "More can be found on boxplots here: https://dev.to/annalara/deconstructing-the-box-and-whisker-plot-11f3\n",
    "https://medium.com/@larrychewy/the-box-and-the-bees-7d0b6ded65db"
   ]
  },
  {
   "cell_type": "markdown",
   "metadata": {},
   "source": [
    "But wait. Is that violin music I hear?"
   ]
  },
  {
   "cell_type": "code",
   "execution_count": null,
   "metadata": {},
   "outputs": [],
   "source": [
    "px.violin(data_frame=heroes\n",
    "          , y=\"Speed\"\n",
    "          , box=True\n",
    "          , title=\"Distribution of Heroes' Speed Ratings\"\n",
    "          , template='presentation'\n",
    "         )"
   ]
  },
  {
   "cell_type": "markdown",
   "metadata": {},
   "source": [
    "[Violin plots](https://en.wikipedia.org/wiki/Violin_plot) are becoming increasingly popular. I like to think of them as boxplot's cooler, younger sibling."
   ]
  },
  {
   "cell_type": "markdown",
   "metadata": {},
   "source": [
    "What about investigating categorical variables one by one? Usually, we want to see what relative counts of distinct values looks like. \n",
    "\n",
    "Enter, the [bar chart](https://medium.com/@Infogram/the-dos-and-donts-of-bar-charts-bd2df09e5cd1). Here's a classic version:"
   ]
  },
  {
   "cell_type": "code",
   "execution_count": null,
   "metadata": {},
   "outputs": [],
   "source": [
    "# Aggregate publisher counts\n",
    "heroes_publisher = pd.DataFrame(heroes['Publisher'].value_counts()).reset_index()\n",
    "heroes_publisher.columns = ['publisher','counts']"
   ]
  },
  {
   "cell_type": "code",
   "execution_count": null,
   "metadata": {},
   "outputs": [],
   "source": [
    "px.bar(data_frame=heroes_publisher\n",
    "       , x='publisher'\n",
    "       , y='counts'\n",
    "       , template='plotly_white'\n",
    "       , title='Count of Heroes by Publisher'\n",
    "      )"
   ]
  },
  {
   "cell_type": "markdown",
   "metadata": {},
   "source": [
    "Univariate analysis is all well and good, but usually we are not solely trying to get a feel for the distribution of one variable, but for it's relationship to one or more other variables. So let's flexing our `plotly-express` muscles on some examples of bivariate techniques.\n",
    "\n"
   ]
  },
  {
   "cell_type": "markdown",
   "metadata": {},
   "source": [
    "# Bivariate Comparison\n",
    "\n",
    "Let's start with comparing continuous variables to other continuous variables."
   ]
  },
  {
   "cell_type": "markdown",
   "metadata": {},
   "source": [
    "### Continuous vs Continuous\n",
    "\n",
    "[Scatter plots](https://medium.com/@mia.iseman/in-praise-of-scatterplots-and-bubble-charts-e1f39548ee84) are the tried and true way of comparing two continuous (numeric) variables. It's a great way to quickly assess whether a relationship exists between the two variables. \n",
    "\n",
    "In the example below, we further give ourselves a helping hand at spotting a relationship by adding a trendline. It appears that there is a weak positive correlation between `Strength` and `Intelligence`."
   ]
  },
  {
   "cell_type": "code",
   "execution_count": null,
   "metadata": {},
   "outputs": [],
   "source": [
    "px.scatter(data_frame=heroes\n",
    "           , x=\"Strength\"\n",
    "           , y=\"Intelligence\"\n",
    "           , trendline='ols'\n",
    "           , title='Heroes Comparison: Strength vs Intelligence'\n",
    "           , hover_name='Name'\n",
    "           , template='plotly_dark'\n",
    "          )"
   ]
  },
  {
   "cell_type": "code",
   "execution_count": null,
   "metadata": {},
   "outputs": [],
   "source": [
    "# lots_win_pct = dribble_lots.groupby(['team_long_name']).agg(\n",
    "#     {'won': 'sum','team_long_name': 'count'}).rename(columns=\n",
    "#     {'won':'wins','team_long_name': 'matches'}).reset_index()"
   ]
  },
  {
   "cell_type": "code",
   "execution_count": null,
   "metadata": {},
   "outputs": [],
   "source": [
    "heroes['Year'] = heroes.loc[:,'Year'].fillna(0).astype(int)"
   ]
  },
  {
   "cell_type": "code",
   "execution_count": null,
   "metadata": {},
   "outputs": [],
   "source": [
    "heroes.info()"
   ]
  },
  {
   "cell_type": "code",
   "execution_count": null,
   "metadata": {},
   "outputs": [],
   "source": [
    "heroes_first_appear_year = heroes.loc[\n",
    "        heroes['Year']!=0,:].groupby(['Year']).agg(\n",
    "            {'Name':'count'}).reset_index().rename(\n",
    "                columns={'Name':'Num_Heroes'})"
   ]
  },
  {
   "cell_type": "markdown",
   "metadata": {},
   "source": [
    "A special case of continuous versus continuous (or if you really want to, discrete) comparison are time series. The classic way to do this is with a [line plot](https://medium.com/@patrickbfuller/line-plot-7b4068a3a9fc).  Almost always the time variable will be along the x-axis while the other continuous variable is measured along the y-axis. And now you can see how it changed over time!\n",
    "\n",
    "Here's an example looking at `Number of Superheroes` by their `Year of First Appearance`."
   ]
  },
  {
   "cell_type": "code",
   "execution_count": null,
   "metadata": {
    "scrolled": true
   },
   "outputs": [],
   "source": [
    "px.line(data_frame=heroes_first_appear_year\n",
    "        ,x='Year'\n",
    "        ,y='Num_Heroes'\n",
    "        ,template='ggplot2'\n",
    "        ,title=\"Number of Heroes by Year of First Appearance\"\n",
    "        ,labels={\"Num_Heroes\":\"Number of Heroes\"}\n",
    "       )"
   ]
  },
  {
   "cell_type": "code",
   "execution_count": null,
   "metadata": {
    "scrolled": true
   },
   "outputs": [],
   "source": [
    "heroes.columns"
   ]
  },
  {
   "cell_type": "markdown",
   "metadata": {},
   "source": [
    "### Categorical vs Continuous\n",
    "\n",
    "What if we want to compare categorical versus continuous variables? Well, it turns out that we can just use univariate techniques, but just \"repeat\" them! One of my favorite ways is using a stacked histogram. We can make a histogram for our continous variable for each value of a categorical variable, and then just stack them!\n",
    "\n",
    "For example, let's revisit our histogram from before on `Strength`, but this time we'd like to see them separated out by `Gender`.  I prefer to seem the stacked list this:"
   ]
  },
  {
   "cell_type": "code",
   "execution_count": null,
   "metadata": {
    "scrolled": false
   },
   "outputs": [],
   "source": [
    "px.histogram(data_frame=heroes[~heroes.Gender.isna()]\n",
    "             , x=\"Strength\"\n",
    "             , color='Gender'\n",
    "             , labels={'count':'Count of Heroes'}\n",
    "             , title=\"Strength Distribution : Count of Heroes\"\n",
    "             , template='plotly'\n",
    "            )"
   ]
  },
  {
   "cell_type": "markdown",
   "metadata": {},
   "source": [
    "But maybe you want to see the like bins grouped together? "
   ]
  },
  {
   "cell_type": "code",
   "execution_count": null,
   "metadata": {
    "scrolled": false
   },
   "outputs": [],
   "source": [
    "px.histogram(data_frame=heroes[~heroes.Gender.isna()]\n",
    "             , x=\"Strength\"\n",
    "             , color='Gender'\n",
    "             , barmode = 'group'\n",
    "             , labels={'count':'Count of Heroes'}\n",
    "             , title=\"Strength Distribution : Count of Heroes\"\n",
    "             , template='plotly'\n",
    "            )"
   ]
  },
  {
   "cell_type": "markdown",
   "metadata": {},
   "source": [
    "...or maybe you prefer to see them unstacked? "
   ]
  },
  {
   "cell_type": "code",
   "execution_count": null,
   "metadata": {
    "scrolled": false
   },
   "outputs": [],
   "source": [
    "px.histogram(data_frame=heroes[~heroes.Gender.isna()]\n",
    "             , x=\"Strength\"\n",
    "             , color='Gender'\n",
    "             , facet_row='Gender'\n",
    "             , labels={'count':'Count of Heroes'}\n",
    "             , title=\"Strength Distribution\"\n",
    "             , template='plotly')"
   ]
  },
  {
   "cell_type": "markdown",
   "metadata": {},
   "source": [
    "Boxplots want to get in on the action!"
   ]
  },
  {
   "cell_type": "code",
   "execution_count": null,
   "metadata": {},
   "outputs": [],
   "source": [
    "px.box(\n",
    "        data_frame=heroes[~heroes.Gender.isna()]\n",
    "        , y=\"Speed\"\n",
    "        , color=\"Gender\"\n",
    "        , title=\"Distribution of Heroes' Speed Ratings\"\n",
    "        , template='presentation')"
   ]
  },
  {
   "cell_type": "markdown",
   "metadata": {},
   "source": [
    "and whatever boxplot can do, so can violin plots!"
   ]
  },
  {
   "cell_type": "code",
   "execution_count": null,
   "metadata": {
    "scrolled": false
   },
   "outputs": [],
   "source": [
    "px.violin(\n",
    "        heroes[~heroes.Gender.isna()]\n",
    "        , y=\"Speed\"\n",
    "        , color=\"Gender\"\n",
    "        , box=True\n",
    "        , title=\"Distribution of Heroes' Speed Ratings\"\n",
    "        , template='presentation')"
   ]
  },
  {
   "cell_type": "markdown",
   "metadata": {},
   "source": [
    "### Categorical vs. Categorical\n",
    "\n",
    "So now what about if you want to just compare categorical vs categorical values? Usually, if that's the case you want to look at relative counts. So stacked bars are a good way to go:"
   ]
  },
  {
   "cell_type": "code",
   "execution_count": null,
   "metadata": {},
   "outputs": [],
   "source": [
    "heroes.columns"
   ]
  },
  {
   "cell_type": "code",
   "execution_count": null,
   "metadata": {
    "scrolled": false
   },
   "outputs": [],
   "source": [
    "px.histogram(data_frame=heroes\n",
    "             ,x=\"Publisher\"\n",
    "             ,y=\"Name\"\n",
    "             ,color=\"Alignment\"\n",
    "             ,histfunc=\"count\"\n",
    "             ,title=\"Distribution of Heroes, by Publisher | Good-Bad-Neutral\"\n",
    "             ,labels={'Name':'Characters'}\n",
    "             ,template='plotly_white'\n",
    "            )"
   ]
  },
  {
   "cell_type": "markdown",
   "metadata": {},
   "source": [
    "Aside: It turns out that stacked bar charts are way easier using `.histogram` since it gives access to `histfunc`, which allows you to apply a function to the histogram. Saves from having to aggregate first (which you may have noticed was done for the `.bar` chart above."
   ]
  },
  {
   "cell_type": "markdown",
   "metadata": {
    "slideshow": {
     "slide_type": "slide"
    }
   },
   "source": [
    "## Mix it up!\n",
    "\n",
    "So we may be sensing a pattern here. We can turn any univariate visualization into a bivariate one (or more) by using  another visual element, such as color; or by splitting (sometimes called `facet`ing) along category values. \n",
    "\n",
    "Let's explore a third variable! \n",
    "\n",
    "Maybe this add a categorical variable to our scatter plot using color?"
   ]
  },
  {
   "cell_type": "code",
   "execution_count": null,
   "metadata": {},
   "outputs": [],
   "source": [
    "px.scatter(data_frame=heroes[~heroes.Gender.isna()]\n",
    "           , x=\"Strength\"\n",
    "           , y=\"Intelligence\"\n",
    "           , color=\"Alignment\"\n",
    "           , trendline='ols'\n",
    "           , title='Heroes Comparison: Strength vs Intelligence'\n",
    "           , hover_name='Name'\n",
    "           , opacity=0.5\n",
    "           , template='plotly_dark')"
   ]
  },
  {
   "cell_type": "markdown",
   "metadata": {},
   "source": [
    "Maybe *this* data set is not that interesting with the added category, but categories really stand out when you find the right pattern, such as with the class iris data set...like this:\n",
    "\n",
    "![image.png](iris_scatter.png)"
   ]
  },
  {
   "cell_type": "markdown",
   "metadata": {
    "slideshow": {
     "slide_type": "slide"
    }
   },
   "source": [
    "#### Univariate\n",
    "- Continuous\n",
    "    - Histograms\n",
    "    - Boxplots\n",
    "- Categorical\n",
    "    - Bar charts\n",
    "\n",
    "#### Bivariate\n",
    "- Continuous vs Continuous\n",
    "    - Scatter\n",
    "    - Line Plot\n",
    "- Continuous vs Categorical\n",
    "    - Use Univariate techniques but use a different chart for each \n",
    "    - Use colors, markers, shapes\n",
    "- Categorical vs Categorical\n"
   ]
  },
  {
   "cell_type": "markdown",
   "metadata": {},
   "source": [
    "Maybe *this* data set is not that interesting with the added category, but categories really stand out when you find the right pattern, such as with the class iris data set...like this:\n",
    "\n",
    "![image.png](iris_scatter.png)"
   ]
  },
  {
   "cell_type": "markdown",
   "metadata": {},
   "source": [
    "But going back to our orginal scatter with with color, what if we wanted to add on a *third* continuous variable? How about if we tied it to the size of our markers?"
   ]
  },
  {
   "cell_type": "code",
   "execution_count": null,
   "metadata": {},
   "outputs": [],
   "source": [
    "heroes.columns"
   ]
  },
  {
   "cell_type": "code",
   "execution_count": null,
   "metadata": {},
   "outputs": [],
   "source": [
    "px.scatter(data_frame=heroes[~heroes.Gender.isna()]\n",
    "           , x=\"Strength\"\n",
    "           , y=\"Intelligence\"\n",
    "           , color=\"Alignment\"\n",
    "           , size=\"Power\"\n",
    "           , trendline='ols'\n",
    "           , title='Heroes Comparison: Strength vs Intelligence'\n",
    "           , hover_name='Name'\n",
    "           , opacity=0.5\n",
    "           , template='plotly_dark'\n",
    "          )"
   ]
  },
  {
   "cell_type": "code",
   "execution_count": null,
   "metadata": {},
   "outputs": [],
   "source": [
    "heroes.loc[:,['Gender','Publisher']].notnull()"
   ]
  },
  {
   "cell_type": "markdown",
   "metadata": {},
   "source": [
    "Wow, Galactus is tops in Strength, Intelligence, and size! One thing I noticed is that the legend doesn't automatically add an entry for Size = 'Power'. Hey, plotly.express has already spoiled me in the course of this post!"
   ]
  },
  {
   "cell_type": "markdown",
   "metadata": {},
   "source": [
    "### Scatter Matrix"
   ]
  },
  {
   "cell_type": "code",
   "execution_count": null,
   "metadata": {},
   "outputs": [],
   "source": [
    "heroes.columns"
   ]
  },
  {
   "cell_type": "code",
   "execution_count": null,
   "metadata": {},
   "outputs": [],
   "source": [
    "heroes[~heroes['Gender'].isna() & ~heroes['Publisher'].isna()].describe()"
   ]
  },
  {
   "cell_type": "code",
   "execution_count": null,
   "metadata": {},
   "outputs": [],
   "source": [
    "px.scatter_matrix(data_frame=heroes[~heroes['Gender'].isna()]\n",
    "                  , dimensions=[\"Strength\", \"Speed\", \"Power\"] \n",
    "                  , color=\"Alignment\"\n",
    "                  , symbol=\"Gender\" \n",
    "                  , title='Heroes Attributes Comparison'\n",
    "                  , hover_name='Name'\n",
    "                  , template='seaborn'\n",
    "                 )"
   ]
  },
  {
   "cell_type": "markdown",
   "metadata": {},
   "source": [
    "Scatter with marginal plots"
   ]
  },
  {
   "cell_type": "code",
   "execution_count": null,
   "metadata": {},
   "outputs": [],
   "source": [
    "px.scatter(data_frame=heroes[~heroes.Gender.isna()]\n",
    "           , x=\"Strength\"\n",
    "           , y=\"Speed\"\n",
    "           , color=\"Alignment\"\n",
    "           , title='Strength vs Speed | by Alignment'\n",
    "           , trendline='ols' \n",
    "           , marginal_x='histogram'\n",
    "           , marginal_y='box'\n",
    "           , hover_name='Name'\n",
    "           , opacity=0.2\n",
    "           , template='seaborn'\n",
    "          )"
   ]
  },
  {
   "cell_type": "markdown",
   "metadata": {},
   "source": [
    "## Sources:\n",
    "\n",
    "https://www.plotly.express/\n",
    "\n",
    "plotly. Introducing Plotly Express , 20 Mar 2019, https://medium.com/@plotlygraphs/introducing-plotly-express-808df010143d. Accessed 11 May 2019.\n",
    "\n",
    "\n",
    "https://towardsdatascience.com/plotly-express-yourself-98366e35ad0f"
   ]
  }
 ],
 "metadata": {
  "celltoolbar": "Slideshow",
  "kernelspec": {
   "display_name": "Python 3",
   "language": "python",
   "name": "python3"
  },
  "language_info": {
   "codemirror_mode": {
    "name": "ipython",
    "version": 3
   },
   "file_extension": ".py",
   "mimetype": "text/x-python",
   "name": "python",
   "nbconvert_exporter": "python",
   "pygments_lexer": "ipython3",
   "version": "3.7.6"
  }
 },
 "nbformat": 4,
 "nbformat_minor": 2
}
