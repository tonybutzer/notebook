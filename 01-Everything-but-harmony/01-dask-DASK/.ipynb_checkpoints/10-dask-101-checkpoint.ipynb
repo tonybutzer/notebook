{
 "cells": [
  {
   "cell_type": "code",
   "execution_count": 26,
   "metadata": {},
   "outputs": [
    {
     "name": "stdout",
     "output_type": "stream",
     "text": [
      "Collecting graphviz\n",
      "  Downloading https://files.pythonhosted.org/packages/83/cc/c62100906d30f95d46451c15eb407da7db201e30f42008f3643945910373/graphviz-0.14-py2.py3-none-any.whl\n",
      "Installing collected packages: graphviz\n",
      "Successfully installed graphviz-0.14\n"
     ]
    }
   ],
   "source": [
    "# ! python -m pip install dask distributed --user\n",
    "# ! pip install --user bokeh\n",
    "! pip install graphviz --user"
   ]
  },
  {
   "cell_type": "code",
   "execution_count": 2,
   "metadata": {},
   "outputs": [
    {
     "data": {
      "text/html": [
       "<table style=\"border: 2px solid white;\">\n",
       "<tr>\n",
       "<td style=\"vertical-align: top; border: 0px solid white\">\n",
       "<h3 style=\"text-align: left;\">Client</h3>\n",
       "<ul style=\"text-align: left; list-style: none; margin: 0; padding: 0;\">\n",
       "  <li><b>Scheduler: </b>tcp://127.0.0.1:39723</li>\n",
       "  <li><b>Dashboard: </b><a href='http://127.0.0.1:8787/status' target='_blank'>http://127.0.0.1:8787/status</a></li>\n",
       "</ul>\n",
       "</td>\n",
       "<td style=\"vertical-align: top; border: 0px solid white\">\n",
       "<h3 style=\"text-align: left;\">Cluster</h3>\n",
       "<ul style=\"text-align: left; list-style:none; margin: 0; padding: 0;\">\n",
       "  <li><b>Workers: </b>1</li>\n",
       "  <li><b>Cores: </b>8</li>\n",
       "  <li><b>Memory: </b>33.40 GB</li>\n",
       "</ul>\n",
       "</td>\n",
       "</tr>\n",
       "</table>"
      ],
      "text/plain": [
       "<Client: 'tcp://127.0.0.1:39723' processes=1 threads=8, memory=33.40 GB>"
      ]
     },
     "execution_count": 2,
     "metadata": {},
     "output_type": "execute_result"
    }
   ],
   "source": [
    "from dask.distributed import Client, progress\n",
    "client = Client( n_workers=1)\n",
    "client"
   ]
  },
  {
   "cell_type": "code",
   "execution_count": 3,
   "metadata": {},
   "outputs": [],
   "source": [
    "import time\n",
    "import random\n",
    "\n",
    "def inc(x):\n",
    "    time.sleep(random.random())\n",
    "    return x + 1\n",
    "\n",
    "def dec(x):\n",
    "    time.sleep(random.random())\n",
    "    return x - 1\n",
    "\n",
    "def add(x, y):\n",
    "    time.sleep(random.random())\n",
    "    return x + y"
   ]
  },
  {
   "cell_type": "code",
   "execution_count": 4,
   "metadata": {},
   "outputs": [
    {
     "name": "stdout",
     "output_type": "stream",
     "text": [
      "CPU times: user 19 ms, sys: 682 µs, total: 19.7 ms\n",
      "Wall time: 647 ms\n"
     ]
    },
    {
     "data": {
      "text/plain": [
       "3"
      ]
     },
     "execution_count": 4,
     "metadata": {},
     "output_type": "execute_result"
    }
   ],
   "source": [
    "%%time\n",
    "x = inc(1)\n",
    "y = dec(2)\n",
    "z = add(x, y)\n",
    "z"
   ]
  },
  {
   "cell_type": "code",
   "execution_count": 20,
   "metadata": {},
   "outputs": [],
   "source": [
    "import dask\n",
    "inc = dask.delayed(inc)\n",
    "dec = dask.delayed(dec)\n",
    "add = dask.delayed(add)"
   ]
  },
  {
   "cell_type": "code",
   "execution_count": 21,
   "metadata": {},
   "outputs": [
    {
     "data": {
      "text/plain": [
       "Delayed('add-9aaec85c-4aaf-4e0b-8b81-6fbb43e73e40')"
      ]
     },
     "execution_count": 21,
     "metadata": {},
     "output_type": "execute_result"
    }
   ],
   "source": [
    "x = inc(1)\n",
    "y = dec(2)\n",
    "z = add(x, y)\n",
    "z"
   ]
  },
  {
   "cell_type": "code",
   "execution_count": 25,
   "metadata": {},
   "outputs": [
    {
     "ename": "RuntimeError",
     "evalue": "Drawing dask graphs requires the `graphviz` python library and the `graphviz` system library to be installed.",
     "output_type": "error",
     "traceback": [
      "\u001b[0;31m---------------------------------------------------------------------------\u001b[0m",
      "\u001b[0;31mModuleNotFoundError\u001b[0m                       Traceback (most recent call last)",
      "\u001b[0;32m~/.local/lib/python3.7/site-packages/dask/utils.py\u001b[0m in \u001b[0;36mimport_required\u001b[0;34m(mod_name, error_msg)\u001b[0m\n\u001b[1;32m     96\u001b[0m     \u001b[0;32mtry\u001b[0m\u001b[0;34m:\u001b[0m\u001b[0;34m\u001b[0m\u001b[0;34m\u001b[0m\u001b[0m\n\u001b[0;32m---> 97\u001b[0;31m         \u001b[0;32mreturn\u001b[0m \u001b[0mimport_module\u001b[0m\u001b[0;34m(\u001b[0m\u001b[0mmod_name\u001b[0m\u001b[0;34m)\u001b[0m\u001b[0;34m\u001b[0m\u001b[0;34m\u001b[0m\u001b[0m\n\u001b[0m\u001b[1;32m     98\u001b[0m     \u001b[0;32mexcept\u001b[0m \u001b[0mImportError\u001b[0m\u001b[0;34m:\u001b[0m\u001b[0;34m\u001b[0m\u001b[0;34m\u001b[0m\u001b[0m\n",
      "\u001b[0;32m/opt/tljh/user/lib/python3.7/importlib/__init__.py\u001b[0m in \u001b[0;36mimport_module\u001b[0;34m(name, package)\u001b[0m\n\u001b[1;32m    126\u001b[0m             \u001b[0mlevel\u001b[0m \u001b[0;34m+=\u001b[0m \u001b[0;36m1\u001b[0m\u001b[0;34m\u001b[0m\u001b[0;34m\u001b[0m\u001b[0m\n\u001b[0;32m--> 127\u001b[0;31m     \u001b[0;32mreturn\u001b[0m \u001b[0m_bootstrap\u001b[0m\u001b[0;34m.\u001b[0m\u001b[0m_gcd_import\u001b[0m\u001b[0;34m(\u001b[0m\u001b[0mname\u001b[0m\u001b[0;34m[\u001b[0m\u001b[0mlevel\u001b[0m\u001b[0;34m:\u001b[0m\u001b[0;34m]\u001b[0m\u001b[0;34m,\u001b[0m \u001b[0mpackage\u001b[0m\u001b[0;34m,\u001b[0m \u001b[0mlevel\u001b[0m\u001b[0;34m)\u001b[0m\u001b[0;34m\u001b[0m\u001b[0;34m\u001b[0m\u001b[0m\n\u001b[0m\u001b[1;32m    128\u001b[0m \u001b[0;34m\u001b[0m\u001b[0m\n",
      "\u001b[0;32m/opt/tljh/user/lib/python3.7/importlib/_bootstrap.py\u001b[0m in \u001b[0;36m_gcd_import\u001b[0;34m(name, package, level)\u001b[0m\n",
      "\u001b[0;32m/opt/tljh/user/lib/python3.7/importlib/_bootstrap.py\u001b[0m in \u001b[0;36m_find_and_load\u001b[0;34m(name, import_)\u001b[0m\n",
      "\u001b[0;32m/opt/tljh/user/lib/python3.7/importlib/_bootstrap.py\u001b[0m in \u001b[0;36m_find_and_load_unlocked\u001b[0;34m(name, import_)\u001b[0m\n",
      "\u001b[0;31mModuleNotFoundError\u001b[0m: No module named 'graphviz'",
      "\nDuring handling of the above exception, another exception occurred:\n",
      "\u001b[0;31mRuntimeError\u001b[0m                              Traceback (most recent call last)",
      "\u001b[0;32m<ipython-input-25-b7513f5e4ea4>\u001b[0m in \u001b[0;36m<module>\u001b[0;34m\u001b[0m\n\u001b[0;32m----> 1\u001b[0;31m \u001b[0mz\u001b[0m\u001b[0;34m.\u001b[0m\u001b[0mvisualize\u001b[0m\u001b[0;34m(\u001b[0m\u001b[0mrankdir\u001b[0m\u001b[0;34m=\u001b[0m\u001b[0;34m'LR'\u001b[0m\u001b[0;34m)\u001b[0m \u001b[0;31m#-- needs graphviz - test when you play with dask\u001b[0m\u001b[0;34m\u001b[0m\u001b[0;34m\u001b[0m\u001b[0m\n\u001b[0m",
      "\u001b[0;32m~/.local/lib/python3.7/site-packages/dask/base.py\u001b[0m in \u001b[0;36mvisualize\u001b[0;34m(self, filename, format, optimize_graph, **kwargs)\u001b[0m\n\u001b[1;32m     95\u001b[0m             \u001b[0mformat\u001b[0m\u001b[0;34m=\u001b[0m\u001b[0mformat\u001b[0m\u001b[0;34m,\u001b[0m\u001b[0;34m\u001b[0m\u001b[0;34m\u001b[0m\u001b[0m\n\u001b[1;32m     96\u001b[0m             \u001b[0moptimize_graph\u001b[0m\u001b[0;34m=\u001b[0m\u001b[0moptimize_graph\u001b[0m\u001b[0;34m,\u001b[0m\u001b[0;34m\u001b[0m\u001b[0;34m\u001b[0m\u001b[0m\n\u001b[0;32m---> 97\u001b[0;31m             \u001b[0;34m**\u001b[0m\u001b[0mkwargs\u001b[0m\u001b[0;34m\u001b[0m\u001b[0;34m\u001b[0m\u001b[0m\n\u001b[0m\u001b[1;32m     98\u001b[0m         )\n\u001b[1;32m     99\u001b[0m \u001b[0;34m\u001b[0m\u001b[0m\n",
      "\u001b[0;32m~/.local/lib/python3.7/site-packages/dask/base.py\u001b[0m in \u001b[0;36mvisualize\u001b[0;34m(*args, **kwargs)\u001b[0m\n\u001b[1;32m    491\u001b[0m     \u001b[0mhttps\u001b[0m\u001b[0;34m:\u001b[0m\u001b[0;34m//\u001b[0m\u001b[0mdocs\u001b[0m\u001b[0;34m.\u001b[0m\u001b[0mdask\u001b[0m\u001b[0;34m.\u001b[0m\u001b[0morg\u001b[0m\u001b[0;34m/\u001b[0m\u001b[0men\u001b[0m\u001b[0;34m/\u001b[0m\u001b[0mlatest\u001b[0m\u001b[0;34m/\u001b[0m\u001b[0moptimize\u001b[0m\u001b[0;34m.\u001b[0m\u001b[0mhtml\u001b[0m\u001b[0;34m\u001b[0m\u001b[0;34m\u001b[0m\u001b[0m\n\u001b[1;32m    492\u001b[0m     \"\"\"\n\u001b[0;32m--> 493\u001b[0;31m     \u001b[0;32mfrom\u001b[0m \u001b[0mdask\u001b[0m\u001b[0;34m.\u001b[0m\u001b[0mdot\u001b[0m \u001b[0;32mimport\u001b[0m \u001b[0mdot_graph\u001b[0m\u001b[0;34m\u001b[0m\u001b[0;34m\u001b[0m\u001b[0m\n\u001b[0m\u001b[1;32m    494\u001b[0m \u001b[0;34m\u001b[0m\u001b[0m\n\u001b[1;32m    495\u001b[0m     \u001b[0mfilename\u001b[0m \u001b[0;34m=\u001b[0m \u001b[0mkwargs\u001b[0m\u001b[0;34m.\u001b[0m\u001b[0mpop\u001b[0m\u001b[0;34m(\u001b[0m\u001b[0;34m\"filename\"\u001b[0m\u001b[0;34m,\u001b[0m \u001b[0;34m\"mydask\"\u001b[0m\u001b[0;34m)\u001b[0m\u001b[0;34m\u001b[0m\u001b[0;34m\u001b[0m\u001b[0m\n",
      "\u001b[0;32m~/.local/lib/python3.7/site-packages/dask/dot.py\u001b[0m in \u001b[0;36m<module>\u001b[0;34m\u001b[0m\n\u001b[1;32m      9\u001b[0m graphviz = import_required(\n\u001b[1;32m     10\u001b[0m     \u001b[0;34m\"graphviz\"\u001b[0m\u001b[0;34m,\u001b[0m\u001b[0;34m\u001b[0m\u001b[0;34m\u001b[0m\u001b[0m\n\u001b[0;32m---> 11\u001b[0;31m     \u001b[0;34m\"Drawing dask graphs requires the \"\u001b[0m\u001b[0;34m\u001b[0m\u001b[0;34m\u001b[0m\u001b[0m\n\u001b[0m\u001b[1;32m     12\u001b[0m     \u001b[0;34m\"`graphviz` python library and the \"\u001b[0m\u001b[0;34m\u001b[0m\u001b[0;34m\u001b[0m\u001b[0m\n\u001b[1;32m     13\u001b[0m     \u001b[0;34m\"`graphviz` system library to be \"\u001b[0m\u001b[0;34m\u001b[0m\u001b[0;34m\u001b[0m\u001b[0m\n",
      "\u001b[0;32m~/.local/lib/python3.7/site-packages/dask/utils.py\u001b[0m in \u001b[0;36mimport_required\u001b[0;34m(mod_name, error_msg)\u001b[0m\n\u001b[1;32m     97\u001b[0m         \u001b[0;32mreturn\u001b[0m \u001b[0mimport_module\u001b[0m\u001b[0;34m(\u001b[0m\u001b[0mmod_name\u001b[0m\u001b[0;34m)\u001b[0m\u001b[0;34m\u001b[0m\u001b[0;34m\u001b[0m\u001b[0m\n\u001b[1;32m     98\u001b[0m     \u001b[0;32mexcept\u001b[0m \u001b[0mImportError\u001b[0m\u001b[0;34m:\u001b[0m\u001b[0;34m\u001b[0m\u001b[0;34m\u001b[0m\u001b[0m\n\u001b[0;32m---> 99\u001b[0;31m         \u001b[0;32mraise\u001b[0m \u001b[0mRuntimeError\u001b[0m\u001b[0;34m(\u001b[0m\u001b[0merror_msg\u001b[0m\u001b[0;34m)\u001b[0m\u001b[0;34m\u001b[0m\u001b[0;34m\u001b[0m\u001b[0m\n\u001b[0m\u001b[1;32m    100\u001b[0m \u001b[0;34m\u001b[0m\u001b[0m\n\u001b[1;32m    101\u001b[0m \u001b[0;34m\u001b[0m\u001b[0m\n",
      "\u001b[0;31mRuntimeError\u001b[0m: Drawing dask graphs requires the `graphviz` python library and the `graphviz` system library to be installed."
     ]
    }
   ],
   "source": [
    "z.visualize(rankdir='LR') #-- needs graphviz - test when you play with dask"
   ]
  },
  {
   "cell_type": "code",
   "execution_count": 23,
   "metadata": {},
   "outputs": [
    {
     "data": {
      "text/plain": [
       "3"
      ]
     },
     "execution_count": 23,
     "metadata": {},
     "output_type": "execute_result"
    }
   ],
   "source": [
    "z.compute()"
   ]
  },
  {
   "cell_type": "code",
   "execution_count": 9,
   "metadata": {},
   "outputs": [
    {
     "name": "stdout",
     "output_type": "stream",
     "text": [
      "2019-12-11 15:52:24 aws-athena-query-results-574826924367-us-west-2\r\n",
      "2020-02-11 16:15:38 cd-dev-usgs-eros-sat-api-stagingbucket-1u456p5bmzw7r\r\n",
      "2020-02-12 22:17:35 cd-it-usgs-eros-sat-api-stagingbucket-o97vg0hu4ey0\r\n",
      "2017-10-11 13:15:51 cf-dev-lsdsdpas\r\n",
      "2018-01-08 22:14:15 cf-templates-840xf4hobwk0-us-west-2\r\n",
      "2018-09-17 22:15:10 csr-adminbucket-574826924367\r\n",
      "2019-03-29 15:57:53 dev-cmahan-test\r\n",
      "2019-04-16 18:51:47 dev-dilley\r\n",
      "2020-04-20 18:50:03 dev-et-data\r\n",
      "2018-02-27 17:14:07 dev-jhedman\r\n",
      "2020-04-03 20:56:34 dev-jhedman-logging\r\n",
      "2019-07-02 19:27:50 dev-jjfrench\r\n",
      "2019-08-23 18:11:49 dev-jpitotdelabeaujar-catalog-test\r\n",
      "2020-01-07 22:36:10 dev-landsatlook.dev-lsdsdpas.chs.usgs.gov\r\n",
      "2020-03-12 15:34:03 dev-lsaa-wms-cache\r\n",
      "2020-04-15 15:04:19 dev-nreinke\r\n",
      "2017-11-21 18:08:58 dev-orm\r\n",
      "2019-12-03 16:02:23 dev-rhassan\r\n",
      "2019-06-26 06:12:11 dev-sshrestha\r\n",
      "2019-03-11 21:13:30 dev-test-sunne\r\n",
      "2019-09-27 16:25:27 dev-usgs-cloudformation-iam\r\n",
      "2019-09-20 16:33:41 dev-usgs-custom-infrastructure-cicd-staging-deploy\r\n",
      "2019-09-20 16:11:17 dev-usgs-custom-infrastructure-cicd-staging-test\r\n",
      "2020-02-03 22:12:49 dev-usgs-eros-dynamic-tiler\r\n",
      "2020-02-03 20:53:38 dev-usgs-eros-sat-api\r\n",
      "2019-08-09 13:56:56 dev-usgs-gitlab-runner-cache\r\n",
      "2019-08-14 20:16:54 dev-usgs-lambda-code\r\n",
      "2019-04-25 15:33:03 dev-usgs-landsat\r\n",
      "2020-03-12 17:18:11 dev-usgs-landsat-ard\r\n",
      "2019-07-10 16:36:48 dev-usgs-landsat-auxiliary\r\n",
      "2019-07-26 19:43:04 dev-usgs-landsat-catalog\r\n",
      "2020-01-07 20:10:47 dev-usgs-landsat-cog-queue\r\n",
      "2019-06-12 14:28:10 dev-usgs-landsat-dmt\r\n",
      "2019-08-30 17:09:04 dev-usgs-landsat-dmui\r\n",
      "2019-09-24 14:08:56 dev-usgs-landsat-dmui.dev-lsdsdpas.chs.usgs.gov\r\n",
      "2019-06-26 17:05:16 dev-usgs-landsat-etl\r\n",
      "2019-12-31 20:18:57 dev-usgs-landsat-jobctl\r\n",
      "2019-04-25 15:35:37 dev-usgs-landsat-level-0\r\n",
      "2019-09-26 18:36:53 dev-usgs-landsat-logs\r\n",
      "2020-01-06 18:55:32 dev-usgs-landsat-lsaa-egress-filter\r\n",
      "2019-08-30 17:09:40 dev-usgs-landsat-oui\r\n",
      "2019-09-24 14:09:25 dev-usgs-landsat-oui.dev-lsdsdpas.chs.usgs.gov\r\n",
      "2020-01-17 22:54:22 dev-usgs-landsat-processing-artifacts\r\n",
      "2019-09-05 16:10:16 dev-usgs-landsat-sam-applications\r\n",
      "2019-09-24 14:07:58 dev-usgs-landsat-stac-browser.dev-lsdsdpas.chs.usgs.gov\r\n",
      "2020-04-14 19:25:05 dev-usgs-landsat-temp\r\n",
      "2020-03-11 17:31:28 dev-usgs-landsat-terraform-state\r\n",
      "2019-06-12 14:28:43 dev-usgs-landsat-vis-frontend\r\n",
      "2019-09-24 14:08:26 dev-usgs-landsat-vis-frontend.dev-lsdsdpas.chs.usgs.gov\r\n",
      "2019-07-29 15:41:35 devel-integration-test\r\n",
      "2019-12-16 19:27:14 it-container-validation-output\r\n",
      "2020-01-08 13:55:16 it-landsatlook.dev-lsdsdpas.chs.usgs.gov\r\n",
      "2020-04-15 20:22:53 it-lsaa-wms-cache\r\n",
      "2020-01-15 21:07:09 it-st-usgs-landsat-lpgs-validation-data\r\n",
      "2020-02-03 20:22:28 it-usgs-eros-dynamic-tiler\r\n",
      "2020-02-03 22:22:43 it-usgs-eros-sat-api\r\n",
      "2019-11-27 18:44:46 it-usgs-landsat\r\n",
      "2020-03-12 17:19:02 it-usgs-landsat-ard\r\n",
      "2020-01-07 15:48:33 it-usgs-landsat-cog-queue\r\n",
      "2020-01-06 23:23:39 it-usgs-landsat-dmui\r\n",
      "2019-12-31 20:19:24 it-usgs-landsat-jobctl\r\n",
      "2020-01-03 14:14:20 it-usgs-landsat-level-0\r\n",
      "2019-11-27 18:43:37 it-usgs-landsat-logs\r\n",
      "2020-01-03 14:31:42 it-usgs-landsat-oui\r\n",
      "2019-12-16 19:27:43 it-usgs-landsat-processing-artifacts\r\n",
      "2020-01-29 21:38:43 it-usgs-landsat-stac-browser.dev-lsdsdpas.chs.usgs.gov\r\n",
      "2020-04-14 19:25:38 it-usgs-landsat-temp\r\n",
      "2019-05-17 12:40:24 lsaa-usgs-dynamic-tiler-mosaics-dev\r\n",
      "2019-05-29 21:19:22 lsaa-usgs-sat-api-lambda\r\n",
      "2019-12-06 21:25:22 lsds-builds\r\n",
      "2019-06-12 14:29:20 proto-output\r\n",
      "2020-01-16 04:31:25 serverlessrepo-cloudfront-authorization-s3bucket-1txn0aetf11nb\r\n",
      "2020-04-16 23:39:12 usgs-dev-vault-bucket\r\n"
     ]
    }
   ],
   "source": [
    "! aws s3 ls"
   ]
  },
  {
   "cell_type": "code",
   "execution_count": 10,
   "metadata": {},
   "outputs": [
    {
     "name": "stdout",
     "output_type": "stream",
     "text": [
      "2020-03-13 15:58:40        147 mycode.py\r\n",
      "2020-03-13 18:31:06 99987244856 ngom1_cog.tif\r\n",
      "2020-04-02 13:29:05 250720106294 socal_tbdem_1m_cog.tif\r\n",
      "2020-03-19 20:12:58 38301508205 socal_tbdem_hll_1m_cog.tif\r\n"
     ]
    }
   ],
   "source": [
    "! aws s3 ls chs-pangeo-data-bucket/mcushing/"
   ]
  },
  {
   "cell_type": "code",
   "execution_count": 11,
   "metadata": {},
   "outputs": [
    {
     "name": "stdout",
     "output_type": "stream",
     "text": [
      "{\"blockxsize\": 256, \"blockysize\": 256, \"bounds\": [179523.99999999822, 3599615.0, 495643.99999999825, 3824832.0], \"colorinterp\": [\"gray\"], \"compress\": \"deflate\", \"count\": 1, \"crs\": \"EPSG:26911\", \"descriptions\": [null], \"driver\": \"GTiff\", \"dtype\": \"float32\", \"height\": 225217, \"indexes\": [1], \"interleave\": \"band\", \"lnglat\": [-118.74920746397467, 33.537289805745644], \"mask_flags\": [[\"nodata\"]], \"nodata\": -3.4028230607370965e+38, \"res\": [1.0, 1.0], \"shape\": [225217, 316120], \"tiled\": true, \"transform\": [1.0, 0.0, 179523.99999999822, 0.0, -1.0, 3824832.0, 0.0, 0.0, 1.0], \"units\": [null], \"width\": 316120}\r\n"
     ]
    }
   ],
   "source": [
    "!rio info  /vsis3/chs-pangeo-data-bucket/mcushing/socal_tbdem_1m_cog.tif"
   ]
  },
  {
   "cell_type": "code",
   "execution_count": 12,
   "metadata": {},
   "outputs": [
    {
     "name": "stdout",
     "output_type": "stream",
     "text": [
      "\r\n",
      "An error occurred (AccessDenied) when calling the ListObjectsV2 operation: Access Denied\r\n"
     ]
    }
   ],
   "source": [
    "!aws s3 ls earthmapprod-datalake-testdata/testdata/"
   ]
  },
  {
   "cell_type": "code",
   "execution_count": 13,
   "metadata": {},
   "outputs": [
    {
     "name": "stdout",
     "output_type": "stream",
     "text": [
      "2019-09-10 20:08:08   79597684 LC08_L1GT_030028_20190210_20190222_01_A2_sr_band4.tif\r\n"
     ]
    }
   ],
   "source": [
    "! aws s3 ls dev-usgs-landsat/collection1/level2/albers/oli-tirs/2019/030/028/LC08_L1GT_030028_20190210_20190222_01_A2/LC08_L1GT_030028_20190210_20190222_01_A2_sr_band4.tif"
   ]
  },
  {
   "cell_type": "code",
   "execution_count": 14,
   "metadata": {},
   "outputs": [
    {
     "name": "stdout",
     "output_type": "stream",
     "text": [
      "{\"blockxsize\": 256, \"blockysize\": 256, \"bounds\": [-245415.0, 2440485.0, -7785.0, 2680515.0], \"colorinterp\": [\"gray\"], \"compress\": \"deflate\", \"count\": 1, \"crs\": \"PROJCS[\\\"Albers\\\",GEOGCS[\\\"WGS 84\\\",DATUM[\\\"WGS_1984\\\",SPHEROID[\\\"WGS 84\\\",6378140,298.2569999999957,AUTHORITY[\\\"EPSG\\\",\\\"7030\\\"]],AUTHORITY[\\\"EPSG\\\",\\\"6326\\\"]],PRIMEM[\\\"Greenwich\\\",0],UNIT[\\\"degree\\\",0.0174532925199433],AUTHORITY[\\\"EPSG\\\",\\\"4326\\\"]],PROJECTION[\\\"Albers_Conic_Equal_Area\\\"],PARAMETER[\\\"standard_parallel_1\\\",29.5],PARAMETER[\\\"standard_parallel_2\\\",45.5],PARAMETER[\\\"latitude_of_center\\\",23],PARAMETER[\\\"longitude_of_center\\\",-96],PARAMETER[\\\"false_easting\\\",0],PARAMETER[\\\"false_northing\\\",0],UNIT[\\\"metre\\\",1,AUTHORITY[\\\"EPSG\\\",\\\"9001\\\"]]]\", \"descriptions\": [\"band 4 surface reflectance\"], \"driver\": \"GTiff\", \"dtype\": \"int16\", \"height\": 8001, \"indexes\": [1], \"interleave\": \"band\", \"lnglat\": [-97.63264196576377, 46.022995237252296], \"mask_flags\": [[\"nodata\"]], \"nodata\": -9999.0, \"res\": [30.0, 30.0], \"shape\": [8001, 7921], \"tiled\": true, \"transform\": [30.0, 0.0, -245415.0, 0.0, -30.0, 2680515.0, 0.0, 0.0, 1.0], \"units\": [null], \"width\": 7921}\r\n"
     ]
    }
   ],
   "source": [
    "! rio info  /vsis3/dev-usgs-landsat/collection1/level2/albers/oli-tirs/2019/030/028/LC08_L1GT_030028_20190210_20190222_01_A2/LC08_L1GT_030028_20190210_20190222_01_A2_sr_band4.tif"
   ]
  },
  {
   "cell_type": "code",
   "execution_count": 15,
   "metadata": {},
   "outputs": [
    {
     "name": "stdout",
     "output_type": "stream",
     "text": [
      "{\r\n",
      "    \"blockxsize\": 256,\r\n",
      "    \"blockysize\": 256,\r\n",
      "    \"bounds\": [\r\n",
      "        -245415.0,\r\n",
      "        2440485.0,\r\n",
      "        -7785.0,\r\n",
      "        2680515.0\r\n",
      "    ],\r\n",
      "    \"colorinterp\": [\r\n",
      "        \"gray\"\r\n",
      "    ],\r\n",
      "    \"compress\": \"deflate\",\r\n",
      "    \"count\": 1,\r\n",
      "    \"crs\": \"PROJCS[\\\"Albers\\\",GEOGCS[\\\"WGS 84\\\",DATUM[\\\"WGS_1984\\\",SPHEROID[\\\"WGS 84\\\",6378140,298.2569999999957,AUTHORITY[\\\"EPSG\\\",\\\"7030\\\"]],AUTHORITY[\\\"EPSG\\\",\\\"6326\\\"]],PRIMEM[\\\"Greenwich\\\",0],UNIT[\\\"degree\\\",0.0174532925199433],AUTHORITY[\\\"EPSG\\\",\\\"4326\\\"]],PROJECTION[\\\"Albers_Conic_Equal_Area\\\"],PARAMETER[\\\"standard_parallel_1\\\",29.5],PARAMETER[\\\"standard_parallel_2\\\",45.5],PARAMETER[\\\"latitude_of_center\\\",23],PARAMETER[\\\"longitude_of_center\\\",-96],PARAMETER[\\\"false_easting\\\",0],PARAMETER[\\\"false_northing\\\",0],UNIT[\\\"metre\\\",1,AUTHORITY[\\\"EPSG\\\",\\\"9001\\\"]]]\",\r\n",
      "    \"descriptions\": [\r\n",
      "        \"band 4 surface reflectance\"\r\n",
      "    ],\r\n",
      "    \"driver\": \"GTiff\",\r\n",
      "    \"dtype\": \"int16\",\r\n",
      "    \"height\": 8001,\r\n",
      "    \"indexes\": [\r\n",
      "        1\r\n",
      "    ],\r\n",
      "    \"interleave\": \"band\",\r\n",
      "    \"lnglat\": [\r\n",
      "        -97.63264196576377,\r\n",
      "        46.022995237252296\r\n",
      "    ],\r\n",
      "    \"mask_flags\": [\r\n",
      "        [\r\n",
      "            \"nodata\"\r\n",
      "        ]\r\n",
      "    ],\r\n",
      "    \"nodata\": -9999.0,\r\n",
      "    \"res\": [\r\n",
      "        30.0,\r\n",
      "        30.0\r\n",
      "    ],\r\n",
      "    \"shape\": [\r\n",
      "        8001,\r\n",
      "        7921\r\n",
      "    ],\r\n",
      "    \"tiled\": true,\r\n",
      "    \"transform\": [\r\n",
      "        30.0,\r\n",
      "        0.0,\r\n",
      "        -245415.0,\r\n",
      "        0.0,\r\n",
      "        -30.0,\r\n",
      "        2680515.0,\r\n",
      "        0.0,\r\n",
      "        0.0,\r\n",
      "        1.0\r\n",
      "    ],\r\n",
      "    \"units\": [\r\n",
      "        null\r\n",
      "    ],\r\n",
      "    \"width\": 7921\r\n",
      "}\r\n"
     ]
    }
   ],
   "source": [
    "! rio info  http://dev-usgs-landsat.s3.amazonaws.com/collection1/level2/albers/oli-tirs/2019/030/028/LC08_L1GT_030028_20190210_20190222_01_A2/LC08_L1GT_030028_20190210_20190222_01_A2_sr_band4.tif | python -m json.tool"
   ]
  },
  {
   "cell_type": "code",
   "execution_count": 16,
   "metadata": {},
   "outputs": [
    {
     "name": "stdout",
     "output_type": "stream",
     "text": [
      "    \"compress\": \"deflate\",\r\n"
     ]
    }
   ],
   "source": [
    "! rio info  http://dev-usgs-landsat.s3.amazonaws.com/collection1/level2/albers/oli-tirs/2019/030/028/LC08_L1GT_030028_20190210_20190222_01_A2/LC08_L1GT_030028_20190210_20190222_01_A2_sr_band4.tif | python -m json.tool | grep compre"
   ]
  },
  {
   "cell_type": "code",
   "execution_count": 17,
   "metadata": {},
   "outputs": [
    {
     "name": "stdout",
     "output_type": "stream",
     "text": [
      "ERROR 1: An error occurred while creating a virtual connection to the DAP server:Error while reading the URL: http://dev-usgs-landsat.s3.amazonaws.com/collection1/level2/albers/oli-tirs/2019/030/028/LC08_L1GT_030028_20190210_20190222_01_A2/LC08_L1GT_030028_20190210_20190222_01_A2_sr_band4.tif.ver.\r\n",
      "The OPeNDAP server returned the following message:\r\n",
      "Not Found: The data source or server could not be found.\r\n",
      "        Often this means that the OPeNDAP server is missing or needs attention;\r\n",
      "        Please contact the server administrator.\r\n",
      "gdalinfo failed - unable to open 'http://dev-usgs-landsat.s3.amazonaws.com/collection1/level2/albers/oli-tirs/2019/030/028/LC08_L1GT_030028_20190210_20190222_01_A2/LC08_L1GT_030028_20190210_20190222_01_A2_sr_band4.tif'.\r\n"
     ]
    }
   ],
   "source": [
    "! gdalinfo 'http://dev-usgs-landsat.s3.amazonaws.com/collection1/level2/albers/oli-tirs/2019/030/028/LC08_L1GT_030028_20190210_20190222_01_A2/LC08_L1GT_030028_20190210_20190222_01_A2_sr_band4.tif'"
   ]
  },
  {
   "cell_type": "code",
   "execution_count": 18,
   "metadata": {},
   "outputs": [
    {
     "name": "stdout",
     "output_type": "stream",
     "text": [
      "rasterio               1.1.3     \r\n"
     ]
    }
   ],
   "source": [
    "!pip list | grep rasterio"
   ]
  },
  {
   "cell_type": "code",
   "execution_count": 19,
   "metadata": {},
   "outputs": [
    {
     "name": "stdout",
     "output_type": "stream",
     "text": [
      "GDAL                   2.3.3     \r\n"
     ]
    }
   ],
   "source": [
    "! pip list | grep GDAL"
   ]
  },
  {
   "cell_type": "code",
   "execution_count": null,
   "metadata": {},
   "outputs": [],
   "source": []
  }
 ],
 "metadata": {
  "kernelspec": {
   "display_name": "Python 3",
   "language": "python",
   "name": "python3"
  },
  "language_info": {
   "codemirror_mode": {
    "name": "ipython",
    "version": 3
   },
   "file_extension": ".py",
   "mimetype": "text/x-python",
   "name": "python",
   "nbconvert_exporter": "python",
   "pygments_lexer": "ipython3",
   "version": "3.7.3"
  }
 },
 "nbformat": 4,
 "nbformat_minor": 4
}
