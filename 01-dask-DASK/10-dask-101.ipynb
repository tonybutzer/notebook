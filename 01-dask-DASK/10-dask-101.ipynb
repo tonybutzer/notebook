{
 "cells": [
  {
   "cell_type": "code",
   "execution_count": 2,
   "metadata": {},
   "outputs": [
    {
     "data": {
      "text/html": [
       "<table style=\"border: 2px solid white;\">\n",
       "<tr>\n",
       "<td style=\"vertical-align: top; border: 0px solid white\">\n",
       "<h3 style=\"text-align: left;\">Client</h3>\n",
       "<ul style=\"text-align: left; list-style: none; margin: 0; padding: 0;\">\n",
       "  <li><b>Scheduler: </b>tcp://127.0.0.1:43221</li>\n",
       "  <li><b>Dashboard: </b><a href='/user/butzer@contractor.usgs.gov/proxy/8787/status' target='_blank'>/user/butzer@contractor.usgs.gov/proxy/8787/status</a>\n",
       "</ul>\n",
       "</td>\n",
       "<td style=\"vertical-align: top; border: 0px solid white\">\n",
       "<h3 style=\"text-align: left;\">Cluster</h3>\n",
       "<ul style=\"text-align: left; list-style:none; margin: 0; padding: 0;\">\n",
       "  <li><b>Workers: </b>1</li>\n",
       "  <li><b>Cores: </b>4</li>\n",
       "  <li><b>Memory: </b>16.11 GB</li>\n",
       "</ul>\n",
       "</td>\n",
       "</tr>\n",
       "</table>"
      ],
      "text/plain": [
       "<Client: 'tcp://127.0.0.1:43221' processes=1 threads=4, memory=16.11 GB>"
      ]
     },
     "execution_count": 2,
     "metadata": {},
     "output_type": "execute_result"
    }
   ],
   "source": [
    "from dask.distributed import Client, progress\n",
    "client = Client( n_workers=1)\n",
    "client"
   ]
  },
  {
   "cell_type": "code",
   "execution_count": 3,
   "metadata": {},
   "outputs": [],
   "source": [
    "import time\n",
    "import random\n",
    "\n",
    "def inc(x):\n",
    "    time.sleep(random.random())\n",
    "    return x + 1\n",
    "\n",
    "def dec(x):\n",
    "    time.sleep(random.random())\n",
    "    return x - 1\n",
    "\n",
    "def add(x, y):\n",
    "    time.sleep(random.random())\n",
    "    return x + y"
   ]
  },
  {
   "cell_type": "code",
   "execution_count": 4,
   "metadata": {},
   "outputs": [
    {
     "name": "stdout",
     "output_type": "stream",
     "text": [
      "CPU times: user 11.4 ms, sys: 3.26 ms, total: 14.7 ms\n",
      "Wall time: 922 ms\n"
     ]
    },
    {
     "data": {
      "text/plain": [
       "3"
      ]
     },
     "execution_count": 4,
     "metadata": {},
     "output_type": "execute_result"
    }
   ],
   "source": [
    "%%time\n",
    "x = inc(1)\n",
    "y = dec(2)\n",
    "z = add(x, y)\n",
    "z"
   ]
  },
  {
   "cell_type": "code",
   "execution_count": 6,
   "metadata": {},
   "outputs": [],
   "source": [
    "import dask\n",
    "inc = dask.delayed(inc)\n",
    "dec = dask.delayed(dec)\n",
    "add = dask.delayed(add)"
   ]
  },
  {
   "cell_type": "code",
   "execution_count": 7,
   "metadata": {},
   "outputs": [
    {
     "data": {
      "text/plain": [
       "Delayed('add-fb2f809d-e6ad-4cde-8b68-048e2917a801')"
      ]
     },
     "execution_count": 7,
     "metadata": {},
     "output_type": "execute_result"
    }
   ],
   "source": [
    "x = inc(1)\n",
    "y = dec(2)\n",
    "z = add(x, y)\n",
    "z"
   ]
  },
  {
   "cell_type": "code",
   "execution_count": 8,
   "metadata": {},
   "outputs": [
    {
     "ename": "RuntimeError",
     "evalue": "Drawing dask graphs requires the `graphviz` python library and the `graphviz` system library to be installed.",
     "output_type": "error",
     "traceback": [
      "\u001b[0;31m---------------------------------------------------------------------------\u001b[0m",
      "\u001b[0;31mModuleNotFoundError\u001b[0m                       Traceback (most recent call last)",
      "\u001b[0;32m/srv/conda/envs/pangeo/lib/python3.7/site-packages/dask/utils.py\u001b[0m in \u001b[0;36mimport_required\u001b[0;34m(mod_name, error_msg)\u001b[0m\n\u001b[1;32m     96\u001b[0m     \u001b[0;32mtry\u001b[0m\u001b[0;34m:\u001b[0m\u001b[0;34m\u001b[0m\u001b[0;34m\u001b[0m\u001b[0m\n\u001b[0;32m---> 97\u001b[0;31m         \u001b[0;32mreturn\u001b[0m \u001b[0mimport_module\u001b[0m\u001b[0;34m(\u001b[0m\u001b[0mmod_name\u001b[0m\u001b[0;34m)\u001b[0m\u001b[0;34m\u001b[0m\u001b[0;34m\u001b[0m\u001b[0m\n\u001b[0m\u001b[1;32m     98\u001b[0m     \u001b[0;32mexcept\u001b[0m \u001b[0mImportError\u001b[0m\u001b[0;34m:\u001b[0m\u001b[0;34m\u001b[0m\u001b[0;34m\u001b[0m\u001b[0m\n",
      "\u001b[0;32m/srv/conda/envs/pangeo/lib/python3.7/importlib/__init__.py\u001b[0m in \u001b[0;36mimport_module\u001b[0;34m(name, package)\u001b[0m\n\u001b[1;32m    126\u001b[0m             \u001b[0mlevel\u001b[0m \u001b[0;34m+=\u001b[0m \u001b[0;36m1\u001b[0m\u001b[0;34m\u001b[0m\u001b[0;34m\u001b[0m\u001b[0m\n\u001b[0;32m--> 127\u001b[0;31m     \u001b[0;32mreturn\u001b[0m \u001b[0m_bootstrap\u001b[0m\u001b[0;34m.\u001b[0m\u001b[0m_gcd_import\u001b[0m\u001b[0;34m(\u001b[0m\u001b[0mname\u001b[0m\u001b[0;34m[\u001b[0m\u001b[0mlevel\u001b[0m\u001b[0;34m:\u001b[0m\u001b[0;34m]\u001b[0m\u001b[0;34m,\u001b[0m \u001b[0mpackage\u001b[0m\u001b[0;34m,\u001b[0m \u001b[0mlevel\u001b[0m\u001b[0;34m)\u001b[0m\u001b[0;34m\u001b[0m\u001b[0;34m\u001b[0m\u001b[0m\n\u001b[0m\u001b[1;32m    128\u001b[0m \u001b[0;34m\u001b[0m\u001b[0m\n",
      "\u001b[0;32m/srv/conda/envs/pangeo/lib/python3.7/importlib/_bootstrap.py\u001b[0m in \u001b[0;36m_gcd_import\u001b[0;34m(name, package, level)\u001b[0m\n",
      "\u001b[0;32m/srv/conda/envs/pangeo/lib/python3.7/importlib/_bootstrap.py\u001b[0m in \u001b[0;36m_find_and_load\u001b[0;34m(name, import_)\u001b[0m\n",
      "\u001b[0;32m/srv/conda/envs/pangeo/lib/python3.7/importlib/_bootstrap.py\u001b[0m in \u001b[0;36m_find_and_load_unlocked\u001b[0;34m(name, import_)\u001b[0m\n",
      "\u001b[0;31mModuleNotFoundError\u001b[0m: No module named 'graphviz'",
      "\nDuring handling of the above exception, another exception occurred:\n",
      "\u001b[0;31mRuntimeError\u001b[0m                              Traceback (most recent call last)",
      "\u001b[0;32m<ipython-input-8-11f907f35250>\u001b[0m in \u001b[0;36m<module>\u001b[0;34m\u001b[0m\n\u001b[0;32m----> 1\u001b[0;31m \u001b[0mz\u001b[0m\u001b[0;34m.\u001b[0m\u001b[0mvisualize\u001b[0m\u001b[0;34m(\u001b[0m\u001b[0mrankdir\u001b[0m\u001b[0;34m=\u001b[0m\u001b[0;34m'LR'\u001b[0m\u001b[0;34m)\u001b[0m\u001b[0;34m\u001b[0m\u001b[0;34m\u001b[0m\u001b[0m\n\u001b[0m",
      "\u001b[0;32m/srv/conda/envs/pangeo/lib/python3.7/site-packages/dask/base.py\u001b[0m in \u001b[0;36mvisualize\u001b[0;34m(self, filename, format, optimize_graph, **kwargs)\u001b[0m\n\u001b[1;32m     95\u001b[0m             \u001b[0mformat\u001b[0m\u001b[0;34m=\u001b[0m\u001b[0mformat\u001b[0m\u001b[0;34m,\u001b[0m\u001b[0;34m\u001b[0m\u001b[0;34m\u001b[0m\u001b[0m\n\u001b[1;32m     96\u001b[0m             \u001b[0moptimize_graph\u001b[0m\u001b[0;34m=\u001b[0m\u001b[0moptimize_graph\u001b[0m\u001b[0;34m,\u001b[0m\u001b[0;34m\u001b[0m\u001b[0;34m\u001b[0m\u001b[0m\n\u001b[0;32m---> 97\u001b[0;31m             \u001b[0;34m**\u001b[0m\u001b[0mkwargs\u001b[0m\u001b[0;34m\u001b[0m\u001b[0;34m\u001b[0m\u001b[0m\n\u001b[0m\u001b[1;32m     98\u001b[0m         )\n\u001b[1;32m     99\u001b[0m \u001b[0;34m\u001b[0m\u001b[0m\n",
      "\u001b[0;32m/srv/conda/envs/pangeo/lib/python3.7/site-packages/dask/base.py\u001b[0m in \u001b[0;36mvisualize\u001b[0;34m(*args, **kwargs)\u001b[0m\n\u001b[1;32m    491\u001b[0m     \u001b[0mhttps\u001b[0m\u001b[0;34m:\u001b[0m\u001b[0;34m//\u001b[0m\u001b[0mdocs\u001b[0m\u001b[0;34m.\u001b[0m\u001b[0mdask\u001b[0m\u001b[0;34m.\u001b[0m\u001b[0morg\u001b[0m\u001b[0;34m/\u001b[0m\u001b[0men\u001b[0m\u001b[0;34m/\u001b[0m\u001b[0mlatest\u001b[0m\u001b[0;34m/\u001b[0m\u001b[0moptimize\u001b[0m\u001b[0;34m.\u001b[0m\u001b[0mhtml\u001b[0m\u001b[0;34m\u001b[0m\u001b[0;34m\u001b[0m\u001b[0m\n\u001b[1;32m    492\u001b[0m     \"\"\"\n\u001b[0;32m--> 493\u001b[0;31m     \u001b[0;32mfrom\u001b[0m \u001b[0mdask\u001b[0m\u001b[0;34m.\u001b[0m\u001b[0mdot\u001b[0m \u001b[0;32mimport\u001b[0m \u001b[0mdot_graph\u001b[0m\u001b[0;34m\u001b[0m\u001b[0;34m\u001b[0m\u001b[0m\n\u001b[0m\u001b[1;32m    494\u001b[0m \u001b[0;34m\u001b[0m\u001b[0m\n\u001b[1;32m    495\u001b[0m     \u001b[0mfilename\u001b[0m \u001b[0;34m=\u001b[0m \u001b[0mkwargs\u001b[0m\u001b[0;34m.\u001b[0m\u001b[0mpop\u001b[0m\u001b[0;34m(\u001b[0m\u001b[0;34m\"filename\"\u001b[0m\u001b[0;34m,\u001b[0m \u001b[0;34m\"mydask\"\u001b[0m\u001b[0;34m)\u001b[0m\u001b[0;34m\u001b[0m\u001b[0;34m\u001b[0m\u001b[0m\n",
      "\u001b[0;32m/srv/conda/envs/pangeo/lib/python3.7/site-packages/dask/dot.py\u001b[0m in \u001b[0;36m<module>\u001b[0;34m\u001b[0m\n\u001b[1;32m      9\u001b[0m graphviz = import_required(\n\u001b[1;32m     10\u001b[0m     \u001b[0;34m\"graphviz\"\u001b[0m\u001b[0;34m,\u001b[0m\u001b[0;34m\u001b[0m\u001b[0;34m\u001b[0m\u001b[0m\n\u001b[0;32m---> 11\u001b[0;31m     \u001b[0;34m\"Drawing dask graphs requires the \"\u001b[0m\u001b[0;34m\u001b[0m\u001b[0;34m\u001b[0m\u001b[0m\n\u001b[0m\u001b[1;32m     12\u001b[0m     \u001b[0;34m\"`graphviz` python library and the \"\u001b[0m\u001b[0;34m\u001b[0m\u001b[0;34m\u001b[0m\u001b[0m\n\u001b[1;32m     13\u001b[0m     \u001b[0;34m\"`graphviz` system library to be \"\u001b[0m\u001b[0;34m\u001b[0m\u001b[0;34m\u001b[0m\u001b[0m\n",
      "\u001b[0;32m/srv/conda/envs/pangeo/lib/python3.7/site-packages/dask/utils.py\u001b[0m in \u001b[0;36mimport_required\u001b[0;34m(mod_name, error_msg)\u001b[0m\n\u001b[1;32m     97\u001b[0m         \u001b[0;32mreturn\u001b[0m \u001b[0mimport_module\u001b[0m\u001b[0;34m(\u001b[0m\u001b[0mmod_name\u001b[0m\u001b[0;34m)\u001b[0m\u001b[0;34m\u001b[0m\u001b[0;34m\u001b[0m\u001b[0m\n\u001b[1;32m     98\u001b[0m     \u001b[0;32mexcept\u001b[0m \u001b[0mImportError\u001b[0m\u001b[0;34m:\u001b[0m\u001b[0;34m\u001b[0m\u001b[0;34m\u001b[0m\u001b[0m\n\u001b[0;32m---> 99\u001b[0;31m         \u001b[0;32mraise\u001b[0m \u001b[0mRuntimeError\u001b[0m\u001b[0;34m(\u001b[0m\u001b[0merror_msg\u001b[0m\u001b[0;34m)\u001b[0m\u001b[0;34m\u001b[0m\u001b[0;34m\u001b[0m\u001b[0m\n\u001b[0m\u001b[1;32m    100\u001b[0m \u001b[0;34m\u001b[0m\u001b[0m\n\u001b[1;32m    101\u001b[0m \u001b[0;34m\u001b[0m\u001b[0m\n",
      "\u001b[0;31mRuntimeError\u001b[0m: Drawing dask graphs requires the `graphviz` python library and the `graphviz` system library to be installed."
     ]
    }
   ],
   "source": [
    "# z.visualize(rankdir='LR') -- needs graphviz - test when you play with dask"
   ]
  },
  {
   "cell_type": "code",
   "execution_count": 10,
   "metadata": {},
   "outputs": [
    {
     "data": {
      "text/plain": [
       "3"
      ]
     },
     "execution_count": 10,
     "metadata": {},
     "output_type": "execute_result"
    }
   ],
   "source": [
    "z.compute()"
   ]
  },
  {
   "cell_type": "code",
   "execution_count": 12,
   "metadata": {},
   "outputs": [
    {
     "name": "stdout",
     "output_type": "stream",
     "text": [
      "2019-09-19 16:05:41 cf-templates-1idkatmbgn6dx-us-west-2\r\n",
      "2020-03-10 20:44:12 chs-pangeo-data-bucket\r\n",
      "2019-09-19 16:09:39 csr-adminbucket-376067480372\r\n",
      "2020-03-19 15:30:11 devusgsdemobucketfordatalake\r\n",
      "2020-02-10 19:28:09 earthmap-pangeo-kubeconfigbucket-1bhpejwku7fa1\r\n",
      "2020-03-12 21:17:15 earthmapprod-datalake-testdata\r\n",
      "2019-12-18 17:41:58 pangeo-lidar-demo\r\n",
      "2019-12-17 22:07:07 pangeo-s3-demo-bucket\r\n",
      "2019-11-22 17:37:07 pangeo-scripts-bucket\r\n",
      "2020-03-13 16:20:30 testcreatedatasorceearthmapprod\r\n"
     ]
    }
   ],
   "source": [
    "! aws s3 ls"
   ]
  },
  {
   "cell_type": "code",
   "execution_count": 16,
   "metadata": {},
   "outputs": [
    {
     "name": "stdout",
     "output_type": "stream",
     "text": [
      "2020-03-13 15:58:40        147 mycode.py\r\n",
      "2020-03-13 18:31:06 99987244856 ngom1_cog.tif\r\n",
      "2020-04-02 13:29:05 250720106294 socal_tbdem_1m_cog.tif\r\n",
      "2020-03-19 20:12:58 38301508205 socal_tbdem_hll_1m_cog.tif\r\n"
     ]
    }
   ],
   "source": [
    "! aws s3 ls chs-pangeo-data-bucket/mcushing/"
   ]
  },
  {
   "cell_type": "code",
   "execution_count": 19,
   "metadata": {},
   "outputs": [
    {
     "name": "stdout",
     "output_type": "stream",
     "text": [
      "Traceback (most recent call last):\r\n",
      "  File \"rasterio/_base.pyx\", line 216, in rasterio._base.DatasetBase.__init__\r\n",
      "  File \"rasterio/_shim.pyx\", line 78, in rasterio._shim.open_dataset\r\n",
      "  File \"rasterio/_err.pyx\", line 205, in rasterio._err.exc_wrap_pointer\r\n",
      "rasterio._err.CPLE_AppDefinedError: Connection timed out after 1000 milliseconds\r\n",
      "\r\n",
      "During handling of the above exception, another exception occurred:\r\n",
      "\r\n",
      "Traceback (most recent call last):\r\n",
      "  File \"/srv/conda/envs/pangeo/bin/rio\", line 11, in <module>\r\n",
      "    sys.exit(main_group())\r\n",
      "  File \"/srv/conda/envs/pangeo/lib/python3.7/site-packages/click/core.py\", line 829, in __call__\r\n",
      "    return self.main(*args, **kwargs)\r\n",
      "  File \"/srv/conda/envs/pangeo/lib/python3.7/site-packages/click/core.py\", line 782, in main\r\n",
      "    rv = self.invoke(ctx)\r\n",
      "  File \"/srv/conda/envs/pangeo/lib/python3.7/site-packages/click/core.py\", line 1259, in invoke\r\n",
      "    return _process_result(sub_ctx.command.invoke(sub_ctx))\r\n",
      "  File \"/srv/conda/envs/pangeo/lib/python3.7/site-packages/click/core.py\", line 1066, in invoke\r\n",
      "    return ctx.invoke(self.callback, **ctx.params)\r\n",
      "  File \"/srv/conda/envs/pangeo/lib/python3.7/site-packages/click/core.py\", line 610, in invoke\r\n",
      "    return callback(*args, **kwargs)\r\n",
      "  File \"/srv/conda/envs/pangeo/lib/python3.7/site-packages/click/decorators.py\", line 21, in new_func\r\n",
      "    return f(get_current_context(), *args, **kwargs)\r\n",
      "  File \"/srv/conda/envs/pangeo/lib/python3.7/site-packages/rasterio/rio/info.py\", line 66, in info\r\n",
      "    with ctx.obj['env'], rasterio.open(input) as src:\r\n",
      "  File \"/srv/conda/envs/pangeo/lib/python3.7/site-packages/rasterio/env.py\", line 434, in wrapper\r\n",
      "    return f(*args, **kwds)\r\n",
      "  File \"/srv/conda/envs/pangeo/lib/python3.7/site-packages/rasterio/__init__.py\", line 219, in open\r\n",
      "    s = DatasetReader(path, driver=driver, sharing=sharing, **kwargs)\r\n",
      "  File \"rasterio/_base.pyx\", line 218, in rasterio._base.DatasetBase.__init__\r\n",
      "rasterio.errors.RasterioIOError: Connection timed out after 1000 milliseconds\r\n"
     ]
    }
   ],
   "source": [
    "!rio info  /vsis3/chs-pangeo-data-bucket/mcushing/socal_tbdem_1m_cog.tif"
   ]
  },
  {
   "cell_type": "code",
   "execution_count": 22,
   "metadata": {},
   "outputs": [
    {
     "name": "stdout",
     "output_type": "stream",
     "text": [
      "2020-03-12 21:17:44          0 \r\n",
      "2020-03-12 21:19:11         22 TestData.txt\r\n"
     ]
    }
   ],
   "source": [
    "!aws s3 ls earthmapprod-datalake-testdata/testdata/"
   ]
  },
  {
   "cell_type": "code",
   "execution_count": 31,
   "metadata": {},
   "outputs": [
    {
     "name": "stdout",
     "output_type": "stream",
     "text": [
      "2019-09-10 20:08:08   79597684 LC08_L1GT_030028_20190210_20190222_01_A2_sr_band4.tif\r\n"
     ]
    }
   ],
   "source": [
    "! aws s3 ls dev-usgs-landsat/collection1/level2/albers/oli-tirs/2019/030/028/LC08_L1GT_030028_20190210_20190222_01_A2/LC08_L1GT_030028_20190210_20190222_01_A2_sr_band4.tif"
   ]
  },
  {
   "cell_type": "code",
   "execution_count": 34,
   "metadata": {},
   "outputs": [
    {
     "name": "stdout",
     "output_type": "stream",
     "text": [
      "Traceback (most recent call last):\r\n",
      "  File \"rasterio/_base.pyx\", line 216, in rasterio._base.DatasetBase.__init__\r\n",
      "  File \"rasterio/_shim.pyx\", line 78, in rasterio._shim.open_dataset\r\n",
      "  File \"rasterio/_err.pyx\", line 205, in rasterio._err.exc_wrap_pointer\r\n",
      "rasterio._err.CPLE_AppDefinedError: Connection timed out after 1001 milliseconds\r\n",
      "\r\n",
      "During handling of the above exception, another exception occurred:\r\n",
      "\r\n",
      "Traceback (most recent call last):\r\n",
      "  File \"/srv/conda/envs/pangeo/bin/rio\", line 11, in <module>\r\n",
      "    sys.exit(main_group())\r\n",
      "  File \"/srv/conda/envs/pangeo/lib/python3.7/site-packages/click/core.py\", line 829, in __call__\r\n",
      "    return self.main(*args, **kwargs)\r\n",
      "  File \"/srv/conda/envs/pangeo/lib/python3.7/site-packages/click/core.py\", line 782, in main\r\n",
      "    rv = self.invoke(ctx)\r\n",
      "  File \"/srv/conda/envs/pangeo/lib/python3.7/site-packages/click/core.py\", line 1259, in invoke\r\n",
      "    return _process_result(sub_ctx.command.invoke(sub_ctx))\r\n",
      "  File \"/srv/conda/envs/pangeo/lib/python3.7/site-packages/click/core.py\", line 1066, in invoke\r\n",
      "    return ctx.invoke(self.callback, **ctx.params)\r\n",
      "  File \"/srv/conda/envs/pangeo/lib/python3.7/site-packages/click/core.py\", line 610, in invoke\r\n",
      "    return callback(*args, **kwargs)\r\n",
      "  File \"/srv/conda/envs/pangeo/lib/python3.7/site-packages/click/decorators.py\", line 21, in new_func\r\n",
      "    return f(get_current_context(), *args, **kwargs)\r\n",
      "  File \"/srv/conda/envs/pangeo/lib/python3.7/site-packages/rasterio/rio/info.py\", line 66, in info\r\n",
      "    with ctx.obj['env'], rasterio.open(input) as src:\r\n",
      "  File \"/srv/conda/envs/pangeo/lib/python3.7/site-packages/rasterio/env.py\", line 434, in wrapper\r\n",
      "    return f(*args, **kwds)\r\n",
      "  File \"/srv/conda/envs/pangeo/lib/python3.7/site-packages/rasterio/__init__.py\", line 219, in open\r\n",
      "    s = DatasetReader(path, driver=driver, sharing=sharing, **kwargs)\r\n",
      "  File \"rasterio/_base.pyx\", line 218, in rasterio._base.DatasetBase.__init__\r\n",
      "rasterio.errors.RasterioIOError: Connection timed out after 1001 milliseconds\r\n"
     ]
    }
   ],
   "source": [
    "! rio info  /vsis3/dev-usgs-landsat/collection1/level2/albers/oli-tirs/2019/030/028/LC08_L1GT_030028_20190210_20190222_01_A2/LC08_L1GT_030028_20190210_20190222_01_A2_sr_band4.tif"
   ]
  },
  {
   "cell_type": "code",
   "execution_count": 36,
   "metadata": {},
   "outputs": [
    {
     "name": "stdout",
     "output_type": "stream",
     "text": [
      "{\r\n",
      "    \"blockxsize\": 256,\r\n",
      "    \"blockysize\": 256,\r\n",
      "    \"bounds\": [\r\n",
      "        -245415.0,\r\n",
      "        2440485.0,\r\n",
      "        -7785.0,\r\n",
      "        2680515.0\r\n",
      "    ],\r\n",
      "    \"colorinterp\": [\r\n",
      "        \"gray\"\r\n",
      "    ],\r\n",
      "    \"compress\": \"deflate\",\r\n",
      "    \"count\": 1,\r\n",
      "    \"crs\": \"PROJCS[\\\"Albers\\\",GEOGCS[\\\"WGS 84\\\",DATUM[\\\"WGS_1984\\\",SPHEROID[\\\"WGS 84\\\",6378140,298.256999999996,AUTHORITY[\\\"EPSG\\\",\\\"7030\\\"]],AUTHORITY[\\\"EPSG\\\",\\\"6326\\\"]],PRIMEM[\\\"Greenwich\\\",0],UNIT[\\\"degree\\\",0.0174532925199433,AUTHORITY[\\\"EPSG\\\",\\\"9122\\\"]],AUTHORITY[\\\"EPSG\\\",\\\"4326\\\"]],PROJECTION[\\\"Albers_Conic_Equal_Area\\\"],PARAMETER[\\\"latitude_of_center\\\",23],PARAMETER[\\\"longitude_of_center\\\",-96],PARAMETER[\\\"standard_parallel_1\\\",29.5],PARAMETER[\\\"standard_parallel_2\\\",45.5],PARAMETER[\\\"false_easting\\\",0],PARAMETER[\\\"false_northing\\\",0],UNIT[\\\"metre\\\",1,AUTHORITY[\\\"EPSG\\\",\\\"9001\\\"]],AXIS[\\\"Easting\\\",EAST],AXIS[\\\"Northing\\\",NORTH]]\",\r\n",
      "    \"descriptions\": [\r\n",
      "        \"band 4 surface reflectance\"\r\n",
      "    ],\r\n",
      "    \"driver\": \"GTiff\",\r\n",
      "    \"dtype\": \"int16\",\r\n",
      "    \"height\": 8001,\r\n",
      "    \"indexes\": [\r\n",
      "        1\r\n",
      "    ],\r\n",
      "    \"interleave\": \"band\",\r\n",
      "    \"lnglat\": [\r\n",
      "        -97.63264093054417,\r\n",
      "        46.02298445645342\r\n",
      "    ],\r\n",
      "    \"mask_flags\": [\r\n",
      "        [\r\n",
      "            \"nodata\"\r\n",
      "        ]\r\n",
      "    ],\r\n",
      "    \"nodata\": -9999.0,\r\n",
      "    \"res\": [\r\n",
      "        30.0,\r\n",
      "        30.0\r\n",
      "    ],\r\n",
      "    \"shape\": [\r\n",
      "        8001,\r\n",
      "        7921\r\n",
      "    ],\r\n",
      "    \"tiled\": true,\r\n",
      "    \"transform\": [\r\n",
      "        30.0,\r\n",
      "        0.0,\r\n",
      "        -245415.0,\r\n",
      "        0.0,\r\n",
      "        -30.0,\r\n",
      "        2680515.0,\r\n",
      "        0.0,\r\n",
      "        0.0,\r\n",
      "        1.0\r\n",
      "    ],\r\n",
      "    \"units\": [\r\n",
      "        null\r\n",
      "    ],\r\n",
      "    \"width\": 7921\r\n",
      "}\r\n"
     ]
    }
   ],
   "source": [
    "! rio info  http://dev-usgs-landsat.s3.amazonaws.com/collection1/level2/albers/oli-tirs/2019/030/028/LC08_L1GT_030028_20190210_20190222_01_A2/LC08_L1GT_030028_20190210_20190222_01_A2_sr_band4.tif | python -m json.tool"
   ]
  },
  {
   "cell_type": "code",
   "execution_count": 37,
   "metadata": {},
   "outputs": [
    {
     "name": "stdout",
     "output_type": "stream",
     "text": [
      "    \"compress\": \"deflate\",\r\n"
     ]
    }
   ],
   "source": [
    "! rio info  http://dev-usgs-landsat.s3.amazonaws.com/collection1/level2/albers/oli-tirs/2019/030/028/LC08_L1GT_030028_20190210_20190222_01_A2/LC08_L1GT_030028_20190210_20190222_01_A2_sr_band4.tif | python -m json.tool | grep compre"
   ]
  },
  {
   "cell_type": "code",
   "execution_count": 39,
   "metadata": {},
   "outputs": [
    {
     "name": "stdout",
     "output_type": "stream",
     "text": [
      "ERROR 1: An error occurred while creating a virtual connection to the DAP server:Error while reading the URL: http://dev-usgs-landsat.s3.amazonaws.com/collection1/level2/albers/oli-tirs/2019/030/028/LC08_L1GT_030028_20190210_20190222_01_A2/LC08_L1GT_030028_20190210_20190222_01_A2_sr_band4.tif.ver.\r\n",
      "The OPeNDAP server returned the following message:\r\n",
      "Not Found: The data source or server could not be found.\r\n",
      "        Often this means that the OPeNDAP server is missing or needs attention.\r\n",
      "        Please contact the server administrator.\r\n",
      "gdalinfo failed - unable to open 'http://dev-usgs-landsat.s3.amazonaws.com/collection1/level2/albers/oli-tirs/2019/030/028/LC08_L1GT_030028_20190210_20190222_01_A2/LC08_L1GT_030028_20190210_20190222_01_A2_sr_band4.tif'.\r\n"
     ]
    }
   ],
   "source": [
    "! gdalinfo 'http://dev-usgs-landsat.s3.amazonaws.com/collection1/level2/albers/oli-tirs/2019/030/028/LC08_L1GT_030028_20190210_20190222_01_A2/LC08_L1GT_030028_20190210_20190222_01_A2_sr_band4.tif'"
   ]
  },
  {
   "cell_type": "code",
   "execution_count": 40,
   "metadata": {},
   "outputs": [
    {
     "name": "stdout",
     "output_type": "stream",
     "text": [
      "rasterio                1.1.3\r\n"
     ]
    }
   ],
   "source": [
    "!pip list | grep rasterio"
   ]
  },
  {
   "cell_type": "code",
   "execution_count": 42,
   "metadata": {},
   "outputs": [
    {
     "name": "stdout",
     "output_type": "stream",
     "text": [
      "GDAL                    3.0.4\r\n"
     ]
    },
    {
     "name": "stderr",
     "output_type": "stream",
     "text": [
      "distributed.client - ERROR - Failed to reconnect to scheduler after 10.00 seconds, closing client\n",
      "distributed.utils - ERROR - Timed out trying to connect to 'tcp://127.0.0.1:43221' after 10 s: Timed out trying to connect to 'tcp://127.0.0.1:43221' after 10 s: in <distributed.comm.tcp.TCPConnector object at 0x7fca2ec8db10>: ConnectionRefusedError: [Errno 111] Connection refused\n",
      "Traceback (most recent call last):\n",
      "  File \"/srv/conda/envs/pangeo/lib/python3.7/site-packages/distributed/comm/tcp.py\", line 188, in read\n",
      "    n_frames = await stream.read_bytes(8)\n",
      "tornado.iostream.StreamClosedError: Stream is closed\n",
      "\n",
      "During handling of the above exception, another exception occurred:\n",
      "\n",
      "Traceback (most recent call last):\n",
      "  File \"/srv/conda/envs/pangeo/lib/python3.7/site-packages/distributed/client.py\", line 1164, in _handle_report\n",
      "    msgs = await self.scheduler_comm.comm.read()\n",
      "  File \"/srv/conda/envs/pangeo/lib/python3.7/site-packages/distributed/comm/tcp.py\", line 208, in read\n",
      "    convert_stream_closed_error(self, e)\n",
      "  File \"/srv/conda/envs/pangeo/lib/python3.7/site-packages/distributed/comm/tcp.py\", line 123, in convert_stream_closed_error\n",
      "    raise CommClosedError(\"in %s: %s\" % (obj, exc))\n",
      "distributed.comm.core.CommClosedError: in <closed TCP>: Stream is closed\n",
      "\n",
      "During handling of the above exception, another exception occurred:\n",
      "\n",
      "Traceback (most recent call last):\n",
      "  File \"/srv/conda/envs/pangeo/lib/python3.7/site-packages/distributed/comm/core.py\", line 232, in connect\n",
      "    _raise(error)\n",
      "  File \"/srv/conda/envs/pangeo/lib/python3.7/site-packages/distributed/comm/core.py\", line 213, in _raise\n",
      "    raise IOError(msg)\n",
      "OSError: Timed out trying to connect to 'tcp://127.0.0.1:43221' after 10 s: in <distributed.comm.tcp.TCPConnector object at 0x7fca2ec8db10>: ConnectionRefusedError: [Errno 111] Connection refused\n",
      "\n",
      "During handling of the above exception, another exception occurred:\n",
      "\n",
      "Traceback (most recent call last):\n",
      "  File \"/srv/conda/envs/pangeo/lib/python3.7/site-packages/distributed/utils.py\", line 665, in log_errors\n",
      "    yield\n",
      "  File \"/srv/conda/envs/pangeo/lib/python3.7/site-packages/distributed/client.py\", line 1296, in _close\n",
      "    await self.cluster.close()\n",
      "  File \"/srv/conda/envs/pangeo/lib/python3.7/site-packages/distributed/deploy/spec.py\", line 386, in _close\n",
      "    await self.scheduler_comm.close(close_workers=True)\n",
      "  File \"/srv/conda/envs/pangeo/lib/python3.7/site-packages/distributed/core.py\", line 685, in send_recv_from_rpc\n",
      "    comm = await self.live_comm()\n",
      "  File \"/srv/conda/envs/pangeo/lib/python3.7/site-packages/distributed/core.py\", line 647, in live_comm\n",
      "    connection_args=self.connection_args,\n",
      "  File \"/srv/conda/envs/pangeo/lib/python3.7/site-packages/distributed/comm/core.py\", line 243, in connect\n",
      "    _raise(error)\n",
      "  File \"/srv/conda/envs/pangeo/lib/python3.7/site-packages/distributed/comm/core.py\", line 213, in _raise\n",
      "    raise IOError(msg)\n",
      "OSError: Timed out trying to connect to 'tcp://127.0.0.1:43221' after 10 s: Timed out trying to connect to 'tcp://127.0.0.1:43221' after 10 s: in <distributed.comm.tcp.TCPConnector object at 0x7fca2ec8db10>: ConnectionRefusedError: [Errno 111] Connection refused\n",
      "distributed.utils - ERROR - Timed out trying to connect to 'tcp://127.0.0.1:43221' after 10 s: Timed out trying to connect to 'tcp://127.0.0.1:43221' after 10 s: in <distributed.comm.tcp.TCPConnector object at 0x7fca2ec8db10>: ConnectionRefusedError: [Errno 111] Connection refused\n",
      "Traceback (most recent call last):\n",
      "  File \"/srv/conda/envs/pangeo/lib/python3.7/site-packages/distributed/comm/tcp.py\", line 188, in read\n",
      "    n_frames = await stream.read_bytes(8)\n",
      "tornado.iostream.StreamClosedError: Stream is closed\n",
      "\n",
      "During handling of the above exception, another exception occurred:\n",
      "\n",
      "Traceback (most recent call last):\n",
      "  File \"/srv/conda/envs/pangeo/lib/python3.7/site-packages/distributed/client.py\", line 1164, in _handle_report\n",
      "    msgs = await self.scheduler_comm.comm.read()\n",
      "  File \"/srv/conda/envs/pangeo/lib/python3.7/site-packages/distributed/comm/tcp.py\", line 208, in read\n",
      "    convert_stream_closed_error(self, e)\n",
      "  File \"/srv/conda/envs/pangeo/lib/python3.7/site-packages/distributed/comm/tcp.py\", line 123, in convert_stream_closed_error\n",
      "    raise CommClosedError(\"in %s: %s\" % (obj, exc))\n",
      "distributed.comm.core.CommClosedError: in <closed TCP>: Stream is closed\n",
      "\n",
      "During handling of the above exception, another exception occurred:\n",
      "\n",
      "Traceback (most recent call last):\n",
      "  File \"/srv/conda/envs/pangeo/lib/python3.7/site-packages/distributed/comm/core.py\", line 232, in connect\n",
      "    _raise(error)\n",
      "  File \"/srv/conda/envs/pangeo/lib/python3.7/site-packages/distributed/comm/core.py\", line 213, in _raise\n",
      "    raise IOError(msg)\n",
      "OSError: Timed out trying to connect to 'tcp://127.0.0.1:43221' after 10 s: in <distributed.comm.tcp.TCPConnector object at 0x7fca2ec8db10>: ConnectionRefusedError: [Errno 111] Connection refused\n",
      "\n",
      "During handling of the above exception, another exception occurred:\n",
      "\n",
      "Traceback (most recent call last):\n",
      "  File \"/srv/conda/envs/pangeo/lib/python3.7/site-packages/distributed/utils.py\", line 665, in log_errors\n",
      "    yield\n",
      "  File \"/srv/conda/envs/pangeo/lib/python3.7/site-packages/distributed/client.py\", line 1032, in _reconnect\n",
      "    await self._close()\n",
      "  File \"/srv/conda/envs/pangeo/lib/python3.7/site-packages/distributed/client.py\", line 1296, in _close\n",
      "    await self.cluster.close()\n",
      "  File \"/srv/conda/envs/pangeo/lib/python3.7/site-packages/distributed/deploy/spec.py\", line 386, in _close\n",
      "    await self.scheduler_comm.close(close_workers=True)\n",
      "  File \"/srv/conda/envs/pangeo/lib/python3.7/site-packages/distributed/core.py\", line 685, in send_recv_from_rpc\n",
      "    comm = await self.live_comm()\n",
      "  File \"/srv/conda/envs/pangeo/lib/python3.7/site-packages/distributed/core.py\", line 647, in live_comm\n",
      "    connection_args=self.connection_args,\n",
      "  File \"/srv/conda/envs/pangeo/lib/python3.7/site-packages/distributed/comm/core.py\", line 243, in connect\n",
      "    _raise(error)\n",
      "  File \"/srv/conda/envs/pangeo/lib/python3.7/site-packages/distributed/comm/core.py\", line 213, in _raise\n",
      "    raise IOError(msg)\n",
      "OSError: Timed out trying to connect to 'tcp://127.0.0.1:43221' after 10 s: Timed out trying to connect to 'tcp://127.0.0.1:43221' after 10 s: in <distributed.comm.tcp.TCPConnector object at 0x7fca2ec8db10>: ConnectionRefusedError: [Errno 111] Connection refused\n",
      "distributed.utils - ERROR - Timed out trying to connect to 'tcp://127.0.0.1:43221' after 10 s: Timed out trying to connect to 'tcp://127.0.0.1:43221' after 10 s: in <distributed.comm.tcp.TCPConnector object at 0x7fca2ec8db10>: ConnectionRefusedError: [Errno 111] Connection refused\n",
      "Traceback (most recent call last):\n",
      "  File \"/srv/conda/envs/pangeo/lib/python3.7/site-packages/distributed/comm/tcp.py\", line 188, in read\n",
      "    n_frames = await stream.read_bytes(8)\n",
      "tornado.iostream.StreamClosedError: Stream is closed\n",
      "\n",
      "During handling of the above exception, another exception occurred:\n",
      "\n",
      "Traceback (most recent call last):\n",
      "  File \"/srv/conda/envs/pangeo/lib/python3.7/site-packages/distributed/client.py\", line 1164, in _handle_report\n",
      "    msgs = await self.scheduler_comm.comm.read()\n",
      "  File \"/srv/conda/envs/pangeo/lib/python3.7/site-packages/distributed/comm/tcp.py\", line 208, in read\n",
      "    convert_stream_closed_error(self, e)\n",
      "  File \"/srv/conda/envs/pangeo/lib/python3.7/site-packages/distributed/comm/tcp.py\", line 123, in convert_stream_closed_error\n",
      "    raise CommClosedError(\"in %s: %s\" % (obj, exc))\n",
      "distributed.comm.core.CommClosedError: in <closed TCP>: Stream is closed\n",
      "\n",
      "During handling of the above exception, another exception occurred:\n",
      "\n",
      "Traceback (most recent call last):\n",
      "  File \"/srv/conda/envs/pangeo/lib/python3.7/site-packages/distributed/comm/core.py\", line 232, in connect\n",
      "    _raise(error)\n",
      "  File \"/srv/conda/envs/pangeo/lib/python3.7/site-packages/distributed/comm/core.py\", line 213, in _raise\n",
      "    raise IOError(msg)\n",
      "OSError: Timed out trying to connect to 'tcp://127.0.0.1:43221' after 10 s: in <distributed.comm.tcp.TCPConnector object at 0x7fca2ec8db10>: ConnectionRefusedError: [Errno 111] Connection refused\n",
      "\n",
      "During handling of the above exception, another exception occurred:\n",
      "\n",
      "Traceback (most recent call last):\n",
      "  File \"/srv/conda/envs/pangeo/lib/python3.7/site-packages/distributed/utils.py\", line 665, in log_errors\n",
      "    yield\n",
      "  File \"/srv/conda/envs/pangeo/lib/python3.7/site-packages/distributed/client.py\", line 1170, in _handle_report\n",
      "    await self._reconnect()\n",
      "  File \"/srv/conda/envs/pangeo/lib/python3.7/site-packages/distributed/client.py\", line 1032, in _reconnect\n",
      "    await self._close()\n",
      "  File \"/srv/conda/envs/pangeo/lib/python3.7/site-packages/distributed/client.py\", line 1296, in _close\n",
      "    await self.cluster.close()\n",
      "  File \"/srv/conda/envs/pangeo/lib/python3.7/site-packages/distributed/deploy/spec.py\", line 386, in _close\n",
      "    await self.scheduler_comm.close(close_workers=True)\n",
      "  File \"/srv/conda/envs/pangeo/lib/python3.7/site-packages/distributed/core.py\", line 685, in send_recv_from_rpc\n",
      "    comm = await self.live_comm()\n",
      "  File \"/srv/conda/envs/pangeo/lib/python3.7/site-packages/distributed/core.py\", line 647, in live_comm\n",
      "    connection_args=self.connection_args,\n",
      "  File \"/srv/conda/envs/pangeo/lib/python3.7/site-packages/distributed/comm/core.py\", line 243, in connect\n",
      "    _raise(error)\n",
      "  File \"/srv/conda/envs/pangeo/lib/python3.7/site-packages/distributed/comm/core.py\", line 213, in _raise\n",
      "    raise IOError(msg)\n",
      "OSError: Timed out trying to connect to 'tcp://127.0.0.1:43221' after 10 s: Timed out trying to connect to 'tcp://127.0.0.1:43221' after 10 s: in <distributed.comm.tcp.TCPConnector object at 0x7fca2ec8db10>: ConnectionRefusedError: [Errno 111] Connection refused\n"
     ]
    }
   ],
   "source": [
    "! pip list | grep GDAL"
   ]
  },
  {
   "cell_type": "code",
   "execution_count": null,
   "metadata": {},
   "outputs": [],
   "source": []
  }
 ],
 "metadata": {
  "kernelspec": {
   "display_name": "Python 3",
   "language": "python",
   "name": "python3"
  },
  "language_info": {
   "codemirror_mode": {
    "name": "ipython",
    "version": 3
   },
   "file_extension": ".py",
   "mimetype": "text/x-python",
   "name": "python",
   "nbconvert_exporter": "python",
   "pygments_lexer": "ipython3",
   "version": "3.7.6"
  }
 },
 "nbformat": 4,
 "nbformat_minor": 4
}
