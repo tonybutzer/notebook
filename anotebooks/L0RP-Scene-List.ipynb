{
 "cells": [
  {
   "cell_type": "code",
   "execution_count": 2,
   "metadata": {},
   "outputs": [],
   "source": [
    "import boto3\n",
    "import matplotlib.pyplot as plt\n",
    "\n",
    "s3 = boto3.client(\"s3\")\n",
    "\n",
    "# L0RP Bucket Location\n",
    "bucket = \"dev-usgs-landsat-level-0\"\n",
    "prefix = \"l0rp/oli-tirs/\"\n",
    "l0rp_location = bucket + '/' + prefix\n",
    "\n",
    "\n",
    "def list_objects(s3_location):\n",
    "    bucket, prefix = s3_location.split(\"/\", 1)\n",
    "    objects = []\n",
    "    continuation_token = {}\n",
    "    while True:\n",
    "        try:\n",
    "            response = s3.list_objects_v2(\n",
    "                Bucket=bucket, Prefix=prefix, **continuation_token\n",
    "            )\n",
    "           \n",
    "            if response['KeyCount'] == 0:\n",
    "                print(f'{s3_location} does not exist')\n",
    "                break\n",
    "            \n",
    "            objects.extend(response[\"Contents\"])\n",
    "\n",
    "            if \"NextContinuationToken\" in response:\n",
    "                continuation_token[\"ContinuationToken\"] = response[\n",
    "                    \"NextContinuationToken\"\n",
    "                ]\n",
    "            else:\n",
    "                break\n",
    "\n",
    "        except Exception as e:\n",
    "            break\n",
    "\n",
    "    return objects\n",
    "\n",
    "\n",
    "def get_scene_id(key):\n",
    "    if \"Key\" in key:\n",
    "        return key[\"Key\"].rsplit(\"/\", 1).pop().split(\"_\", 1)[0]\n",
    "    else:\n",
    "        return key.rsplit(\"/\", 1).pop().split(\"_\", 1)[0]\n",
    "\n",
    "    \n",
    "def get_scenes_from_path_row(path, row, year):\n",
    "    s3_location = f\"{l0rp_location}{year}/{path}/{row}/\"\n",
    "    \n",
    "    return [get_scene_id(scene) for scene in list_objects(s3_location)]\n",
    "\n",
    "def get_scenes(year, path_row_list=None):\n",
    "    if path_row_list is None:\n",
    "        s3_location = l0rp_location + year\n",
    "        return list(map(get_scene_id, list_objects(s3_location)))\n",
    "    else:\n",
    "        scenes = []\n",
    "        for path_row in path_row_list:\n",
    "            path = str(path_row)[0:3]\n",
    "            row = str(path_row)[3:6]\n",
    "            scenes.extend(get_scenes_from_path_row(path.zfill(3), row.zfill(3), year))\n",
    "\n",
    "        return scenes"
   ]
  },
  {
   "cell_type": "markdown",
   "metadata": {},
   "source": [
    "## L0RP Products By Year "
   ]
  },
  {
   "cell_type": "code",
   "execution_count": 4,
   "metadata": {},
   "outputs": [
    {
     "data": {
      "text/plain": [
       "{2013: 144703,\n",
       " 2014: 237770,\n",
       " 2015: 252980,\n",
       " 2016: 256551,\n",
       " 2017: 250167,\n",
       " 2018: 261502,\n",
       " 2019: 108152}"
      ]
     },
     "execution_count": 4,
     "metadata": {},
     "output_type": "execute_result"
    }
   ],
   "source": [
    "num_of_scenes = {}\n",
    "for year in range(2013, 2019+1):\n",
    "     num_of_scenes[year] = len(get_scenes(str(year)))\n",
    "\n",
    "num_of_scenes"
   ]
  },
  {
   "cell_type": "code",
   "execution_count": 20,
   "metadata": {},
   "outputs": [
    {
     "data": {
      "image/png": "[encoded data removed]",
      "text/plain": [
       "<Figure size 1080x720 with 1 Axes>"
      ]
     },
     "metadata": {
      "needs_background": "light"
     },
     "output_type": "display_data"
    }
   ],
   "source": [
    "%matplotlib inline\n",
    "plt.figure(figsize=(15, 10))\n",
    "plt.bar(range(len(num_of_scenes)), list(num_of_scenes.values()), align='center')\n",
    "plt.xticks(range(len(num_of_scenes)), list(num_of_scenes.keys()))\n",
    "plt.title('Total OLI-TIRS Scenes in L0RP Bucket', fontsize=15)\n",
    "plt.xlabel('Year')\n",
    "plt.ylabel('# of Scenes')\n",
    "plt.show()"
   ]
  },
  {
   "cell_type": "markdown",
   "metadata": {},
   "source": [
    "## Number of Nigeria Scenes"
   ]
  },
  {
   "cell_type": "code",
   "execution_count": 100,
   "metadata": {},
   "outputs": [
    {
     "name": "stdout",
     "output_type": "stream",
     "text": [
      "# of Nigeria scenes 787\n"
     ]
    }
   ],
   "source": [
    "import requests as r\n",
    "\n",
    "# Nigeria Path/Row List\n",
    "nigeria_path_row_list = r.get(\n",
    "    \"https://raw.githubusercontent.com/tonybutzer/espaDog/master/service/order/wip/nigeria/nigeria_order_list.txt\"\n",
    ").text.split()\n",
    "\n",
    "# Remove '/'\n",
    "nigeria_path_row_list = [path_row.replace('/', '') for path_row in nigeria_path_row_list]\n",
    "\n",
    "nigeria_scenes = get_scenes('2018', nigeria_path_row_list)\n",
    "print('# of Nigeria scenes {}'.format(len(nigeria_scenes)))"
   ]
  },
  {
   "cell_type": "markdown",
   "metadata": {},
   "source": [
    "## Generate Nigeria Scene List"
   ]
  },
  {
   "cell_type": "code",
   "execution_count": 106,
   "metadata": {},
   "outputs": [
    {
     "data": {
      "text/plain": [
       "'Success'"
      ]
     },
     "execution_count": 106,
     "metadata": {},
     "output_type": "execute_result"
    }
   ],
   "source": [
    "# Generate scene list for nigeria\n",
    "def write_to_s3(body, s3_location):\n",
    "    bucket, key = s3_location.split('/', 1)\n",
    "    return s3.put_object(\n",
    "        Body=body,\n",
    "        Bucket=bucket,\n",
    "        Key=key\n",
    "    )\n",
    "\n",
    "def generate_scene_list(scenes, tram_code, s3_location):\n",
    "    scenes = [scene + \",\" + tram_code for scene in scenes]\n",
    "    scenes = '\\n'.join(scenes)\n",
    "    result = write_to_s3(scenes, s3_location)\n",
    "    \n",
    "    if result['ResponseMetadata']['HTTPStatusCode'] == 200:\n",
    "        return 'Success'\n",
    "    else:\n",
    "        return result\n",
    "\n",
    "tram_code = 'XO220'\n",
    "s3_location = 'dev-cmahan-test/matt/nigeria_scene_list.txt'\n",
    "\n",
    "generate_scene_list(nigeria_scenes, tram_code, s3_location)"
   ]
  },
  {
   "cell_type": "markdown",
   "metadata": {},
   "source": [
    "## Number of Africa Scenes"
   ]
  },
  {
   "cell_type": "code",
   "execution_count": 104,
   "metadata": {},
   "outputs": [
    {
     "name": "stdout",
     "output_type": "stream",
     "text": [
      "dev-usgs-landsat-level-0/l0rp/oli-tirs/2018/160/054/ does not exist\n",
      "dev-usgs-landsat-level-0/l0rp/oli-tirs/2018/161/077/ does not exist\n",
      "dev-usgs-landsat-level-0/l0rp/oli-tirs/2018/176/084/ does not exist\n",
      "dev-usgs-landsat-level-0/l0rp/oli-tirs/2018/177/082/ does not exist\n",
      "dev-usgs-landsat-level-0/l0rp/oli-tirs/2018/206/048/ does not exist\n",
      "dev-usgs-landsat-level-0/l0rp/oli-tirs/2018/206/049/ does not exist\n",
      "Number of Africa scenes: 29676\n"
     ]
    }
   ],
   "source": [
    "import pandas as pd\n",
    "from pandas import ExcelWriter\n",
    "from pandas import ExcelFile\n",
    "\n",
    "df = pd.read_excel('Africa.xlsx')\n",
    "\n",
    "africa_path_row_list = df['Unnamed: 2'].tolist()\n",
    "\n",
    "africa_scenes = get_scenes('2018', africa_path_row_list)\n",
    "print('Number of Africa scenes: {}'.format(len(africa_scenes)))"
   ]
  },
  {
   "cell_type": "markdown",
   "metadata": {},
   "source": [
    "## Missing Scenes for 2018\n",
    "* Path: 160 Row: 054\n",
    "* Path: 161 Row: 077\n",
    "* Path: 176 Row: 084\n",
    "* Path: 177 Row: 082\n",
    "* Path: 206 Row: 048\n",
    "* Path: 206 Row: 049"
   ]
  },
  {
   "cell_type": "markdown",
   "metadata": {},
   "source": [
    "## Generate Africa Scene List "
   ]
  },
  {
   "cell_type": "code",
   "execution_count": 105,
   "metadata": {},
   "outputs": [
    {
     "data": {
      "text/plain": [
       "'Success'"
      ]
     },
     "execution_count": 105,
     "metadata": {},
     "output_type": "execute_result"
    }
   ],
   "source": [
    "tram_code = 'XO220'\n",
    "s3_location = 'dev-cmahan-test/matt/africa_scene_list.txt'\n",
    "\n",
    "generate_scene_list(africa_scenes, tram_code, s3_location)"
   ]
  },
  {
   "cell_type": "code",
   "execution_count": null,
   "metadata": {},
   "outputs": [],
   "source": []
  }
 ],
 "metadata": {
  "kernelspec": {
   "display_name": "Python 3",
   "language": "python",
   "name": "python3"
  },
  "language_info": {
   "codemirror_mode": {
    "name": "ipython",
    "version": 3
   },
   "file_extension": ".py",
   "mimetype": "text/x-python",
   "name": "python",
   "nbconvert_exporter": "python",
   "pygments_lexer": "ipython3",
   "version": "3.7.3"
  }
 },
 "nbformat": 4,
 "nbformat_minor": 2
}
