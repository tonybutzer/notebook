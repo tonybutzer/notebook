{
 "cells": [
  {
   "cell_type": "markdown",
   "metadata": {},
   "source": [
    "# Introduction to Animations\n",
    "\n",
    "This note book was modified from the Beginners guide on the Digital Earth Australia [GitHub Notebook repository](https://github.com/GeoscienceAustralia/dea-notebooks)\n",
    "\n",
    "* **Products used:** \n",
    "Landsat 8 surface reflectance (usgs_ls8c_level2_2)\n",
    "* **Prerequisites:** Users of this notebook should have a basic understanding of:\n",
    "    * How to run a Jupyter notebook\n",
    "    * Inspecting available DEA products and measurements\n",
    "    * How to load data from DEA\n",
    "    * Introduction to plotting == notebooks/examples/Beginners_guide/04_Plotting.ipynb"
   ]
  },
  {
   "cell_type": "markdown",
   "metadata": {},
   "source": [
    "## Background\n",
    "One way to get a view of your area is to get a time based animation either in the gif format or .mp4.\n",
    "\n",
    "the annimated_timeseries fuction from deafrica_plotting.py does this\n",
    "\n",
    "### Additional Notes from deafrica_plotting\n",
    "\n",
    "> Animations can be exported as .mp4 (ideal for Twitter/social media)\n",
    "    and .gif (ideal for all purposes, but can have large file sizes) \n",
    "    format files, and customised to include titles and date annotations \n",
    "    or use specific combinations of input bands.\n",
    "\n"
   ]
  },
  {
   "cell_type": "markdown",
   "metadata": {},
   "source": [
    "## Description\n",
    "This introductory notebook demonstrates how to visualise Digital Earth Africa satellite data returned from running a datacube query.\n",
    "The notebook demonstrates commonly used `xarray` animation methods, as well as custom functions provided in the [deafrica_plotting](../Scripts/dea_plotting.py) script.\n",
    "\n",
    "Topics covered in this notebook include:\n",
    "\n",
    "* View your area of interest prior to querying the datacube\n",
    "* Querying the datacube and loading data\n",
    "* Animating The Time Series\n",
    "    \n",
    "***"
   ]
  },
  {
   "cell_type": "markdown",
   "metadata": {},
   "source": [
    "### Load packages\n",
    "First we run `%matplotlib inline`, which ensures figures plot correctly in the Jupyter notebook.\n",
    "We then load the `datacube` package which will allow us to load some data, and a selection of custom DE Africa functions from the `deafrica_plotting` script which is located inside the [`deafrica-sandbox-notebooks` repository](https://github.com/digitalearthafrica/deafrica-sandbox-notebooks) in the Scripts folder.\n",
    "\n",
    "In order to use the custom fuctions on the sandbox a copy of the python file where the fuction is defined needs to be saved in the folders on the sanbox and we need to add that folder location to the python path. In this notebook we use `sys.path.append()` to add the `Scripts` folder, which where the `deafrica_plotting` python file is allready saved, to the python path. Custom fuctions `display_map()` and `rgb()` and `animated_timeseries()` are then imported form the `deafrica_plotting` python file."
   ]
  },
  {
   "cell_type": "code",
   "execution_count": 1,
   "metadata": {},
   "outputs": [
    {
     "name": "stdout",
     "output_type": "stream",
     "text": [
      "/notebooks/opt/notebook/03-SANDBOX-specific-demos/00-GA-africa-admin-sandbox\n",
      "ls: cannot access '/home/jovyan/examples/Scripts': No such file or directory\n"
     ]
    }
   ],
   "source": [
    "! pwd\n",
    "! ls /home/jovyan/examples/Scripts"
   ]
  },
  {
   "cell_type": "code",
   "execution_count": 2,
   "metadata": {},
   "outputs": [
    {
     "ename": "ModuleNotFoundError",
     "evalue": "No module named 'deafrica_plotting'",
     "output_type": "error",
     "traceback": [
      "\u001b[0;31m---------------------------------------------------------------------------\u001b[0m",
      "\u001b[0;31mModuleNotFoundError\u001b[0m                       Traceback (most recent call last)",
      "\u001b[0;32m<ipython-input-2-591426a1bd12>\u001b[0m in \u001b[0;36m<module>\u001b[0;34m\u001b[0m\n\u001b[1;32m      6\u001b[0m \u001b[0;34m\u001b[0m\u001b[0m\n\u001b[1;32m      7\u001b[0m \u001b[0msys\u001b[0m\u001b[0;34m.\u001b[0m\u001b[0mpath\u001b[0m\u001b[0;34m.\u001b[0m\u001b[0mappend\u001b[0m\u001b[0;34m(\u001b[0m\u001b[0;34m\"/home/jovyan/examples/Scripts\"\u001b[0m\u001b[0;34m)\u001b[0m\u001b[0;34m\u001b[0m\u001b[0;34m\u001b[0m\u001b[0m\n\u001b[0;32m----> 8\u001b[0;31m \u001b[0;32mfrom\u001b[0m \u001b[0mdeafrica_plotting\u001b[0m \u001b[0;32mimport\u001b[0m \u001b[0mdisplay_map\u001b[0m\u001b[0;34m\u001b[0m\u001b[0;34m\u001b[0m\u001b[0m\n\u001b[0m\u001b[1;32m      9\u001b[0m \u001b[0;32mfrom\u001b[0m \u001b[0mdeafrica_plotting\u001b[0m \u001b[0;32mimport\u001b[0m \u001b[0mrgb\u001b[0m\u001b[0;34m\u001b[0m\u001b[0;34m\u001b[0m\u001b[0m\n\u001b[1;32m     10\u001b[0m \u001b[0;32mfrom\u001b[0m \u001b[0mdeafrica_plotting\u001b[0m \u001b[0;32mimport\u001b[0m \u001b[0manimated_timeseries\u001b[0m\u001b[0;34m\u001b[0m\u001b[0;34m\u001b[0m\u001b[0m\n",
      "\u001b[0;31mModuleNotFoundError\u001b[0m: No module named 'deafrica_plotting'"
     ]
    }
   ],
   "source": [
    "%matplotlib inline\n",
    "\n",
    "import datacube\n",
    "import sys\n",
    "from odc.ui import with_ui_cbk\n",
    "\n",
    "sys.path.append(\"/home/jovyan/examples/Scripts\")\n",
    "from deafrica_plotting import display_map\n",
    "from deafrica_plotting import rgb\n",
    "from deafrica_plotting import animated_timeseries\n",
    "\n"
   ]
  },
  {
   "cell_type": "markdown",
   "metadata": {},
   "source": [
    "### Connect to the datacube\n",
    "We then connect to the datacube database so we can load DE Africa data. "
   ]
  },
  {
   "cell_type": "code",
   "execution_count": null,
   "metadata": {},
   "outputs": [],
   "source": [
    "dc = datacube.Datacube(app=\"05_Animating\")"
   ]
  },
  {
   "cell_type": "markdown",
   "metadata": {},
   "source": [
    "### Analysis parameters\n",
    "\n",
    "The following variables are required to establish a query for this notebook:\n",
    "- `lat_range`: The latitude range to analyse (e.g. `(11.72, 11.52)`). For reasonable load times, keep this to a range of ~0.1 degrees or less.\n",
    "- `lon_range`: The longitude range to analyse (e.g. `(-15.63, -15.43)`). For reasonable load times, keep this to a range of ~0.1 degrees or less.\n",
    "- `time_range`: The date range to analyse (e.g. `(\"2018-01-01\", \"2018-03-30\")`).\n"
   ]
  },
  {
   "cell_type": "code",
   "execution_count": null,
   "metadata": {},
   "outputs": [],
   "source": [
    "lat_range = (11.72, 11.52)\n",
    "lon_range = (-15.63, -15.43)\n",
    "time_range = (\"2017-01-01\", \"2017-12-31\")\n"
   ]
  },
  {
   "cell_type": "markdown",
   "metadata": {},
   "source": [
    "## View the queried location\n",
    "Before running a query and extracting and analysing data, it is useful to double-check that your location is correct.\n",
    "The `display_map()` function shows your selected area as a red rectangle on an interactive map.\n",
    "Clicking on any point of the map will reveal the latitude and longitude coordinates of that point."
   ]
  },
  {
   "cell_type": "code",
   "execution_count": null,
   "metadata": {},
   "outputs": [],
   "source": [
    "display_map(x=lon_range, y=lat_range)"
   ]
  },
  {
   "cell_type": "markdown",
   "metadata": {},
   "source": [
    "## Query and view data\n",
    "The variables determined above are used here to query the DE Africa datacube using the `dc.load()` function and load data introduced in the [Loading data notebook](04_Loading_data.ipynb).\n",
    "This introduction will to use Landsat 8 Surface reflectance `usgs_ls8c_level2_2`."
   ]
  },
  {
   "cell_type": "code",
   "execution_count": null,
   "metadata": {},
   "outputs": [],
   "source": [
    "ds = dc.load(product=\"ls8_usgs_sr_scene\",\n",
    "             measurements=['blue','green','red','nir','swir1','swir2'],\n",
    "             x=lon_range,\n",
    "             y=lat_range,\n",
    "             time=time_range,\n",
    "             output_crs='EPSG:6933',\n",
    "             progress_cbk=with_ui_cbk(),\n",
    "             resolution=(-30, 30))\n",
    "\n",
    "print(ds)"
   ]
  },
  {
   "cell_type": "markdown",
   "metadata": {},
   "source": [
    "## Plotting single band images\n",
    "\n",
    "The `xarray` package provides built-in methods for plotting individual data variables or measurements.\n",
    "For example, we might want to make a plot for a single measurement like the `swir1` satellite band in the data we loaded above.\n",
    "\n",
    "To do this, we first need to access the band we are after as an `xarray.DataArray` (to revise the difference between `xarray.Dataset` and `xarray.DataArray` objects, refer back to the [Loading data](04_Loading_data.ipynb) notebook):"
   ]
  },
  {
   "cell_type": "code",
   "execution_count": null,
   "metadata": {},
   "outputs": [],
   "source": [
    "print(ds.swir1)"
   ]
  },
  {
   "cell_type": "markdown",
   "metadata": {},
   "source": [
    "### Selecting and plotting a single timestep"
   ]
  },
  {
   "cell_type": "markdown",
   "metadata": {},
   "source": [
    "You can see in the object header that this `xarray.DataArray` has data for five timesteps (i.e. `<xarray.DataArray 'swir1' (time: 6, y: 834, x: 644)>`).\n",
    "To make a plot for a single timestep only, we need to select it using one of the following options:\n",
    "\n",
    "1. `.isel()`: This stands for \"index selection\", and lets us easily select individual timesteps from a dataset by providing the number of the observation we want. \n",
    "Counting in Python begins at 0, so to select the first timestep in the `xarray.DataArray` we can specify `.isel(time=0)`:"
   ]
  },
  {
   "cell_type": "code",
   "execution_count": null,
   "metadata": {},
   "outputs": [],
   "source": [
    "first_timestep = ds.swir1.isel(time=0)\n",
    "\n",
    "print(first_timestep)"
   ]
  },
  {
   "cell_type": "markdown",
   "metadata": {},
   "source": [
    "2. `.sel()`: This allows us to select data using real-world coordinate labels like `time`. \n",
    "    For example, from the *Coordinates* section, we can select the first timestep (i.e. The observation for january 4th 2016) from the `xarray.DataArray` by specifying `.sel(time='2016-01-04')`:"
   ]
  },
  {
   "cell_type": "code",
   "execution_count": null,
   "metadata": {},
   "outputs": [],
   "source": [
    "first_timestep = ds.swir1.sel(time='2017-01-06')\n",
    "\n",
    "print(first_timestep)"
   ]
  },
  {
   "cell_type": "markdown",
   "metadata": {},
   "source": [
    "We can now use the `.plot()` method to plot `swir1` data for our selected timestep:"
   ]
  },
  {
   "cell_type": "code",
   "execution_count": null,
   "metadata": {},
   "outputs": [],
   "source": [
    "first_timestep.plot()"
   ]
  },
  {
   "cell_type": "markdown",
   "metadata": {},
   "source": [
    "### Plotting multiple timesteps\n",
    "It is often useful to produce plots for a single measurement across time, for example to compare change between satellite observations or summary datasets.\n",
    "To plot multiple images, we can skip the `isel()` step above and plot the entire `xarray.DataArray` directly. \n",
    "\n",
    "To plot multiple timesteps in one figure, we need to tell the `.plot()` function to put each timestep in a different column.\n",
    "We can do this by specifying `.plot(col=\"time\")`:"
   ]
  },
  {
   "cell_type": "code",
   "execution_count": null,
   "metadata": {},
   "outputs": [],
   "source": [
    "ds.swir1.plot(col=\"time\")"
   ]
  },
  {
   "cell_type": "markdown",
   "metadata": {},
   "source": [
    "> This kind of plotting is called \"facetted plotting\". For more information, refer to the [xarray documentation](http://xarray.pydata.org/en/stable/plotting.html#faceting)"
   ]
  },
  {
   "cell_type": "markdown",
   "metadata": {},
   "source": [
    "### Customising plot appearance\n",
    "You may notice that the plots above are dark and difficult to see clearly.\n",
    "To improve the appearance of `xarray` plots, you can use the `robust=True` argument to optimise the plot colours by clipping extreme values or outliers. \n",
    "This will use the 2nd and 98th percentiles of the data to compute the color limits:"
   ]
  },
  {
   "cell_type": "code",
   "execution_count": null,
   "metadata": {},
   "outputs": [],
   "source": [
    "ds.swir1.plot(col=\"time\", robust=True)"
   ]
  },
  {
   "cell_type": "markdown",
   "metadata": {},
   "source": [
    "We can also easily use custom colour maps/styles to visualise our data using the `cmap` parameter.\n",
    "\n",
    "When choosing a colour map for a plot, it is important to choose a set of colours that are perceived logically by the human eye. \n",
    "The best colour maps are \"perceptually uniform\": these colour maps increase logically from dark to light colours, where equal increases in lightness/darkness correspond to equal changes in data values. \n",
    "Some best-practice perceptually uniform colour maps include:\n",
    "\n",
    "```\n",
    "\"viridis\", \"plasma\", \"inferno\", \"magma\", \"cividis\"\n",
    "```\n",
    "\n",
    "> For further reading about perceptually uniform colour maps in data visualisation, refer to the [matplotlib documentation](https://matplotlib.org/3.1.0/tutorials/colors/colormaps.html)\n",
    "\n",
    "It is also important to consider colour blindness when selecting a colour map. \n",
    "`xarray` supports many colour maps from the \"colorbrewer\" family of colour maps which are optimised for colour blindness.\n",
    "You can use the interactive [online tool](http://colorbrewer2.org) to browse all available colour maps, or choose from one of the following commonly used options:\n",
    "\n",
    "```\n",
    "\"Greys\", \"Purples\", \"Blues\", \"Greens\", \"Oranges\", \"Reds\",\n",
    "\"YlOrBr\", \"YlOrRd\", \"OrRd\", \"PuRd\", \"RdPu\", \"BuPu\", \n",
    "\"GnBu\", \"PuBu\", \"YlGnBu\", \"PuBuGn\", \"BuGn\", \"YlGn\"\n",
    "```\n",
    "\n",
    "For a full list of available colour maps you can refer to [this list](https://matplotlib.org/3.1.0/tutorials/colors/colormaps.html).\n",
    "\n",
    "For example, to plot our data with the perceptually uniform `magma` colour map:\n"
   ]
  },
  {
   "cell_type": "code",
   "execution_count": null,
   "metadata": {},
   "outputs": [],
   "source": [
    "ds.swir1.plot(col=\"time\", robust=True, cmap=\"magma\")"
   ]
  },
  {
   "cell_type": "markdown",
   "metadata": {},
   "source": [
    "## Plotting true or false colour RGB images"
   ]
  },
  {
   "cell_type": "markdown",
   "metadata": {},
   "source": [
    "Although `xarray` makes it easy to plot single band images, plotting a three band colour photo-like image is less straightforward.\n",
    "\n",
    "To make this easier, the `deafrica-notebooks` repository provides a custom `rgb()` function that is designed for plotting three band images.\n",
    "The `rgb()` function maps three data variables/measurements from the loaded dataset to the red, green and blue channels that are used to make a three-colour image.\n",
    "\n",
    "Providing the `red`, `green` and `blue` measurements from a dataset will produce a true colour image (akin to how humans view the landscape).\n",
    "Providing `nir`, `red` and `green` measurements or any other set of three satellite bands from a dataset will produce a false colour image.\n",
    "\n",
    "> [Learn more about colour rendering](https://en.wikipedia.org/wiki/False_color#True_color).\n",
    "\n",
    "Hence, the `rgb()` function can be used to visualise the data returned by a query.\n",
    "It requires the minimum input of:\n",
    "\n",
    "* `ds:` The `xarray.Dataset` object\n",
    "* `bands:` Three bands for display (these must be measurements found in the dataset) \n",
    "* `index:` The timestep to view, default is `0`\n",
    "\n",
    "### Plotting a single timestep\n",
    "\n",
    "The time dimension of your `xarray.Dataset` describes how many timesteps exist for your location during your nominated time period.\n",
    "In the `rgb()` function, the `index` variable is asking for which timesteps you want to view (similar to the `isel()` example above).\n",
    "Remember: counting in Python begins at 0 so to view the earliest timesteps set `index=0`:"
   ]
  },
  {
   "cell_type": "code",
   "execution_count": null,
   "metadata": {},
   "outputs": [],
   "source": [
    "# View a red, green, blue (true colour) image of the first timestep\n",
    "rgb(ds, bands=[\"red\", \"green\", \"blue\"], index=0)"
   ]
  },
  {
   "cell_type": "markdown",
   "metadata": {},
   "source": [
    "By changing the input bands, we can plot a false colour image which can provide different insights in a landscape.\n",
    "This band combination (`swir1`, `nir`, `green`) emphasises growing vegetation in green, and water in deep blue:"
   ]
  },
  {
   "cell_type": "code",
   "execution_count": null,
   "metadata": {},
   "outputs": [],
   "source": [
    "# View a swir1, nir, green (false colour) image of the first timestep\n",
    "rgb(ds, bands=['swir1', 'nir', 'green'], index=0)"
   ]
  },
  {
   "cell_type": "markdown",
   "metadata": {},
   "source": [
    "### Plotting multiple timesteps\n",
    "As discussed in the [single band example above](#Plotting-multiple-timesteps), it can be useful to visualise multiple timesteps in a single plot (e.g. to compare change over time).\n",
    "\n",
    "The `rgb()` function allows you to do this by providing a list of multiple images to plot using `index=[X, X, ...]`.\n",
    "For example, we can plot the first and fifth image in our dataset using `index=[0, 4]` (remembering that counting in Python starts at 0):"
   ]
  },
  {
   "cell_type": "code",
   "execution_count": null,
   "metadata": {},
   "outputs": [],
   "source": [
    "# View a true colour image for the first and fith timesteps\n",
    "rgb(ds, bands=['red', 'green', 'blue'], index=[0, 4])"
   ]
  },
  {
   "cell_type": "markdown",
   "metadata": {},
   "source": [
    "It is also possible to use `rgb()` to plot all timesteps in a dataset using the `col=\"time\"` syntax we demonstrate in the [single band example above](#Plotting-multiple-timesteps): "
   ]
  },
  {
   "cell_type": "markdown",
   "metadata": {},
   "source": [
    "### Customising plot appearance\n",
    "By default, `rgb()` generates plots with `robust=True` to improve the appearance of the images by clipping out the darkest and brightest 2% of pixels, using the 2nd and 98th percentiles of the data to compute the color limits\n",
    "\n",
    "If this default provides poor results, the plot's colour stretch can be customised using the `percentile_stretch` parameter. \n",
    "This allows you to clip the most extreme minimum and maximum values in the dataset, to improve the contrast and appearance of the plot.\n",
    "\n",
    "For example, specifying `percentile_stretch=[0.05, 0.95]` will clip out the darkest and brightest 5% of pixels, focusing the colour stretch on the remaining 90% of less extreme values:"
   ]
  },
  {
   "cell_type": "code",
   "execution_count": null,
   "metadata": {},
   "outputs": [],
   "source": [
    "rgb(ds, \n",
    "    bands=['red', 'green', 'blue'], \n",
    "    index=0, \n",
    "    percentile_stretch=[0.05, 0.95])\n"
   ]
  },
  {
   "cell_type": "markdown",
   "metadata": {},
   "source": [
    "# Now Animate\n",
    "- description pending"
   ]
  },
  {
   "cell_type": "code",
   "execution_count": null,
   "metadata": {},
   "outputs": [],
   "source": [
    "animated_timeseries(ds,output_path='./bolama00.gif',bands = ['swir1', 'nir', 'green'], time_dim='time',  \n",
    "      percentile_stretch=(.2,.85), interval=1200)"
   ]
  },
  {
   "cell_type": "code",
   "execution_count": null,
   "metadata": {},
   "outputs": [],
   "source": [
    "animated_timeseries(ds,output_path='./bolama10.gif',bands = ['swir1', 'nir', 'green'], time_dim='time',  \n",
    "      interval=500)"
   ]
  },
  {
   "cell_type": "code",
   "execution_count": null,
   "metadata": {},
   "outputs": [],
   "source": [
    "animated_timeseries(ds,output_path='./bolamargb.gif',bands = ['red', 'green', 'blue'], time_dim='time',  \n",
    "      percentile_stretch=(.3,.75), interval=700)"
   ]
  },
  {
   "cell_type": "code",
   "execution_count": null,
   "metadata": {},
   "outputs": [],
   "source": [
    "from notebookLib.nb_animate import nb_animated_timeseries\n",
    "\n",
    "nb_animated_timeseries(ds,output_path='./bolama_stretch00.gif',bands = ['red', 'green', 'blue'], time_dim='time',  \n",
    "      percentile_stretch=(.2,.85), interval=1200)"
   ]
  },
  {
   "cell_type": "code",
   "execution_count": null,
   "metadata": {},
   "outputs": [],
   "source": [
    "nb_animated_timeseries(ds,output_path='./bolama_stretch10.gif',bands = ['red', 'green', 'blue'], time_dim='time',  \n",
    "      percentile_stretch=(.2,.85), interval=600)"
   ]
  },
  {
   "cell_type": "code",
   "execution_count": null,
   "metadata": {},
   "outputs": [],
   "source": [
    "help(animated_timeseries)"
   ]
  },
  {
   "cell_type": "markdown",
   "metadata": {},
   "source": [
    "## Recommended next steps\n",
    "\n",
    "To continue working through the notebooks in this beginner's guide, the following notebooks are designed to be worked through in the following order:\n",
    "\n",
    "1. Jupyter Notebooks\n",
    "2. Products and Measurements\n",
    "3. Loading data\n",
    "4. **Plotting (this notebook)**\n",
    "\n",
    "\n",
    "For advanced plotting and visualisation options, see:\n",
    "\n",
    "* The [deafrica plotting](../Scripts/deafrica_plotting.py) Python script containing functions used for plotting and visualising DE Africa data.\n",
    "\n",
    "Now that you have completed the first five tutorials, join advanced users in exploring:\n",
    "\n",
    "* Continue exploring with some \"Case studies\" which provide more complex workflows and analysis examples.\n"
   ]
  },
  {
   "cell_type": "markdown",
   "metadata": {},
   "source": [
    "***\n",
    "## Additional information\n",
    "**License:** The code in this notebook is licensed under the [Apache License, Version 2.0](https://www.apache.org/licenses/LICENSE-2.0). \n",
    "\n",
    "**Contact:** If you need assistance, please post a question on the [Open Data Cube Slack channel](http://slack.opendatacube.org/) or on the [GIS Stack Exchange](https://gis.stackexchange.com/questions/ask?tags=open-data-cube) using the `open-data-cube` tag (you can view previously asked questions [here](https://gis.stackexchange.com/questions/tagged/open-data-cube)).\n",
    "If you would like to report an issue with this notebook, you can file one on [Github](https://github.com/GeoscienceAustralia/dea-notebooks).\n",
    "\n",
    "**Last modified:** November 2019\n"
   ]
  },
  {
   "cell_type": "code",
   "execution_count": null,
   "metadata": {},
   "outputs": [],
   "source": []
  }
 ],
 "metadata": {
  "kernelspec": {
   "display_name": "Python 3",
   "language": "python",
   "name": "python3"
  },
  "language_info": {
   "codemirror_mode": {
    "name": "ipython",
    "version": 3
   },
   "file_extension": ".py",
   "mimetype": "text/x-python",
   "name": "python",
   "nbconvert_exporter": "python",
   "pygments_lexer": "ipython3",
   "version": "3.6.8"
  },
  "widgets": {
   "application/vnd.jupyter.widget-state+json": {
    "state": {
     "225fc520ec6d43a3af66c7d48e56179e": {
      "model_module": "jupyter-leaflet",
      "model_module_version": "^0.11.1",
      "model_name": "LeafletZoomControlModel",
      "state": {
       "_model_module_version": "^0.11.1",
       "_view_count": null,
       "_view_module_version": "^0.11.1",
       "options": [
        "position",
        "zoom_in_text",
        "zoom_in_title",
        "zoom_out_text",
        "zoom_out_title"
       ]
      }
     },
     "a363a6bcf86f4feda3d7a73a4e23be45": {
      "model_module": "jupyter-leaflet",
      "model_module_version": "^0.11.1",
      "model_name": "LeafletAttributionControlModel",
      "state": {
       "_model_module_version": "^0.11.1",
       "_view_count": null,
       "_view_module_version": "^0.11.1",
       "options": [
        "position",
        "prefix"
       ],
       "position": "bottomright",
       "prefix": "Leaflet"
      }
     }
    },
    "version_major": 2,
    "version_minor": 0
   }
  }
 },
 "nbformat": 4,
 "nbformat_minor": 4
}
