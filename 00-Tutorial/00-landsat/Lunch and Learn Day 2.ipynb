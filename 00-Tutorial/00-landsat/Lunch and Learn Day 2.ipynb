{
 "cells": [
  {
   "cell_type": "markdown",
   "metadata": {},
   "source": [
    "# Pangeo: Lunch and Learn Advanced Demo"
   ]
  },
  {
   "cell_type": "markdown",
   "metadata": {},
   "source": [
    "## Section 1: Working with Dataframes\n",
    "***\n",
    "- [1.1 Parsing Landsat Metadata](#1.1)\n",
    "- [1.2 Seaching Landsat 8 Scenes in the cloud with sat-search](#1.2)"
   ]
  },
  {
   "cell_type": "markdown",
   "metadata": {},
   "source": [
    "## Section 2: Working with Landsatdata in the cloud\n",
    "***\n",
    "- [2.1 Draw Full Extent Image](#2.1)\n",
    "- [2.2 Make thumbnail three band composites for two acqusitions](#2.2)\n",
    "- [2.3 Make a full resolution windowed composite for two acqusitions](#2.3)\n",
    "- [2.4 Calculating Normalized Burn Ratio](#2.4)\n",
    "- [2.5 Creating a histogram of dNBR vaules](#2.5)\n",
    "- [2.6 Masking classes dNBR vaules to show only burned areas](#2.6)\n",
    "- [2.7 Creating and exporting custom layouts](#2.7)"
   ]
  },
  {
   "cell_type": "markdown",
   "metadata": {},
   "source": [
    "### 1.1 Parsing Landsat Metadata <a id=\"1.1\"></a>\n",
    "\n",
    "Abstract: This tutorial will read a CSV formatted Landsat Metadata export retrieved from EarthExplorer and load the CSV file into a Pandas Dataframe. This allows for simple parsing of the CSV by specifying specific columns that contain your information of interest. With Pandas you can also export a new CSV containing only the columns required."
   ]
  },
  {
   "cell_type": "code",
   "execution_count": null,
   "metadata": {},
   "outputs": [],
   "source": [
    "#import required modules\n",
    "import pandas as pd\n",
    "import csv"
   ]
  },
  {
   "cell_type": "code",
   "execution_count": null,
   "metadata": {},
   "outputs": [],
   "source": [
    "# Takes select columns from the CSV\n",
    "df = pd.read_csv('LANDSAT_8_C1_314611.csv', sep = ',', usecols=['Landsat Product Identifier','Collection Category','WRS Path', 'WRS Row', 'Scene Cloud Cover'], squeeze=True)\n"
   ]
  },
  {
   "cell_type": "code",
   "execution_count": null,
   "metadata": {},
   "outputs": [],
   "source": [
    "#Prints the Dataframe\n",
    "df"
   ]
  },
  {
   "cell_type": "code",
   "execution_count": null,
   "metadata": {},
   "outputs": [],
   "source": [
    "#Select scenes where the scene cloud score is between 0 and 10\n",
    "df_cc = df[df['Scene Cloud Cover'].between(0, 10)]"
   ]
  },
  {
   "cell_type": "code",
   "execution_count": null,
   "metadata": {},
   "outputs": [],
   "source": [
    "#Select the Landsat Product IDs that have meet the cloud score criteria specified above\n",
    "df_productid = df_cc[['Landsat Product Identifier']]"
   ]
  },
  {
   "cell_type": "code",
   "execution_count": null,
   "metadata": {},
   "outputs": [],
   "source": [
    "#Print the new dataframe which will contain only Product IDs meeting the cloud score criteria\n",
    "df_productid"
   ]
  },
  {
   "cell_type": "code",
   "execution_count": null,
   "metadata": {},
   "outputs": [],
   "source": [
    "# Exports the variable to a CSV file stripping the index numbers and the header information\n",
    "df_productid.to_csv(r'example.csv', index=False, header=False)"
   ]
  },
  {
   "cell_type": "markdown",
   "metadata": {},
   "source": [
    "### 1.2 Seaching Landsat 8 Scenes in the cloud with sat-search<a id=\"1.2\"></a>\n",
    "Abstract: This tutorial demonstrates querying Landsat 8 Data stored in the the cloud using the Sat-Search Python Module. Additional information on this library can be found here: https://github.com/sat-utils/sat-search. Currently this module is querying Landsat 8 imagery processed into cloud otimized format (COG, https://www.cogeo.org/) by Planet (https://www.planet.com/pulse/planet-labs-celebrates-landsat-8-data-is-finally-available-on-amazon-web-services/) although the intent is to hook our data to this library at somepoint. The purpose of this tutorial is how we invision our users searching the USGS Landsat Record in the cloud.\n",
    "\n",
    "This tutorial introduces a new metadata format, Spatio Temporal Asset Catalog (STAC https://stacspec.org/). Each scene in the query's metadata is returned by the query in a machine readable JSON format. Importantly each component of the legacy TAR GZ file is stored uncompressed in the cloud. A link to these objects is prodvided as part of the JSON repsonse when the query is returned. This allows direct access to the imagery without specifying a direct URL to the object.\n",
    "\n",
    "In this example Sat-Search is queried for Landsat scenes meeting certain requirements. The JSON is added to a Pandas dataframe and be using the object URL fo each scenes Band 4 a preview of Band 4 is drawn in the notebook."
   ]
  },
  {
   "cell_type": "code",
   "execution_count": null,
   "metadata": {},
   "outputs": [],
   "source": [
    "#Import modules\n",
    "from satsearch import Search\n",
    "import json\n",
    "import geopandas as gpd\n",
    "import rasterio\n",
    "from rasterio.plot import show\n",
    "import pandas as pd"
   ]
  },
  {
   "cell_type": "code",
   "execution_count": null,
   "metadata": {},
   "outputs": [],
   "source": [
    "#Specify query parameters\n",
    "#Search Extent Defined using Bounding Box: -97.50, 45.48, -97.21, 45.24\n",
    "#Acquired April 15, 2019 to August 29, 2019\n",
    "#Cloud Score less than 30\n",
    "#Tier 1\n",
    "#Landsat 8 Collection\n",
    "results = Search.search(bbox=[-97.50, 45.48, -97.21, 45.24],\n",
    "               datetime='2019-04-15/2019-08-29',\n",
    "               property=[\"eo:cloud_cover<30\", \"landsat:tier=T1\"],\n",
    "               collection='landsat-8-l1')"
   ]
  },
  {
   "cell_type": "code",
   "execution_count": null,
   "metadata": {},
   "outputs": [],
   "source": [
    "#Print Number of Scenes Meeting Criteria\n",
    "print('%s items' % results.found())"
   ]
  },
  {
   "cell_type": "code",
   "execution_count": null,
   "metadata": {},
   "outputs": [],
   "source": [
    "#Save Returned JSON Response for later use\n",
    "items = results.items()\n",
    "print(items)\n",
    "items.save('searchResults.json')\n",
    "jsonData = 'searchResults.json'"
   ]
  },
  {
   "cell_type": "code",
   "execution_count": null,
   "metadata": {},
   "outputs": [],
   "source": [
    "#open JSON results\n",
    "with open(jsonData) as f:\n",
    "    json_results = json.load(f)"
   ]
  },
  {
   "cell_type": "code",
   "execution_count": null,
   "metadata": {},
   "outputs": [],
   "source": [
    "#Helpful tip: With JSON results you can print the keys to help locating the fields you want in your dataframe later by using the command json_results.keys()\n",
    "json_results.keys()"
   ]
  },
  {
   "cell_type": "code",
   "execution_count": null,
   "metadata": {},
   "outputs": [],
   "source": [
    "#Print JSON for demonstration purposes.\n",
    "print(json.dumps(json_results, indent = 4))"
   ]
  },
  {
   "cell_type": "code",
   "execution_count": null,
   "metadata": {},
   "outputs": [],
   "source": [
    "# Load results to pandas geodataframe\n",
    "#Sort by date acquired\n",
    "gf = gpd.read_file('searchResults.json')\n",
    "gf = gf.sort_values('datetime').reset_index(drop=True)\n",
    "#print number of records as a check to verify number of scenes in the frame match the number returned by query\n",
    "print('records:', len(gf))\n",
    "gf.head(200)"
   ]
  },
  {
   "cell_type": "code",
   "execution_count": null,
   "metadata": {},
   "outputs": [],
   "source": [
    "#Convert to Pandas Dataframe and display product ID, acquisition date, cloud cover, tier, column (path) and row\n",
    "df = pd.DataFrame(gf, columns =['landsat:product_id','datetime','eo:cloud_cover','landsat:tier', 'eo:column', 'eo:row'])\n",
    "#Print Dataframe\n",
    "df"
   ]
  },
  {
   "cell_type": "code",
   "execution_count": null,
   "metadata": {},
   "outputs": [],
   "source": [
    "#Write dataframe to CSV for later use\n",
    "df.to_csv('results.csv', sep = ',')"
   ]
  },
  {
   "cell_type": "code",
   "execution_count": null,
   "metadata": {},
   "outputs": [],
   "source": [
    "#Here the the JSON is parsed to locate the object URLs for all 12 canidate scene's band 4, the URLS are then appended to a list\n",
    "bands = []\n",
    "for items in json_results['features']:\n",
    "    band4 = items['assets']['B4']\n",
    "    bands.append(band4['href'])"
   ]
  },
  {
   "cell_type": "code",
   "execution_count": null,
   "metadata": {},
   "outputs": [],
   "source": [
    "#Loop throw list of bands and open and read each file and cretae a overview thumbnail to preview each acqusition's band 4\n",
    "for item in bands:\n",
    "    with rasterio.open(item) as src:\n",
    "        oviews = src.overviews(1) \n",
    "        oview = oviews[-1] \n",
    "        band = [src.read(1, out_shape=(1, int(src.height // oview), int(src.width // oview)))]\n",
    "        show(band)"
   ]
  },
  {
   "cell_type": "markdown",
   "metadata": {},
   "source": [
    "## Section 2: Working with Landsat data in the cloud"
   ]
  },
  {
   "cell_type": "code",
   "execution_count": null,
   "metadata": {},
   "outputs": [],
   "source": [
    "#import required modules\n",
    "import sys\n",
    "import requests\n",
    "from rasterio.rio import insp\n",
    "import rasterio\n",
    "import rasterio.plot\n",
    "import numpy as np\n",
    "import matplotlib\n",
    "import matplotlib.pyplot as plt\n",
    "from rasterio.plot import show\n",
    "from rasterio.windows import Window\n",
    "from matplotlib.colors import ListedColormap, BoundaryNorm\n",
    "from skimage import data, img_as_float\n",
    "from skimage import exposure\n",
    "from matplotlib.patches import Patch"
   ]
  },
  {
   "cell_type": "markdown",
   "metadata": {},
   "source": [
    "<bold> Important: The next two cells will load the band objects needed for the rest of the tutorial. Ideally you would use the sat-search module to query the record instead of hard coding the S3 links. But, since this a dev environment the S3 links have to be hard coded as a limitation of the dev environment."
   ]
  },
  {
   "cell_type": "code",
   "execution_count": null,
   "metadata": {},
   "outputs": [],
   "source": [
    "#Import required bands from before the fire\n",
    "date = '7-19-2018'\n",
    "Bb5_file = 's3://dev-usgs-landsat/collection1/level2/albers/oli-tirs/2018/044/032/LC08_L1TP_044032_20180719_20180731_01_A1/LC08_L1TP_044032_20180719_20180731_01_A1_sr_band5.tif'\n",
    "Bb6_file = 's3://dev-usgs-landsat/collection1/level2/albers/oli-tirs/2018/044/032/LC08_L1TP_044032_20180719_20180731_01_A1/LC08_L1TP_044032_20180719_20180731_01_A1_sr_band6.tif'\n",
    "Bb7_file = 's3://dev-usgs-landsat/collection1/level2/albers/oli-tirs/2018/044/032/LC08_L1TP_044032_20180719_20180731_01_A1/LC08_L1TP_044032_20180719_20180731_01_A1_sr_band7.tif'"
   ]
  },
  {
   "cell_type": "code",
   "execution_count": null,
   "metadata": {},
   "outputs": [],
   "source": [
    "#Import required bands from after the fire\n",
    "date2 = '1-27-2019'\n",
    "Ab5_file = 's3://dev-usgs-landsat/collection1/level2/albers/oli-tirs/2019/044/032/LC08_L1TP_044032_20190127_20190206_01_A1/LC08_L1TP_044032_20190127_20190206_01_A1_sr_band5.tif'\n",
    "Ab6_file = 's3://dev-usgs-landsat/collection1/level2/albers/oli-tirs/2019/044/032/LC08_L1TP_044032_20190127_20190206_01_A1/LC08_L1TP_044032_20190127_20190206_01_A1_sr_band6.tif'\n",
    "Ab7_file = 's3://dev-usgs-landsat/collection1/level2/albers/oli-tirs/2019/044/032/LC08_L1TP_044032_20190127_20190206_01_A1/LC08_L1TP_044032_20190127_20190206_01_A1_sr_band7.tif'"
   ]
  },
  {
   "cell_type": "markdown",
   "metadata": {},
   "source": [
    "### 2.1 Draw Full Extent Image<a id=\"2.1\"></a>\n",
    "Abstract: This tutorial will demonstrate opening, reading, and drawing a full extent of the NIR band for scene LC08_L1TP_044032_20190127_20190206_01_A1."
   ]
  },
  {
   "cell_type": "code",
   "execution_count": null,
   "metadata": {},
   "outputs": [],
   "source": [
    "with rasterio.open(Ab5_file) as src:\n",
    "    AnirF = src.read(1)"
   ]
  },
  {
   "cell_type": "code",
   "execution_count": null,
   "metadata": {},
   "outputs": [],
   "source": [
    "#Equalize histogram to increase brightness\n",
    "AnirFeq = exposure.equalize_hist(AnirF)\n",
    "\n",
    "#Plot full extent band 5\n",
    "plt.figure(figsize=(40,40))\n",
    "plt.imshow(AnirFeq, vmin = 0, vmax = 1, cmap = 'hot')\n",
    "plt.colorbar(shrink=0.5)\n",
    "plt.title('After Fire Band 5', fontsize = 20)\n",
    "plt.xlabel('Column #', fontsize = 20)\n",
    "plt.ylabel('Row #', fontsize = 20)"
   ]
  },
  {
   "cell_type": "markdown",
   "metadata": {},
   "source": [
    "### 2.2 Make thumbnail three band composites for two acqusitions<a id=\"2.2\"></a>\n",
    "Abstract: This tutorial will demonstrate how to read three bands from two different acqusitions and draw a three band composite thumbnail for each acqusition in a SWIR2, SWIR, NIR band combination. The two scenes used as inputs are LC08_L1TP_044032_20180719_20180731_01_A1 and LC08_L1TP_044032_20190127_20190206_01_A1.    "
   ]
  },
  {
   "cell_type": "code",
   "execution_count": null,
   "metadata": {},
   "outputs": [],
   "source": [
    "#Opens and reads each band file's URL\n",
    "#Reduces to an overview low resolution thumbnail\n",
    "with rasterio.open(Bb5_file) as src:\n",
    "    oviews = src.overviews(1) \n",
    "    oview = oviews[-1] \n",
    "    BnirThumb = src.read(1, out_shape=(1, int(src.height // oview), int(src.width // oview)))\n",
    "with rasterio.open(Bb6_file) as src:\n",
    "    oviews = src.overviews(1) \n",
    "    oview = oviews[-1] # let's look at the smallest thumbnail\n",
    "    BswirThumb = src.read(1, out_shape=(1, int(src.height // oview), int(src.width // oview)))\n",
    "with rasterio.open(Bb7_file) as src:\n",
    "    oviews = src.overviews(1) \n",
    "    oview = oviews[-1] \n",
    "    Bswir2Thumb = src.read(1, out_shape=(1, int(src.height // oview), int(src.width // oview)))"
   ]
  },
  {
   "cell_type": "code",
   "execution_count": null,
   "metadata": {},
   "outputs": [],
   "source": [
    "#Opens and reads each band file's URL\n",
    "#Reduces to an overview low resolution thumbnail\n",
    "with rasterio.open(Ab5_file) as src:\n",
    "    oviews = src.overviews(1) # list of overviews from biggest to smallest\n",
    "    oview = oviews[-1] # let's look at the smallest thumbnail\n",
    "    AnirThumb = src.read(1, out_shape=(1, int(src.height // oview), int(src.width // oview)))\n",
    "with rasterio.open(Ab6_file) as src:\n",
    "    oviews = src.overviews(1) # list of overviews from biggest to smallest\n",
    "    oview = oviews[-1] # let's look at the smallest thumbnail\n",
    "    AswirThumb = src.read(1, out_shape=(1, int(src.height // oview), int(src.width // oview)))\n",
    "with rasterio.open(Ab7_file) as src:\n",
    "    oviews = src.overviews(1) # list of overviews from biggest to smallest\n",
    "    oview = oviews[-1] # let's look at the smallest thumbnail\n",
    "    Aswir2Thumb = src.read(1, out_shape=(1, int(src.height // oview), int(src.width // oview)))"
   ]
  },
  {
   "cell_type": "code",
   "execution_count": null,
   "metadata": {},
   "outputs": [],
   "source": [
    "def normalize(array):\n",
    "    \"\"\"Normalizes numpy arrays into scale 0.0 - 1.0\"\"\"\n",
    "    array_min, array_max = array.min(), array.max()\n",
    "    return ((array - array_min)/(array_max - array_min))"
   ]
  },
  {
   "cell_type": "code",
   "execution_count": null,
   "metadata": {},
   "outputs": [],
   "source": [
    "#Normalize thumbnail values to values between 0 and 1\n",
    "Bswir2Thumbn = normalize(Bswir2Thumb)\n",
    "BswirThumbn = normalize(BswirThumb)\n",
    "BnirThumbn = normalize(BnirThumb)\n",
    "Aswir2Thumbn = normalize(Aswir2Thumb)\n",
    "AswirThumbn = normalize(AswirThumb)\n",
    "AnirThumbn = normalize(AnirThumb)"
   ]
  },
  {
   "cell_type": "code",
   "execution_count": null,
   "metadata": {},
   "outputs": [],
   "source": [
    "#Creates three band thumbnail composites using band combination 7, 6, 5\n",
    "BcompThumb = np.dstack((Bswir2Thumbn, BswirThumbn, BnirThumbn))\n",
    "AcompThumb = np.dstack((Aswir2Thumbn, AswirThumbn, AnirThumbn))\n",
    "\n",
    "#Create Plot and display the thumbnail composites side by side\n",
    "fig, axes = plt.subplots(1,2, figsize=(14,6), sharex=True, sharey=True)\n",
    "plt.sca(axes[0])\n",
    "plt.imshow(BcompThumb)\n",
    "plt.colorbar(shrink=0.5)\n",
    "plt.title('Before Fire Bands 7, 6, 5/ {}'.format(date))\n",
    "plt.xlabel('Column #')\n",
    "plt.ylabel('Row #')\n",
    "\n",
    "plt.sca(axes[1])\n",
    "plt.imshow(AcompThumb)\n",
    "plt.colorbar(shrink=0.5)\n",
    "plt.title('After Fire Band 7, 6, 5/ {}'.format(date2))\n",
    "plt.xlabel('Column #')\n",
    "plt.ylabel('Row #')"
   ]
  },
  {
   "cell_type": "markdown",
   "metadata": {},
   "source": [
    "### 2.3 Make a full resolution windowed composite for two acqusitions<a id=\"2.3\"></a>\n",
    "Abstract: In this turtorial a windowed approach is used to create a full resolution three band composite image in a SWIR2, SWIR, NIR band combination. The two scenes used as inputs are LC08_L1TP_044032_20180719_20180731_01_A1 and LC08_L1TP_044032_20190127_20190206_01_A1. Processing is done only on the area of the scene within a specified area of interest or window. Instead of the window approach for rasterio can also support processing by GeoJSON or shapefile. https://rasterio.readthedocs.io/en/stable/index.html. "
   ]
  },
  {
   "cell_type": "code",
   "execution_count": null,
   "metadata": {},
   "outputs": [],
   "source": [
    "#Define window for future processing\n",
    "window = Window.from_slices((5500, 6900), (2300, 3300))\n",
    "#Opens and reads each band file's URL\n",
    "#Create Windowed band array\n",
    "#Repeat above for each band\n",
    "with rasterio.open(Bb5_file) as src:\n",
    "    Bnir = src.read(1, window=window)\n",
    "with rasterio.open(Bb6_file) as src:\n",
    "    Bswir = src.read(1, window=window)\n",
    "with rasterio.open(Bb7_file) as src:\n",
    "    Bswir2 = src.read(1, window=window)"
   ]
  },
  {
   "cell_type": "code",
   "execution_count": null,
   "metadata": {},
   "outputs": [],
   "source": [
    "#Define window for future processing\n",
    "window = Window.from_slices((5500, 6900), (2300, 3300))\n",
    "#Opens and reads each band file's URL\n",
    "#Create Windowed band array\n",
    "#Repeat above for each band\n",
    "with rasterio.open(Ab5_file) as src:\n",
    "    Anir = src.read(1, window=window)\n",
    "with rasterio.open(Ab6_file) as src:\n",
    "    Aswir = src.read(1, window=window)\n",
    "with rasterio.open(Ab7_file) as src:\n",
    "    Aswir2 = src.read(1, window=window)"
   ]
  },
  {
   "cell_type": "code",
   "execution_count": null,
   "metadata": {},
   "outputs": [],
   "source": [
    "def normalize(array):\n",
    "    \"\"\"Normalizes numpy arrays into scale 0.0 - 1.0\"\"\"\n",
    "    array_min, array_max = array.min(), array.max()\n",
    "    return ((array - array_min)/(array_max - array_min))"
   ]
  },
  {
   "cell_type": "code",
   "execution_count": null,
   "metadata": {},
   "outputs": [],
   "source": [
    "#Normalize windowed bands to values randing from 0-1\n",
    "Bswir2N = normalize(Bswir)\n",
    "BswirN = normalize(Bswir)\n",
    "BnirN = normalize(Bnir)\n",
    "Aswir2N = normalize(Aswir2)\n",
    "AswirN = normalize(Aswir)\n",
    "AnirN = normalize(Anir)"
   ]
  },
  {
   "cell_type": "code",
   "execution_count": null,
   "metadata": {},
   "outputs": [],
   "source": [
    "#Create three band raster composites \n",
    "#Equalize histagrams to increase brightness for display\n",
    "Bswir2Neq = exposure.equalize_hist(Bswir2N)\n",
    "BswirNeq = exposure.equalize_hist(BswirN)\n",
    "BnirNeq = exposure.equalize_hist(BnirN)\n",
    "Aswir2Neq = exposure.equalize_hist(Aswir2N)\n",
    "AswirNeq = exposure.equalize_hist(AswirN)\n",
    "AnirNeq = exposure.equalize_hist(AnirN)\n",
    "\n",
    "#Create three band raster composites \n",
    "Bcomp = np.dstack((Bswir2Neq, BswirNeq, BnirNeq))\n",
    "Acomp = np.dstack((Aswir2Neq, AswirNeq, AnirNeq))\n",
    "\n",
    "#Plot raster composites side by side\n",
    "fig, axes = plt.subplots(1,2, figsize=(40,40), sharex=True, sharey=True)\n",
    "plt.sca(axes[0])\n",
    "plt.imshow(Bcomp)\n",
    "plt.title('Before Fire Bands 7, 6, 5/ {}'.format(date), fontsize=30)\n",
    "plt.xlabel('Column #')\n",
    "plt.ylabel('Row #')\n",
    "plt.grid(b=None)\n",
    "plt.axis('off')\n",
    "\n",
    "plt.sca(axes[1])\n",
    "plt.imshow(Acomp)\n",
    "plt.title('After Fire Band 7, 6, 5/ {}'.format(date2), fontsize=30)\n",
    "plt.axis('off')\n",
    "plt.grid(b=None)"
   ]
  },
  {
   "cell_type": "markdown",
   "metadata": {},
   "source": [
    "### 2.4 Calculating Normalized Burn Ratio<a id=\"2.4\"></a>\n",
    "Abstract: In this tutorial Normalized Burn Ration is calculated on two acqusitions based upon the extent of the windowed scenes created above. The input scenes are from before and after the Camp Fire (2018) near Paradise, California. Scene LC08_L1TP_044032_20180719_20180731_01_A1 is from before the fire and LC08_L1TP_044032_20190127_20190206_01_A1 is after the fire. In the final step of this section the dNBR (difference Normalized Burn Ratio) is calculated by subtracting the two scenes to create a burn intensity drawing."
   ]
  },
  {
   "cell_type": "code",
   "execution_count": null,
   "metadata": {},
   "outputs": [],
   "source": [
    "#Indicies (NBR) need to be calculate from integers, here arrays are converted to integers\n",
    "Bswir2N = np.asarray(Bswir2, dtype = int)\n",
    "BnirN = np.asarray(Bnir, dtype = int)\n",
    "Aswir2N = np.asarray(Aswir2, dtype = int)\n",
    "AnirN = np.asarray(Anir, dtype = int)"
   ]
  },
  {
   "cell_type": "code",
   "execution_count": null,
   "metadata": {},
   "outputs": [],
   "source": [
    "#Mask Out Pixels that are 0\n",
    "Bswir2Nmask = np.ma.masked_where(Bswir2N <=0, Bswir2N, copy=True)\n",
    "BnirNmask = np.ma.masked_where(BnirN <=0, Bswir2N, copy=True)\n",
    "Aswir2Nmask = np.ma.masked_where(BnirN <=0, Aswir2N, copy=True)\n",
    "AnirNmask = np.ma.masked_where(BnirN <=0, AnirN, copy=True)"
   ]
  },
  {
   "cell_type": "code",
   "execution_count": null,
   "metadata": {},
   "outputs": [],
   "source": [
    "#Define function to calculate NBR\n",
    "def calcNBR(nir,swir2):\n",
    "    nir = nir.astype('f4')\n",
    "    swir2 = swir2.astype('f4')\n",
    "    nbr = (nir - swir2) / (nir + swir2)\n",
    "    return nbr\n",
    "\n",
    "#Before Fire NBR Calculation\n",
    "nbr = calcNBR(Bnir,Bswir2)\n",
    "\n",
    "#After Fire NBR Calculation\n",
    "nbr2 = calcNBR(Anir,Aswir2)\n",
    "\n",
    "#Calculate dNBR\n",
    "dnbr = (nbr-nbr2)"
   ]
  },
  {
   "cell_type": "code",
   "execution_count": null,
   "metadata": {},
   "outputs": [],
   "source": [
    "#Plot dNBR\n",
    "plt.figure(figsize=(40,40))\n",
    "plt.imshow(dnbr, vmin = -1, vmax = 1, cmap = 'YlOrRd')\n",
    "plt.colorbar(shrink=0.5)\n",
    "plt.title('difference Normalized Burn Ratio Calculuation', fontsize=30)\n",
    "plt.axis('off')"
   ]
  },
  {
   "cell_type": "markdown",
   "metadata": {},
   "source": [
    "### 2.5 Creating a histogram of dNBR vaules<a id=\"2.5\"></a>\n",
    "\n",
    "Abstract: This section will plot a histogram of dNBR values for reference dNBR values are binned as follows:\n",
    "\n",
    "< -0.25, High post-fire regrowth, -0.25 to -0.1  Low post-fire regrowth, -0.1 to +0.1 Unburned, \n",
    "0.1 to 0.27, Low-severity burn, 0.27 to 0.44, Moderate-low severity burn, 0.44 to 0.66 Moderate-high severity burn, \n",
    "< 0.66 High-severity burn."
   ]
  },
  {
   "cell_type": "code",
   "execution_count": null,
   "metadata": {},
   "outputs": [],
   "source": [
    "#Plot histogram of dNBR values with custom breaks using break values as specified above\n",
    "bins = [-1, -.25, -.1, .1, .27, .44, .66, 1]\n",
    "fig, ax = plt.subplots(figsize=(12,12))\n",
    "ax.hist(dnbr.ravel(), color='blue', \n",
    "        edgecolor='white', \n",
    "        bins=bins)\n",
    "ax.set(title=\"Histogram with Custom Breaks\",\n",
    "       xlabel=\"dBNR Value\", ylabel=\"Number of Pixels\")\n",
    "ax.set_xticks(bins)"
   ]
  },
  {
   "cell_type": "markdown",
   "metadata": {},
   "source": [
    "### 2.6 Masking classes dNBR vaules to show only burned areas <a id=\"2.6\"></a>\n",
    "Abstract: In this tutorial the classes containing areas with a dNBR value of less than .1 are masked to leave only classes containing burned areas."
   ]
  },
  {
   "cell_type": "code",
   "execution_count": null,
   "metadata": {},
   "outputs": [],
   "source": [
    "#This converts the bin values to a class\n",
    "dnbrClass = np.digitize(dnbr, bins)"
   ]
  },
  {
   "cell_type": "code",
   "execution_count": null,
   "metadata": {},
   "outputs": [],
   "source": [
    "#Show number of dBNR classes\n",
    "print(np.unique(dnbrClass))"
   ]
  },
  {
   "cell_type": "code",
   "execution_count": null,
   "metadata": {},
   "outputs": [],
   "source": [
    "#Here we will plot areas of low, moderate and high burn intensity so the first 3 clases are masked\n",
    "dnbrClassmask = np.ma.masked_where(dnbrClass <=3, dnbrClass, copy=True)"
   ]
  },
  {
   "cell_type": "code",
   "execution_count": null,
   "metadata": {},
   "outputs": [],
   "source": [
    "#Print masked array\n",
    "dnbrClassmask"
   ]
  },
  {
   "cell_type": "code",
   "execution_count": null,
   "metadata": {},
   "outputs": [],
   "source": [
    "#Insp Masked array to verify classes 1, 2, 3 have been masked\n",
    "print(np.unique(dnbrClassmask))"
   ]
  },
  {
   "cell_type": "markdown",
   "metadata": {},
   "source": [
    "### 2.7 Creating and exporting custom layouts <a id=\"2.7\"></a>\n",
    "Abstract: In this tutorial a custom layout is created showing areas with low, moderate and high burn intensity. For display purposes the scene from before the fire is used as a basemap with the final burn intensity placed over. The final layout can also be exported as a TIF for later use."
   ]
  },
  {
   "cell_type": "code",
   "execution_count": null,
   "metadata": {},
   "outputs": [],
   "source": [
    "#Define color ramp for classes\n",
    "colors = ['Green','Yellow', 'Red']\n",
    "\n",
    "#Define Labels for Legend\n",
    "fireLabels = ['Low',\"Moderate\", \"High\"]\n",
    "\n",
    "#Create Legend\n",
    "patches = [Patch(color=icolor, label=label)\n",
    "                  for icolor, label in zip(colors, fireLabels)]\n",
    "\n",
    "#Assign Color Camp to cmap parameter\n",
    "cmap = ListedColormap(colors)\n",
    "\n",
    "#Create Plot Size\n",
    "fig, ax = plt.subplots(figsize=(40, 20))\n",
    "ax.set(title=\"Burn Intensity of Camp Fire (2018)\")\n",
    "\n",
    "#Show three class (low, moderate, high dNBR plot)\n",
    "ax.imshow(dnbrClassmask, cmap=cmap)\n",
    "\n",
    "#Show basemap with transparency\n",
    "ax.imshow(Bcomp, alpha = .2)\n",
    "\n",
    "#Show Legend\n",
    "ax.legend(handles=patches, title_fontsize = '20', title = 'Burn Intensity',\n",
    "         facecolor =\"white\",\n",
    "         edgecolor = \"white\",\n",
    "         loc = 'upper right',\n",
    "         frameon=True,\n",
    "         prop=dict(size=18)) \n",
    "\n",
    "#Turn off axis\n",
    "ax.set_axis_off();"
   ]
  },
  {
   "cell_type": "code",
   "execution_count": null,
   "metadata": {},
   "outputs": [],
   "source": [
    "fig.savefig('plot.tif')"
   ]
  },
  {
   "cell_type": "code",
   "execution_count": null,
   "metadata": {},
   "outputs": [],
   "source": []
  }
 ],
 "metadata": {
  "kernelspec": {
   "display_name": "Python 3",
   "language": "python",
   "name": "python3"
  },
  "language_info": {
   "codemirror_mode": {
    "name": "ipython",
    "version": 3
   },
   "file_extension": ".py",
   "mimetype": "text/x-python",
   "name": "python",
   "nbconvert_exporter": "python",
   "pygments_lexer": "ipython3",
   "version": "3.7.3"
  }
 },
 "nbformat": 4,
 "nbformat_minor": 2
}
