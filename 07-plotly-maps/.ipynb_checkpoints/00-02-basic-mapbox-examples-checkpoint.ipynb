{
 "cells": [
  {
   "cell_type": "markdown",
   "metadata": {},
   "source": [
    "# ref\n",
    "\n",
    "https://plotly.com/python/scattermapbox/#basic-example-with-plotly-express"
   ]
  },
  {
   "cell_type": "code",
   "execution_count": 10,
   "metadata": {},
   "outputs": [
    {
     "name": "stdout",
     "output_type": "stream",
     "text": [
      "Requirement already satisfied: plotly in /opt/tljh/user/lib/python3.7/site-packages (4.5.2)\n",
      "Requirement already satisfied: retrying>=1.3.3 in /opt/tljh/user/lib/python3.7/site-packages (from plotly) (1.3.3)\n",
      "Requirement already satisfied: six in /opt/tljh/user/lib/python3.7/site-packages (from plotly) (1.12.0)\n",
      "Collecting plotly.express\n",
      "  Using cached https://files.pythonhosted.org/packages/d4/d6/8a2906f51e073a4be80cab35cfa10e7a34853e60f3ed5304ac470852a08d/plotly_express-0.4.1-py2.py3-none-any.whl\n",
      "Requirement already satisfied: plotly>=4.1.0 in /opt/tljh/user/lib/python3.7/site-packages (from plotly.express) (4.5.2)\n",
      "Requirement already satisfied: scipy>=0.18 in /opt/tljh/user/lib/python3.7/site-packages (from plotly.express) (1.4.1)\n",
      "Requirement already satisfied: patsy>=0.5 in /home/jupyter-butzer/.local/lib/python3.7/site-packages (from plotly.express) (0.5.1)\n",
      "Requirement already satisfied: statsmodels>=0.9.0 in /home/jupyter-butzer/.local/lib/python3.7/site-packages (from plotly.express) (0.11.1)\n",
      "Requirement already satisfied: numpy>=1.11 in /opt/tljh/user/lib/python3.7/site-packages (from plotly.express) (1.18.1)\n",
      "Requirement already satisfied: pandas>=0.20.0 in /opt/tljh/user/lib/python3.7/site-packages (from plotly.express) (1.0.1)\n",
      "Requirement already satisfied: retrying>=1.3.3 in /opt/tljh/user/lib/python3.7/site-packages (from plotly>=4.1.0->plotly.express) (1.3.3)\n",
      "Requirement already satisfied: six in /opt/tljh/user/lib/python3.7/site-packages (from plotly>=4.1.0->plotly.express) (1.12.0)\n",
      "Requirement already satisfied: python-dateutil>=2.6.1 in /home/jupyter-butzer/.local/lib/python3.7/site-packages (from pandas>=0.20.0->plotly.express) (2.7.5)\n",
      "Requirement already satisfied: pytz>=2017.2 in /opt/tljh/user/lib/python3.7/site-packages (from pandas>=0.20.0->plotly.express) (2019.3)\n",
      "Installing collected packages: plotly.express\n",
      "Successfully installed plotly.express\n"
     ]
    }
   ],
   "source": [
    "#! pip uninstall  -y plotly\n",
    "! pip install --user plotly\n",
    "! pip install --user plotly.express"
   ]
  },
  {
   "cell_type": "code",
   "execution_count": 11,
   "metadata": {},
   "outputs": [
    {
     "ename": "ModuleNotFoundError",
     "evalue": "No module named 'plotly.express'",
     "output_type": "error",
     "traceback": [
      "\u001b[0;31m---------------------------------------------------------------------------\u001b[0m",
      "\u001b[0;31mModuleNotFoundError\u001b[0m                       Traceback (most recent call last)",
      "\u001b[0;32m<ipython-input-11-51ca8108c050>\u001b[0m in \u001b[0;36m<module>\u001b[0;34m\u001b[0m\n\u001b[0;32m----> 1\u001b[0;31m \u001b[0;32mimport\u001b[0m \u001b[0mplotly\u001b[0m\u001b[0;34m.\u001b[0m\u001b[0mexpress\u001b[0m \u001b[0;32mas\u001b[0m \u001b[0mpx\u001b[0m\u001b[0;34m\u001b[0m\u001b[0;34m\u001b[0m\u001b[0m\n\u001b[0m\u001b[1;32m      2\u001b[0m \u001b[0mpx\u001b[0m\u001b[0;34m.\u001b[0m\u001b[0mset_mapbox_access_token\u001b[0m\u001b[0;34m(\u001b[0m\u001b[0mopen\u001b[0m\u001b[0;34m(\u001b[0m\u001b[0;34m\".mapbox_token\"\u001b[0m\u001b[0;34m)\u001b[0m\u001b[0;34m.\u001b[0m\u001b[0mread\u001b[0m\u001b[0;34m(\u001b[0m\u001b[0;34m)\u001b[0m\u001b[0;34m)\u001b[0m\u001b[0;34m\u001b[0m\u001b[0;34m\u001b[0m\u001b[0m\n\u001b[1;32m      3\u001b[0m \u001b[0mdf\u001b[0m \u001b[0;34m=\u001b[0m \u001b[0mpx\u001b[0m\u001b[0;34m.\u001b[0m\u001b[0mdata\u001b[0m\u001b[0;34m.\u001b[0m\u001b[0mcarshare\u001b[0m\u001b[0;34m(\u001b[0m\u001b[0;34m)\u001b[0m\u001b[0;34m\u001b[0m\u001b[0;34m\u001b[0m\u001b[0m\n\u001b[1;32m      4\u001b[0m fig = px.scatter_mapbox(df, lat=\"centroid_lat\", lon=\"centroid_lon\",     color=\"peak_hour\", size=\"car_hours\",\n\u001b[1;32m      5\u001b[0m                   color_continuous_scale=px.colors.cyclical.IceFire, size_max=15, zoom=10)\n",
      "\u001b[0;31mModuleNotFoundError\u001b[0m: No module named 'plotly.express'"
     ]
    }
   ],
   "source": [
    "import plotly.express as px\n",
    "px.set_mapbox_access_token(open(\".mapbox_token\").read())\n",
    "df = px.data.carshare()\n",
    "fig = px.scatter_mapbox(df, lat=\"centroid_lat\", lon=\"centroid_lon\",     color=\"peak_hour\", size=\"car_hours\",\n",
    "                  color_continuous_scale=px.colors.cyclical.IceFire, size_max=15, zoom=10)\n",
    "fig.show()"
   ]
  },
  {
   "cell_type": "code",
   "execution_count": null,
   "metadata": {},
   "outputs": [],
   "source": []
  }
 ],
 "metadata": {
  "kernelspec": {
   "display_name": "Python 3",
   "language": "python",
   "name": "python3"
  },
  "language_info": {
   "codemirror_mode": {
    "name": "ipython",
    "version": 3
   },
   "file_extension": ".py",
   "mimetype": "text/x-python",
   "name": "python",
   "nbconvert_exporter": "python",
   "pygments_lexer": "ipython3",
   "version": "3.7.3"
  }
 },
 "nbformat": 4,
 "nbformat_minor": 4
}
